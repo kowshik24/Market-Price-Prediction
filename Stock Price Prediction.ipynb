{
  "cells": [
    {
      "cell_type": "code",
      "execution_count": 1,
      "metadata": {
        "colab": {
          "base_uri": "https://localhost:8080/"
        },
        "id": "_-B_I-KkOKcp",
        "outputId": "9850e582-11c3-46f6-e45b-44ad034697f8"
      },
      "outputs": [
        {
          "name": "stdout",
          "output_type": "stream",
          "text": [
            "Looking in indexes: https://pypi.org/simple, https://us-python.pkg.dev/colab-wheels/public/simple/\n",
            "Collecting pmdarima\n",
            "  Downloading pmdarima-2.0.1-cp37-cp37m-manylinux_2_17_x86_64.manylinux2014_x86_64.manylinux_2_28_x86_64.whl (1.8 MB)\n",
            "\u001b[K     |████████████████████████████████| 1.8 MB 10.5 MB/s \n",
            "\u001b[?25hRequirement already satisfied: numpy>=1.21 in /usr/local/lib/python3.7/dist-packages (from pmdarima) (1.21.6)\n",
            "Requirement already satisfied: scikit-learn>=0.22 in /usr/local/lib/python3.7/dist-packages (from pmdarima) (1.0.2)\n",
            "Collecting statsmodels>=0.13.2\n",
            "  Downloading statsmodels-0.13.5-cp37-cp37m-manylinux_2_17_x86_64.manylinux2014_x86_64.whl (9.9 MB)\n",
            "\u001b[K     |████████████████████████████████| 9.9 MB 58.7 MB/s \n",
            "\u001b[?25hRequirement already satisfied: setuptools!=50.0.0,>=38.6.0 in /usr/local/lib/python3.7/dist-packages (from pmdarima) (57.4.0)\n",
            "Requirement already satisfied: urllib3 in /usr/local/lib/python3.7/dist-packages (from pmdarima) (1.24.3)\n",
            "Requirement already satisfied: Cython!=0.29.18,!=0.29.31,>=0.29 in /usr/local/lib/python3.7/dist-packages (from pmdarima) (0.29.32)\n",
            "Requirement already satisfied: joblib>=0.11 in /usr/local/lib/python3.7/dist-packages (from pmdarima) (1.2.0)\n",
            "Requirement already satisfied: scipy>=1.3.2 in /usr/local/lib/python3.7/dist-packages (from pmdarima) (1.7.3)\n",
            "Requirement already satisfied: pandas>=0.19 in /usr/local/lib/python3.7/dist-packages (from pmdarima) (1.3.5)\n",
            "Requirement already satisfied: pytz>=2017.3 in /usr/local/lib/python3.7/dist-packages (from pandas>=0.19->pmdarima) (2022.6)\n",
            "Requirement already satisfied: python-dateutil>=2.7.3 in /usr/local/lib/python3.7/dist-packages (from pandas>=0.19->pmdarima) (2.8.2)\n",
            "Requirement already satisfied: six>=1.5 in /usr/local/lib/python3.7/dist-packages (from python-dateutil>=2.7.3->pandas>=0.19->pmdarima) (1.15.0)\n",
            "Requirement already satisfied: threadpoolctl>=2.0.0 in /usr/local/lib/python3.7/dist-packages (from scikit-learn>=0.22->pmdarima) (3.1.0)\n",
            "Requirement already satisfied: packaging>=21.3 in /usr/local/lib/python3.7/dist-packages (from statsmodels>=0.13.2->pmdarima) (21.3)\n",
            "Requirement already satisfied: patsy>=0.5.2 in /usr/local/lib/python3.7/dist-packages (from statsmodels>=0.13.2->pmdarima) (0.5.3)\n",
            "Requirement already satisfied: pyparsing!=3.0.5,>=2.0.2 in /usr/local/lib/python3.7/dist-packages (from packaging>=21.3->statsmodels>=0.13.2->pmdarima) (3.0.9)\n",
            "Installing collected packages: statsmodels, pmdarima\n",
            "  Attempting uninstall: statsmodels\n",
            "    Found existing installation: statsmodels 0.12.2\n",
            "    Uninstalling statsmodels-0.12.2:\n",
            "      Successfully uninstalled statsmodels-0.12.2\n",
            "Successfully installed pmdarima-2.0.1 statsmodels-0.13.5\n"
          ]
        }
      ],
      "source": [
        "!pip install pmdarima"
      ]
    },
    {
      "cell_type": "code",
      "execution_count": 2,
      "metadata": {
        "id": "66Lh4jTVOPjb"
      },
      "outputs": [],
      "source": [
        "import pandas as pd\n",
        "import numpy as np\n",
        "import matplotlib.pyplot as plt\n",
        "%matplotlib inline\n",
        "from statsmodels.tsa.seasonal import seasonal_decompose\n",
        "from statsmodels.tsa.arima_model import ARIMA\n",
        "from pmdarima.arima import auto_arima\n",
        "from sklearn.metrics import mean_squared_error, mean_absolute_error\n",
        "import math\n",
        "from statsmodels.tsa.statespace.sarimax import SARIMAX\n",
        "from statsmodels.graphics.tsaplots import plot_acf,plot_pacf \n",
        "from statsmodels.tsa.seasonal import seasonal_decompose \n",
        "#from pmdarima import auto_arima                        \n",
        "from sklearn.metrics import mean_squared_error\n",
        "from statsmodels.tools.eval_measures import rmse\n",
        "import warnings\n",
        "warnings.filterwarnings(\"ignore\")"
      ]
    },
    {
      "cell_type": "code",
      "execution_count": 3,
      "metadata": {
        "colab": {
          "base_uri": "https://localhost:8080/"
        },
        "id": "hUHI4TabObar",
        "outputId": "121e3f57-4074-4a13-9fb6-8475bda506d9"
      },
      "outputs": [
        {
          "name": "stdout",
          "output_type": "stream",
          "text": [
            "Mounted at /content/drive\n",
            "/content/drive/My Drive/DataSets/Project\n"
          ]
        }
      ],
      "source": [
        "from google.colab import drive\n",
        "drive.mount('/content/drive')\n",
        "\n",
        "%cd /content/drive/My Drive/DataSets/Project\n"
      ]
    },
    {
      "cell_type": "code",
      "execution_count": 4,
      "metadata": {
        "id": "JyYdZXg_Oh3D"
      },
      "outputs": [],
      "source": [
        "df = pd.read_csv(\"Cleaned.csv\",parse_dates=[\"DATE\"],index_col=[\"DATE\"])"
      ]
    },
    {
      "cell_type": "code",
      "execution_count": 5,
      "metadata": {
        "colab": {
          "base_uri": "https://localhost:8080/",
          "height": 708
        },
        "id": "41J8fQeAPUMc",
        "outputId": "14d6c857-b806-4a16-984d-46959814abda"
      },
      "outputs": [
        {
          "data": {
            "text/html": [
              "\n",
              "  <div id=\"df-020f13d9-0c73-48ec-9df1-a2433096324a\">\n",
              "    <div class=\"colab-df-container\">\n",
              "      <div>\n",
              "<style scoped>\n",
              "    .dataframe tbody tr th:only-of-type {\n",
              "        vertical-align: middle;\n",
              "    }\n",
              "\n",
              "    .dataframe tbody tr th {\n",
              "        vertical-align: top;\n",
              "    }\n",
              "\n",
              "    .dataframe thead th {\n",
              "        text-align: right;\n",
              "    }\n",
              "</style>\n",
              "<table border=\"1\" class=\"dataframe\">\n",
              "  <thead>\n",
              "    <tr style=\"text-align: right;\">\n",
              "      <th></th>\n",
              "      <th>BEVERAGE CLEAR FLAVOUR</th>\n",
              "    </tr>\n",
              "    <tr>\n",
              "      <th>DATE</th>\n",
              "      <th></th>\n",
              "    </tr>\n",
              "  </thead>\n",
              "  <tbody>\n",
              "    <tr>\n",
              "      <th>2019-01-19</th>\n",
              "      <td>66208</td>\n",
              "    </tr>\n",
              "    <tr>\n",
              "      <th>2019-02-19</th>\n",
              "      <td>51019</td>\n",
              "    </tr>\n",
              "    <tr>\n",
              "      <th>2019-03-19</th>\n",
              "      <td>81595</td>\n",
              "    </tr>\n",
              "    <tr>\n",
              "      <th>2019-04-19</th>\n",
              "      <td>106862</td>\n",
              "    </tr>\n",
              "    <tr>\n",
              "      <th>2019-05-19</th>\n",
              "      <td>171290</td>\n",
              "    </tr>\n",
              "    <tr>\n",
              "      <th>2019-06-19</th>\n",
              "      <td>118716</td>\n",
              "    </tr>\n",
              "    <tr>\n",
              "      <th>2019-07-19</th>\n",
              "      <td>102192</td>\n",
              "    </tr>\n",
              "    <tr>\n",
              "      <th>2019-08-19</th>\n",
              "      <td>136872</td>\n",
              "    </tr>\n",
              "    <tr>\n",
              "      <th>2019-09-19</th>\n",
              "      <td>119343</td>\n",
              "    </tr>\n",
              "    <tr>\n",
              "      <th>2019-10-19</th>\n",
              "      <td>70159</td>\n",
              "    </tr>\n",
              "    <tr>\n",
              "      <th>2019-11-19</th>\n",
              "      <td>62306</td>\n",
              "    </tr>\n",
              "    <tr>\n",
              "      <th>2019-12-19</th>\n",
              "      <td>32007</td>\n",
              "    </tr>\n",
              "    <tr>\n",
              "      <th>2020-01-20</th>\n",
              "      <td>43928</td>\n",
              "    </tr>\n",
              "    <tr>\n",
              "      <th>2020-02-20</th>\n",
              "      <td>122644</td>\n",
              "    </tr>\n",
              "    <tr>\n",
              "      <th>2020-03-20</th>\n",
              "      <td>128886</td>\n",
              "    </tr>\n",
              "    <tr>\n",
              "      <th>2020-04-20</th>\n",
              "      <td>36602</td>\n",
              "    </tr>\n",
              "    <tr>\n",
              "      <th>2020-05-20</th>\n",
              "      <td>143108</td>\n",
              "    </tr>\n",
              "    <tr>\n",
              "      <th>2020-06-20</th>\n",
              "      <td>73523</td>\n",
              "    </tr>\n",
              "    <tr>\n",
              "      <th>2020-07-20</th>\n",
              "      <td>97716</td>\n",
              "    </tr>\n",
              "    <tr>\n",
              "      <th>2020-08-20</th>\n",
              "      <td>102209</td>\n",
              "    </tr>\n",
              "  </tbody>\n",
              "</table>\n",
              "</div>\n",
              "      <button class=\"colab-df-convert\" onclick=\"convertToInteractive('df-020f13d9-0c73-48ec-9df1-a2433096324a')\"\n",
              "              title=\"Convert this dataframe to an interactive table.\"\n",
              "              style=\"display:none;\">\n",
              "        \n",
              "  <svg xmlns=\"http://www.w3.org/2000/svg\" height=\"24px\"viewBox=\"0 0 24 24\"\n",
              "       width=\"24px\">\n",
              "    <path d=\"M0 0h24v24H0V0z\" fill=\"none\"/>\n",
              "    <path d=\"M18.56 5.44l.94 2.06.94-2.06 2.06-.94-2.06-.94-.94-2.06-.94 2.06-2.06.94zm-11 1L8.5 8.5l.94-2.06 2.06-.94-2.06-.94L8.5 2.5l-.94 2.06-2.06.94zm10 10l.94 2.06.94-2.06 2.06-.94-2.06-.94-.94-2.06-.94 2.06-2.06.94z\"/><path d=\"M17.41 7.96l-1.37-1.37c-.4-.4-.92-.59-1.43-.59-.52 0-1.04.2-1.43.59L10.3 9.45l-7.72 7.72c-.78.78-.78 2.05 0 2.83L4 21.41c.39.39.9.59 1.41.59.51 0 1.02-.2 1.41-.59l7.78-7.78 2.81-2.81c.8-.78.8-2.07 0-2.86zM5.41 20L4 18.59l7.72-7.72 1.47 1.35L5.41 20z\"/>\n",
              "  </svg>\n",
              "      </button>\n",
              "      \n",
              "  <style>\n",
              "    .colab-df-container {\n",
              "      display:flex;\n",
              "      flex-wrap:wrap;\n",
              "      gap: 12px;\n",
              "    }\n",
              "\n",
              "    .colab-df-convert {\n",
              "      background-color: #E8F0FE;\n",
              "      border: none;\n",
              "      border-radius: 50%;\n",
              "      cursor: pointer;\n",
              "      display: none;\n",
              "      fill: #1967D2;\n",
              "      height: 32px;\n",
              "      padding: 0 0 0 0;\n",
              "      width: 32px;\n",
              "    }\n",
              "\n",
              "    .colab-df-convert:hover {\n",
              "      background-color: #E2EBFA;\n",
              "      box-shadow: 0px 1px 2px rgba(60, 64, 67, 0.3), 0px 1px 3px 1px rgba(60, 64, 67, 0.15);\n",
              "      fill: #174EA6;\n",
              "    }\n",
              "\n",
              "    [theme=dark] .colab-df-convert {\n",
              "      background-color: #3B4455;\n",
              "      fill: #D2E3FC;\n",
              "    }\n",
              "\n",
              "    [theme=dark] .colab-df-convert:hover {\n",
              "      background-color: #434B5C;\n",
              "      box-shadow: 0px 1px 3px 1px rgba(0, 0, 0, 0.15);\n",
              "      filter: drop-shadow(0px 1px 2px rgba(0, 0, 0, 0.3));\n",
              "      fill: #FFFFFF;\n",
              "    }\n",
              "  </style>\n",
              "\n",
              "      <script>\n",
              "        const buttonEl =\n",
              "          document.querySelector('#df-020f13d9-0c73-48ec-9df1-a2433096324a button.colab-df-convert');\n",
              "        buttonEl.style.display =\n",
              "          google.colab.kernel.accessAllowed ? 'block' : 'none';\n",
              "\n",
              "        async function convertToInteractive(key) {\n",
              "          const element = document.querySelector('#df-020f13d9-0c73-48ec-9df1-a2433096324a');\n",
              "          const dataTable =\n",
              "            await google.colab.kernel.invokeFunction('convertToInteractive',\n",
              "                                                     [key], {});\n",
              "          if (!dataTable) return;\n",
              "\n",
              "          const docLinkHtml = 'Like what you see? Visit the ' +\n",
              "            '<a target=\"_blank\" href=https://colab.research.google.com/notebooks/data_table.ipynb>data table notebook</a>'\n",
              "            + ' to learn more about interactive tables.';\n",
              "          element.innerHTML = '';\n",
              "          dataTable['output_type'] = 'display_data';\n",
              "          await google.colab.output.renderOutput(dataTable, element);\n",
              "          const docLink = document.createElement('div');\n",
              "          docLink.innerHTML = docLinkHtml;\n",
              "          element.appendChild(docLink);\n",
              "        }\n",
              "      </script>\n",
              "    </div>\n",
              "  </div>\n",
              "  "
            ],
            "text/plain": [
              "            BEVERAGE CLEAR FLAVOUR\n",
              "DATE                              \n",
              "2019-01-19                   66208\n",
              "2019-02-19                   51019\n",
              "2019-03-19                   81595\n",
              "2019-04-19                  106862\n",
              "2019-05-19                  171290\n",
              "2019-06-19                  118716\n",
              "2019-07-19                  102192\n",
              "2019-08-19                  136872\n",
              "2019-09-19                  119343\n",
              "2019-10-19                   70159\n",
              "2019-11-19                   62306\n",
              "2019-12-19                   32007\n",
              "2020-01-20                   43928\n",
              "2020-02-20                  122644\n",
              "2020-03-20                  128886\n",
              "2020-04-20                   36602\n",
              "2020-05-20                  143108\n",
              "2020-06-20                   73523\n",
              "2020-07-20                   97716\n",
              "2020-08-20                  102209"
            ]
          },
          "execution_count": 5,
          "metadata": {},
          "output_type": "execute_result"
        }
      ],
      "source": [
        "df.head(n=20)"
      ]
    },
    {
      "cell_type": "code",
      "execution_count": 6,
      "metadata": {
        "colab": {
          "base_uri": "https://localhost:8080/"
        },
        "id": "QFp2LMA3IajI",
        "outputId": "877a6681-7a04-489f-f433-f56cb53d4297"
      },
      "outputs": [
        {
          "name": "stdout",
          "output_type": "stream",
          "text": [
            "<class 'pandas.core.frame.DataFrame'>\n",
            "DatetimeIndex: 45 entries, 2019-01-19 to 2022-09-22\n",
            "Data columns (total 1 columns):\n",
            " #   Column                  Non-Null Count  Dtype\n",
            "---  ------                  --------------  -----\n",
            " 0   BEVERAGE CLEAR FLAVOUR  45 non-null     int64\n",
            "dtypes: int64(1)\n",
            "memory usage: 720.0 bytes\n"
          ]
        }
      ],
      "source": [
        "df.info()"
      ]
    },
    {
      "cell_type": "code",
      "execution_count": 7,
      "metadata": {
        "colab": {
          "base_uri": "https://localhost:8080/"
        },
        "id": "dtWsRkFyIciG",
        "outputId": "1fa669c0-a466-4986-f7a9-de4f5a6c6f39"
      },
      "outputs": [
        {
          "data": {
            "text/plain": [
              "BEVERAGE CLEAR FLAVOUR    0\n",
              "dtype: int64"
            ]
          },
          "execution_count": 7,
          "metadata": {},
          "output_type": "execute_result"
        }
      ],
      "source": [
        "df.isnull().sum()"
      ]
    },
    {
      "cell_type": "code",
      "execution_count": 8,
      "metadata": {
        "colab": {
          "base_uri": "https://localhost:8080/",
          "height": 537
        },
        "id": "CPPB7v3gPcQT",
        "outputId": "954e8e7f-5510-4684-e8d5-4040614e18c5"
      },
      "outputs": [
        {
          "data": {
            "image/png": "[encoded data removed]",
            "text/plain": [
              "<Figure size 1296x648 with 1 Axes>"
            ]
          },
          "metadata": {
            "needs_background": "light"
          },
          "output_type": "display_data"
        }
      ],
      "source": [
        "plt.figure(figsize=(18,9))\n",
        "plt.plot(df.index, df[\"BEVERAGE CLEAR FLAVOUR\"], linestyle=\"-\")\n",
        "plt.xlabel=('DATE')\n",
        "plt.ylabel=('BEVERAGE CLEAR FLAVOUR')\n",
        "plt.show();"
      ]
    },
    {
      "cell_type": "code",
      "execution_count": 9,
      "metadata": {
        "colab": {
          "base_uri": "https://localhost:8080/",
          "height": 297
        },
        "id": "J_Z6eGarJKWP",
        "outputId": "f3d05b63-9de9-4ef8-d7b6-273155d7135c"
      },
      "outputs": [
        {
          "data": {
            "image/png": "[encoded data removed]",
            "text/plain": [
              "<Figure size 432x288 with 4 Axes>"
            ]
          },
          "metadata": {
            "needs_background": "light"
          },
          "output_type": "display_data"
        }
      ],
      "source": [
        "\n",
        "a = seasonal_decompose(df['BEVERAGE CLEAR FLAVOUR'], model = \"additive\",period=12)\n",
        "a.plot();"
      ]
    },
    {
      "cell_type": "code",
      "execution_count": 10,
      "metadata": {
        "colab": {
          "base_uri": "https://localhost:8080/",
          "height": 282
        },
        "id": "PBP9ljo89Wfz",
        "outputId": "22d74772-daca-49ce-cf7d-5eb3ef3b789f"
      },
      "outputs": [
        {
          "data": {
            "text/plain": [
              "[<matplotlib.lines.Line2D at 0x7f8f8bbc4750>]"
            ]
          },
          "execution_count": 10,
          "metadata": {},
          "output_type": "execute_result"
        },
        {
          "data": {
            "image/png": "[encoded data removed]",
            "text/plain": [
              "<Figure size 432x288 with 1 Axes>"
            ]
          },
          "metadata": {
            "needs_background": "light"
          },
          "output_type": "display_data"
        }
      ],
      "source": [
        "plt.plot(a.trend)"
      ]
    },
    {
      "cell_type": "code",
      "execution_count": 11,
      "metadata": {
        "colab": {
          "base_uri": "https://localhost:8080/",
          "height": 282
        },
        "id": "vmzbmAL59eOM",
        "outputId": "3dc2c7a0-0a5d-48e4-f1ee-f416bc302a07"
      },
      "outputs": [
        {
          "data": {
            "text/plain": [
              "[<matplotlib.lines.Line2D at 0x7f8f8bc02450>]"
            ]
          },
          "execution_count": 11,
          "metadata": {},
          "output_type": "execute_result"
        },
        {
          "data": {
            "image/png": "[encoded data removed]",
            "text/plain": [
              "<Figure size 432x288 with 1 Axes>"
            ]
          },
          "metadata": {
            "needs_background": "light"
          },
          "output_type": "display_data"
        }
      ],
      "source": [
        "plt.plot(a.seasonal)"
      ]
    },
    {
      "cell_type": "code",
      "execution_count": 12,
      "metadata": {
        "colab": {
          "base_uri": "https://localhost:8080/",
          "height": 282
        },
        "id": "K4P7Xi3u9lVs",
        "outputId": "85245917-1477-4938-ea67-afd4aa90c7ae"
      },
      "outputs": [
        {
          "data": {
            "text/plain": [
              "[<matplotlib.lines.Line2D at 0x7f8f8e460390>]"
            ]
          },
          "execution_count": 12,
          "metadata": {},
          "output_type": "execute_result"
        },
        {
          "data": {
            "image/png": "[encoded data removed]",
            "text/plain": [
              "<Figure size 432x288 with 1 Axes>"
            ]
          },
          "metadata": {
            "needs_background": "light"
          },
          "output_type": "display_data"
        }
      ],
      "source": [
        "plt.plot(a.resid)"
      ]
    },
    {
      "cell_type": "code",
      "execution_count": 13,
      "metadata": {
        "colab": {
          "base_uri": "https://localhost:8080/",
          "height": 424
        },
        "id": "7wl9mETeP3dS",
        "outputId": "d1e438b2-1758-46ba-f4b4-064c8d6bb9f8"
      },
      "outputs": [
        {
          "data": {
            "image/png": "[encoded data removed]",
            "text/plain": [
              "<Figure size 1152x504 with 1 Axes>"
            ]
          },
          "metadata": {
            "needs_background": "light"
          },
          "output_type": "display_data"
        }
      ],
      "source": [
        "import matplotlib.pyplot as plt\n",
        "plt.figure(figsize = (16,7))\n",
        "a.seasonal.plot();"
      ]
    },
    {
      "cell_type": "code",
      "execution_count": 14,
      "metadata": {
        "id": "0yDO_RTwP9SS"
      },
      "outputs": [],
      "source": [
        "train_data = df[:len(df)-8]\n",
        "test_data = df[len(df)-8:]"
      ]
    },
    {
      "cell_type": "code",
      "execution_count": 15,
      "metadata": {
        "colab": {
          "base_uri": "https://localhost:8080/"
        },
        "id": "NQR38djf92yd",
        "outputId": "81cabd69-5346-4c3e-d0d0-e97701988b91"
      },
      "outputs": [
        {
          "name": "stdout",
          "output_type": "stream",
          "text": [
            "(37, 1)\n",
            "(8, 1)\n"
          ]
        }
      ],
      "source": [
        "print(train_data.shape)\n",
        "print(test_data.shape)"
      ]
    },
    {
      "cell_type": "code",
      "execution_count": 16,
      "metadata": {
        "colab": {
          "base_uri": "https://localhost:8080/",
          "height": 461
        },
        "id": "V987aYMbRMva",
        "outputId": "a0454ef9-7a66-4a5f-bbaf-72da05c87906"
      },
      "outputs": [
        {
          "data": {
            "text/html": [
              "<table class=\"simpletable\">\n",
              "<caption>SARIMAX Results</caption>\n",
              "<tr>\n",
              "  <th>Dep. Variable:</th>                   <td>y</td>                <th>  No. Observations:  </th>    <td>45</td>   \n",
              "</tr>\n",
              "<tr>\n",
              "  <th>Model:</th>           <td>SARIMAX(1, 0, 0)x(0, 0, [1], 12)</td> <th>  Log Likelihood     </th> <td>-537.085</td>\n",
              "</tr>\n",
              "<tr>\n",
              "  <th>Date:</th>                    <td>Sun, 13 Nov 2022</td>         <th>  AIC                </th> <td>1082.170</td>\n",
              "</tr>\n",
              "<tr>\n",
              "  <th>Time:</th>                        <td>15:17:47</td>             <th>  BIC                </th> <td>1089.397</td>\n",
              "</tr>\n",
              "<tr>\n",
              "  <th>Sample:</th>                          <td>0</td>                <th>  HQIC               </th> <td>1084.864</td>\n",
              "</tr>\n",
              "<tr>\n",
              "  <th></th>                               <td> - 45</td>              <th>                     </th>     <td> </td>   \n",
              "</tr>\n",
              "<tr>\n",
              "  <th>Covariance Type:</th>                <td>opg</td>               <th>                     </th>     <td> </td>   \n",
              "</tr>\n",
              "</table>\n",
              "<table class=\"simpletable\">\n",
              "<tr>\n",
              "      <td></td>         <th>coef</th>     <th>std err</th>      <th>z</th>      <th>P>|z|</th>  <th>[0.025</th>    <th>0.975]</th>  \n",
              "</tr>\n",
              "<tr>\n",
              "  <th>intercept</th> <td> 5.259e+04</td> <td> 2.55e+04</td> <td>    2.066</td> <td> 0.039</td> <td> 2689.687</td> <td> 1.02e+05</td>\n",
              "</tr>\n",
              "<tr>\n",
              "  <th>ar.L1</th>     <td>    0.4581</td> <td>    0.224</td> <td>    2.045</td> <td> 0.041</td> <td>    0.019</td> <td>    0.897</td>\n",
              "</tr>\n",
              "<tr>\n",
              "  <th>ma.S.L12</th>  <td>    0.4582</td> <td>    0.272</td> <td>    1.682</td> <td> 0.093</td> <td>   -0.076</td> <td>    0.992</td>\n",
              "</tr>\n",
              "<tr>\n",
              "  <th>sigma2</th>    <td> 1.665e+09</td> <td>    0.504</td> <td>  3.3e+09</td> <td> 0.000</td> <td> 1.66e+09</td> <td> 1.66e+09</td>\n",
              "</tr>\n",
              "</table>\n",
              "<table class=\"simpletable\">\n",
              "<tr>\n",
              "  <th>Ljung-Box (L1) (Q):</th>     <td>0.00</td> <th>  Jarque-Bera (JB):  </th> <td>1.68</td>\n",
              "</tr>\n",
              "<tr>\n",
              "  <th>Prob(Q):</th>                <td>0.99</td> <th>  Prob(JB):          </th> <td>0.43</td>\n",
              "</tr>\n",
              "<tr>\n",
              "  <th>Heteroskedasticity (H):</th> <td>1.20</td> <th>  Skew:              </th> <td>0.47</td>\n",
              "</tr>\n",
              "<tr>\n",
              "  <th>Prob(H) (two-sided):</th>    <td>0.73</td> <th>  Kurtosis:          </th> <td>3.02</td>\n",
              "</tr>\n",
              "</table><br/><br/>Warnings:<br/>[1] Covariance matrix calculated using the outer product of gradients (complex-step).<br/>[2] Covariance matrix is singular or near-singular, with condition number 4.13e+25. Standard errors may be unstable."
            ],
            "text/plain": [
              "<class 'statsmodels.iolib.summary.Summary'>\n",
              "\"\"\"\n",
              "                                      SARIMAX Results                                       \n",
              "============================================================================================\n",
              "Dep. Variable:                                    y   No. Observations:                   45\n",
              "Model:             SARIMAX(1, 0, 0)x(0, 0, [1], 12)   Log Likelihood                -537.085\n",
              "Date:                              Sun, 13 Nov 2022   AIC                           1082.170\n",
              "Time:                                      15:17:47   BIC                           1089.397\n",
              "Sample:                                           0   HQIC                          1084.864\n",
              "                                               - 45                                         \n",
              "Covariance Type:                                opg                                         \n",
              "==============================================================================\n",
              "                 coef    std err          z      P>|z|      [0.025      0.975]\n",
              "------------------------------------------------------------------------------\n",
              "intercept   5.259e+04   2.55e+04      2.066      0.039    2689.687    1.02e+05\n",
              "ar.L1          0.4581      0.224      2.045      0.041       0.019       0.897\n",
              "ma.S.L12       0.4582      0.272      1.682      0.093      -0.076       0.992\n",
              "sigma2      1.665e+09      0.504    3.3e+09      0.000    1.66e+09    1.66e+09\n",
              "===================================================================================\n",
              "Ljung-Box (L1) (Q):                   0.00   Jarque-Bera (JB):                 1.68\n",
              "Prob(Q):                              0.99   Prob(JB):                         0.43\n",
              "Heteroskedasticity (H):               1.20   Skew:                             0.47\n",
              "Prob(H) (two-sided):                  0.73   Kurtosis:                         3.02\n",
              "===================================================================================\n",
              "\n",
              "Warnings:\n",
              "[1] Covariance matrix calculated using the outer product of gradients (complex-step).\n",
              "[2] Covariance matrix is singular or near-singular, with condition number 4.13e+25. Standard errors may be unstable.\n",
              "\"\"\""
            ]
          },
          "execution_count": 16,
          "metadata": {},
          "output_type": "execute_result"
        }
      ],
      "source": [
        "auto_arima(df['BEVERAGE CLEAR FLAVOUR'], seasonal=True, m=12,max_p=7, max_d=5,max_q=7, max_P=4, max_D=4,max_Q=4).summary()"
      ]
    },
    {
      "cell_type": "markdown",
      "metadata": {
        "id": "Bar3ie43fTJ9"
      },
      "source": [
        "SARIMAX Results\n",
        "Dep. Variable:\ty\tNo. Observations:\t45\n",
        "Model:\tSARIMAX(1, 0, 0)x(0, 0, [1], 12)\tLog Likelihood\t-537.085\n",
        "Date:\tSat, 22 Oct 2022\tAIC\t1082.170\n",
        "Time:\t10:05:02\tBIC\t1089.397\n",
        "Sample:\t0\tHQIC\t1084.864\n",
        "- 45\t\t\n",
        "Covariance Type:\topg\t\t\n",
        "coef\tstd err\tz\tP>|z|\t[0.025\t0.975]\n",
        "intercept\t5.259e+04\t2.55e+04\t2.066\t0.039\t2689.687\t1.02e+05\n",
        "ar.L1\t0.4581\t0.224\t2.045\t0.041\t0.019\t0.897\n",
        "ma.S.L12\t0.4582\t0.272\t1.682\t0.093\t-0.076\t0.992\n",
        "sigma2\t1.665e+09\t0.504\t3.3e+09\t0.000\t1.66e+09\t1.66e+09\n",
        "Ljung-Box (L1) (Q):\t0.00\tJarque-Bera (JB):\t1.68\n",
        "Prob(Q):\t0.99\tProb(JB):\t0.43\n",
        "Heteroskedasticity (H):\t1.20\tSkew:\t0.47\n",
        "Prob(H) (two-sided):\t0.73\tKurtosis:\t3.02\n",
        "\n",
        "\n",
        "Warnings:\n",
        "[1] Covariance matrix calculated using the outer product of gradients (complex-step).\n",
        "[2] Covariance matrix is singular or near-singular, with condition number 1.95e+29. Standard errors may be unstable."
      ]
    },
    {
      "cell_type": "code",
      "execution_count": 17,
      "metadata": {
        "colab": {
          "base_uri": "https://localhost:8080/"
        },
        "id": "Jp6algMnQC0S",
        "outputId": "3218090f-a0d3-49e6-f413-e9844facffb5"
      },
      "outputs": [
        {
          "name": "stdout",
          "output_type": "stream",
          "text": [
            "                                      SARIMAX Results                                       \n",
            "============================================================================================\n",
            "Dep. Variable:               BEVERAGE CLEAR FLAVOUR   No. Observations:                   37\n",
            "Model:             SARIMAX(1, 0, 0)x(0, 0, [1], 12)   Log Likelihood                -445.919\n",
            "Date:                              Sun, 13 Nov 2022   AIC                            897.837\n",
            "Time:                                      15:17:47   BIC                            902.670\n",
            "Sample:                                           0   HQIC                           899.541\n",
            "                                               - 37                                         \n",
            "Covariance Type:                                opg                                         \n",
            "==============================================================================\n",
            "                 coef    std err          z      P>|z|      [0.025      0.975]\n",
            "------------------------------------------------------------------------------\n",
            "ar.L1          0.8460      0.122      6.948      0.000       0.607       1.085\n",
            "ma.S.L12       0.4667      0.293      1.595      0.111      -0.107       1.040\n",
            "sigma2      2.009e+09   8.66e-11   2.32e+19      0.000    2.01e+09    2.01e+09\n",
            "===================================================================================\n",
            "Ljung-Box (L1) (Q):                   1.19   Jarque-Bera (JB):                 0.27\n",
            "Prob(Q):                              0.28   Prob(JB):                         0.87\n",
            "Heteroskedasticity (H):               1.36   Skew:                             0.09\n",
            "Prob(H) (two-sided):                  0.61   Kurtosis:                         3.38\n",
            "===================================================================================\n",
            "\n",
            "Warnings:\n",
            "[1] Covariance matrix calculated using the outer product of gradients (complex-step).\n",
            "[2] Covariance matrix is singular or near-singular, with condition number 2.2e+35. Standard errors may be unstable.\n"
          ]
        }
      ],
      "source": [
        "arima_model = SARIMAX(train_data['BEVERAGE CLEAR FLAVOUR'], order=(1,0,0), seasonal_order = (0,0,1,12))\n",
        "arima_result = arima_model.fit()\n",
        "print(arima_result.summary())"
      ]
    },
    {
      "cell_type": "code",
      "execution_count": 18,
      "metadata": {
        "colab": {
          "base_uri": "https://localhost:8080/"
        },
        "id": "xCmiu5NvQH0K",
        "outputId": "6d500e33-086d-429a-fa00-ca73b26859de"
      },
      "outputs": [
        {
          "data": {
            "text/plain": [
              "37    51355.054967\n",
              "38    52249.584702\n",
              "39    59214.749551\n",
              "40    92528.164190\n",
              "41    73194.597143\n",
              "42    40557.310185\n",
              "43    34577.680294\n",
              "44    43345.676801\n",
              "Name: ARIMA Predictions, dtype: float64"
            ]
          },
          "execution_count": 18,
          "metadata": {},
          "output_type": "execute_result"
        }
      ],
      "source": [
        "arima_pred = arima_result.predict(start = len(train_data), end = len(df)-1, typ=\"levels\").rename(\"ARIMA Predictions\")\n",
        "arima_pred"
      ]
    },
    {
      "cell_type": "code",
      "execution_count": 19,
      "metadata": {
        "colab": {
          "base_uri": "https://localhost:8080/"
        },
        "id": "vP4e2wtOXbXt",
        "outputId": "45b7d9e9-29e3-46b8-edee-ea0ec85beb45"
      },
      "outputs": [
        {
          "name": "stdout",
          "output_type": "stream",
          "text": [
            "MSE Error: 7716449019.212764\n",
            "RMSE Error: 87843.32085715319\n",
            "Mean: 97061.93333333333\n",
            "r2_score : -3.6830079310605317\n",
            "MAPE : 0.5796333328426556\n",
            "MAD : 14325.988549092865\n",
            "MAE: 81941.77277104737\n"
          ]
        }
      ],
      "source": [
        "from sklearn.metrics import r2_score,mean_absolute_percentage_error,mean_absolute_error\n",
        "\n",
        "\n",
        "arima_rmse_error = rmse(test_data['BEVERAGE CLEAR FLAVOUR'], arima_pred)\n",
        "arima_mse_error = arima_rmse_error**2\n",
        "mean_value = df['BEVERAGE CLEAR FLAVOUR'].mean()\n",
        "r2_score_arima = r2_score(test_data['BEVERAGE CLEAR FLAVOUR'],arima_pred) \n",
        "MAPE_arima = mean_absolute_percentage_error(test_data['BEVERAGE CLEAR FLAVOUR'], arima_pred)\n",
        "MAD_arima = arima_pred.mad()\n",
        "MAE_arima = mean_absolute_error(test_data['BEVERAGE CLEAR FLAVOUR'], arima_pred)\n",
        "\n",
        "print(f'MSE Error: {arima_mse_error}\\nRMSE Error: {arima_rmse_error}\\nMean: {mean_value}\\nr2_score : {r2_score_arima}\\nMAPE : {MAPE_arima}\\nMAD : {MAD_arima}\\nMAE: {MAE_arima}')"
      ]
    },
    {
      "cell_type": "code",
      "execution_count": 20,
      "metadata": {
        "id": "qSFQRfuxXgcN"
      },
      "outputs": [],
      "source": [
        "test_data['ARIMA_Predictions'] = list(arima_pred)"
      ]
    },
    {
      "cell_type": "code",
      "execution_count": 21,
      "metadata": {
        "id": "XLK2RVUSY_fg"
      },
      "outputs": [],
      "source": [
        "test_data = test_data.drop(columns=['ARIMA_Predictions'],axis=1)"
      ]
    },
    {
      "cell_type": "code",
      "execution_count": 22,
      "metadata": {
        "colab": {
          "base_uri": "https://localhost:8080/",
          "height": 332
        },
        "id": "TMVajs1HZcGW",
        "outputId": "0379c865-c414-4a07-a423-882a6f23ceed"
      },
      "outputs": [
        {
          "data": {
            "text/html": [
              "\n",
              "  <div id=\"df-8a65b9e4-19ad-4966-9ec2-ef0230d8850f\">\n",
              "    <div class=\"colab-df-container\">\n",
              "      <div>\n",
              "<style scoped>\n",
              "    .dataframe tbody tr th:only-of-type {\n",
              "        vertical-align: middle;\n",
              "    }\n",
              "\n",
              "    .dataframe tbody tr th {\n",
              "        vertical-align: top;\n",
              "    }\n",
              "\n",
              "    .dataframe thead th {\n",
              "        text-align: right;\n",
              "    }\n",
              "</style>\n",
              "<table border=\"1\" class=\"dataframe\">\n",
              "  <thead>\n",
              "    <tr style=\"text-align: right;\">\n",
              "      <th></th>\n",
              "      <th>BEVERAGE CLEAR FLAVOUR</th>\n",
              "    </tr>\n",
              "    <tr>\n",
              "      <th>DATE</th>\n",
              "      <th></th>\n",
              "    </tr>\n",
              "  </thead>\n",
              "  <tbody>\n",
              "    <tr>\n",
              "      <th>2022-02-22</th>\n",
              "      <td>80353</td>\n",
              "    </tr>\n",
              "    <tr>\n",
              "      <th>2022-03-22</th>\n",
              "      <td>154875</td>\n",
              "    </tr>\n",
              "    <tr>\n",
              "      <th>2022-04-22</th>\n",
              "      <td>151222</td>\n",
              "    </tr>\n",
              "    <tr>\n",
              "      <th>2022-05-22</th>\n",
              "      <td>220567</td>\n",
              "    </tr>\n",
              "    <tr>\n",
              "      <th>2022-06-22</th>\n",
              "      <td>127335</td>\n",
              "    </tr>\n",
              "    <tr>\n",
              "      <th>2022-07-22</th>\n",
              "      <td>156678</td>\n",
              "    </tr>\n",
              "    <tr>\n",
              "      <th>2022-08-22</th>\n",
              "      <td>110304</td>\n",
              "    </tr>\n",
              "    <tr>\n",
              "      <th>2022-09-22</th>\n",
              "      <td>101223</td>\n",
              "    </tr>\n",
              "  </tbody>\n",
              "</table>\n",
              "</div>\n",
              "      <button class=\"colab-df-convert\" onclick=\"convertToInteractive('df-8a65b9e4-19ad-4966-9ec2-ef0230d8850f')\"\n",
              "              title=\"Convert this dataframe to an interactive table.\"\n",
              "              style=\"display:none;\">\n",
              "        \n",
              "  <svg xmlns=\"http://www.w3.org/2000/svg\" height=\"24px\"viewBox=\"0 0 24 24\"\n",
              "       width=\"24px\">\n",
              "    <path d=\"M0 0h24v24H0V0z\" fill=\"none\"/>\n",
              "    <path d=\"M18.56 5.44l.94 2.06.94-2.06 2.06-.94-2.06-.94-.94-2.06-.94 2.06-2.06.94zm-11 1L8.5 8.5l.94-2.06 2.06-.94-2.06-.94L8.5 2.5l-.94 2.06-2.06.94zm10 10l.94 2.06.94-2.06 2.06-.94-2.06-.94-.94-2.06-.94 2.06-2.06.94z\"/><path d=\"M17.41 7.96l-1.37-1.37c-.4-.4-.92-.59-1.43-.59-.52 0-1.04.2-1.43.59L10.3 9.45l-7.72 7.72c-.78.78-.78 2.05 0 2.83L4 21.41c.39.39.9.59 1.41.59.51 0 1.02-.2 1.41-.59l7.78-7.78 2.81-2.81c.8-.78.8-2.07 0-2.86zM5.41 20L4 18.59l7.72-7.72 1.47 1.35L5.41 20z\"/>\n",
              "  </svg>\n",
              "      </button>\n",
              "      \n",
              "  <style>\n",
              "    .colab-df-container {\n",
              "      display:flex;\n",
              "      flex-wrap:wrap;\n",
              "      gap: 12px;\n",
              "    }\n",
              "\n",
              "    .colab-df-convert {\n",
              "      background-color: #E8F0FE;\n",
              "      border: none;\n",
              "      border-radius: 50%;\n",
              "      cursor: pointer;\n",
              "      display: none;\n",
              "      fill: #1967D2;\n",
              "      height: 32px;\n",
              "      padding: 0 0 0 0;\n",
              "      width: 32px;\n",
              "    }\n",
              "\n",
              "    .colab-df-convert:hover {\n",
              "      background-color: #E2EBFA;\n",
              "      box-shadow: 0px 1px 2px rgba(60, 64, 67, 0.3), 0px 1px 3px 1px rgba(60, 64, 67, 0.15);\n",
              "      fill: #174EA6;\n",
              "    }\n",
              "\n",
              "    [theme=dark] .colab-df-convert {\n",
              "      background-color: #3B4455;\n",
              "      fill: #D2E3FC;\n",
              "    }\n",
              "\n",
              "    [theme=dark] .colab-df-convert:hover {\n",
              "      background-color: #434B5C;\n",
              "      box-shadow: 0px 1px 3px 1px rgba(0, 0, 0, 0.15);\n",
              "      filter: drop-shadow(0px 1px 2px rgba(0, 0, 0, 0.3));\n",
              "      fill: #FFFFFF;\n",
              "    }\n",
              "  </style>\n",
              "\n",
              "      <script>\n",
              "        const buttonEl =\n",
              "          document.querySelector('#df-8a65b9e4-19ad-4966-9ec2-ef0230d8850f button.colab-df-convert');\n",
              "        buttonEl.style.display =\n",
              "          google.colab.kernel.accessAllowed ? 'block' : 'none';\n",
              "\n",
              "        async function convertToInteractive(key) {\n",
              "          const element = document.querySelector('#df-8a65b9e4-19ad-4966-9ec2-ef0230d8850f');\n",
              "          const dataTable =\n",
              "            await google.colab.kernel.invokeFunction('convertToInteractive',\n",
              "                                                     [key], {});\n",
              "          if (!dataTable) return;\n",
              "\n",
              "          const docLinkHtml = 'Like what you see? Visit the ' +\n",
              "            '<a target=\"_blank\" href=https://colab.research.google.com/notebooks/data_table.ipynb>data table notebook</a>'\n",
              "            + ' to learn more about interactive tables.';\n",
              "          element.innerHTML = '';\n",
              "          dataTable['output_type'] = 'display_data';\n",
              "          await google.colab.output.renderOutput(dataTable, element);\n",
              "          const docLink = document.createElement('div');\n",
              "          docLink.innerHTML = docLinkHtml;\n",
              "          element.appendChild(docLink);\n",
              "        }\n",
              "      </script>\n",
              "    </div>\n",
              "  </div>\n",
              "  "
            ],
            "text/plain": [
              "            BEVERAGE CLEAR FLAVOUR\n",
              "DATE                              \n",
              "2022-02-22                   80353\n",
              "2022-03-22                  154875\n",
              "2022-04-22                  151222\n",
              "2022-05-22                  220567\n",
              "2022-06-22                  127335\n",
              "2022-07-22                  156678\n",
              "2022-08-22                  110304\n",
              "2022-09-22                  101223"
            ]
          },
          "execution_count": 22,
          "metadata": {},
          "output_type": "execute_result"
        }
      ],
      "source": [
        "test_data.head(n=8)"
      ]
    },
    {
      "cell_type": "code",
      "execution_count": 23,
      "metadata": {
        "id": "90Xn99A5ZgVe"
      },
      "outputs": [],
      "source": [
        "test_data_copy = test_data.copy()\n",
        "test_data_copy['ARIMA_Predictions'] = list( arima_pred)"
      ]
    },
    {
      "cell_type": "code",
      "execution_count": 24,
      "metadata": {
        "colab": {
          "base_uri": "https://localhost:8080/",
          "height": 332
        },
        "id": "kdQpjMWpbI5O",
        "outputId": "451382ba-0891-478d-af19-057baab59437"
      },
      "outputs": [
        {
          "data": {
            "text/html": [
              "\n",
              "  <div id=\"df-cfca6b17-aac8-4949-b41a-3726d637a421\">\n",
              "    <div class=\"colab-df-container\">\n",
              "      <div>\n",
              "<style scoped>\n",
              "    .dataframe tbody tr th:only-of-type {\n",
              "        vertical-align: middle;\n",
              "    }\n",
              "\n",
              "    .dataframe tbody tr th {\n",
              "        vertical-align: top;\n",
              "    }\n",
              "\n",
              "    .dataframe thead th {\n",
              "        text-align: right;\n",
              "    }\n",
              "</style>\n",
              "<table border=\"1\" class=\"dataframe\">\n",
              "  <thead>\n",
              "    <tr style=\"text-align: right;\">\n",
              "      <th></th>\n",
              "      <th>BEVERAGE CLEAR FLAVOUR</th>\n",
              "      <th>ARIMA_Predictions</th>\n",
              "    </tr>\n",
              "    <tr>\n",
              "      <th>DATE</th>\n",
              "      <th></th>\n",
              "      <th></th>\n",
              "    </tr>\n",
              "  </thead>\n",
              "  <tbody>\n",
              "    <tr>\n",
              "      <th>2022-02-22</th>\n",
              "      <td>80353</td>\n",
              "      <td>51355.054967</td>\n",
              "    </tr>\n",
              "    <tr>\n",
              "      <th>2022-03-22</th>\n",
              "      <td>154875</td>\n",
              "      <td>52249.584702</td>\n",
              "    </tr>\n",
              "    <tr>\n",
              "      <th>2022-04-22</th>\n",
              "      <td>151222</td>\n",
              "      <td>59214.749551</td>\n",
              "    </tr>\n",
              "    <tr>\n",
              "      <th>2022-05-22</th>\n",
              "      <td>220567</td>\n",
              "      <td>92528.164190</td>\n",
              "    </tr>\n",
              "    <tr>\n",
              "      <th>2022-06-22</th>\n",
              "      <td>127335</td>\n",
              "      <td>73194.597143</td>\n",
              "    </tr>\n",
              "    <tr>\n",
              "      <th>2022-07-22</th>\n",
              "      <td>156678</td>\n",
              "      <td>40557.310185</td>\n",
              "    </tr>\n",
              "    <tr>\n",
              "      <th>2022-08-22</th>\n",
              "      <td>110304</td>\n",
              "      <td>34577.680294</td>\n",
              "    </tr>\n",
              "    <tr>\n",
              "      <th>2022-09-22</th>\n",
              "      <td>101223</td>\n",
              "      <td>43345.676801</td>\n",
              "    </tr>\n",
              "  </tbody>\n",
              "</table>\n",
              "</div>\n",
              "      <button class=\"colab-df-convert\" onclick=\"convertToInteractive('df-cfca6b17-aac8-4949-b41a-3726d637a421')\"\n",
              "              title=\"Convert this dataframe to an interactive table.\"\n",
              "              style=\"display:none;\">\n",
              "        \n",
              "  <svg xmlns=\"http://www.w3.org/2000/svg\" height=\"24px\"viewBox=\"0 0 24 24\"\n",
              "       width=\"24px\">\n",
              "    <path d=\"M0 0h24v24H0V0z\" fill=\"none\"/>\n",
              "    <path d=\"M18.56 5.44l.94 2.06.94-2.06 2.06-.94-2.06-.94-.94-2.06-.94 2.06-2.06.94zm-11 1L8.5 8.5l.94-2.06 2.06-.94-2.06-.94L8.5 2.5l-.94 2.06-2.06.94zm10 10l.94 2.06.94-2.06 2.06-.94-2.06-.94-.94-2.06-.94 2.06-2.06.94z\"/><path d=\"M17.41 7.96l-1.37-1.37c-.4-.4-.92-.59-1.43-.59-.52 0-1.04.2-1.43.59L10.3 9.45l-7.72 7.72c-.78.78-.78 2.05 0 2.83L4 21.41c.39.39.9.59 1.41.59.51 0 1.02-.2 1.41-.59l7.78-7.78 2.81-2.81c.8-.78.8-2.07 0-2.86zM5.41 20L4 18.59l7.72-7.72 1.47 1.35L5.41 20z\"/>\n",
              "  </svg>\n",
              "      </button>\n",
              "      \n",
              "  <style>\n",
              "    .colab-df-container {\n",
              "      display:flex;\n",
              "      flex-wrap:wrap;\n",
              "      gap: 12px;\n",
              "    }\n",
              "\n",
              "    .colab-df-convert {\n",
              "      background-color: #E8F0FE;\n",
              "      border: none;\n",
              "      border-radius: 50%;\n",
              "      cursor: pointer;\n",
              "      display: none;\n",
              "      fill: #1967D2;\n",
              "      height: 32px;\n",
              "      padding: 0 0 0 0;\n",
              "      width: 32px;\n",
              "    }\n",
              "\n",
              "    .colab-df-convert:hover {\n",
              "      background-color: #E2EBFA;\n",
              "      box-shadow: 0px 1px 2px rgba(60, 64, 67, 0.3), 0px 1px 3px 1px rgba(60, 64, 67, 0.15);\n",
              "      fill: #174EA6;\n",
              "    }\n",
              "\n",
              "    [theme=dark] .colab-df-convert {\n",
              "      background-color: #3B4455;\n",
              "      fill: #D2E3FC;\n",
              "    }\n",
              "\n",
              "    [theme=dark] .colab-df-convert:hover {\n",
              "      background-color: #434B5C;\n",
              "      box-shadow: 0px 1px 3px 1px rgba(0, 0, 0, 0.15);\n",
              "      filter: drop-shadow(0px 1px 2px rgba(0, 0, 0, 0.3));\n",
              "      fill: #FFFFFF;\n",
              "    }\n",
              "  </style>\n",
              "\n",
              "      <script>\n",
              "        const buttonEl =\n",
              "          document.querySelector('#df-cfca6b17-aac8-4949-b41a-3726d637a421 button.colab-df-convert');\n",
              "        buttonEl.style.display =\n",
              "          google.colab.kernel.accessAllowed ? 'block' : 'none';\n",
              "\n",
              "        async function convertToInteractive(key) {\n",
              "          const element = document.querySelector('#df-cfca6b17-aac8-4949-b41a-3726d637a421');\n",
              "          const dataTable =\n",
              "            await google.colab.kernel.invokeFunction('convertToInteractive',\n",
              "                                                     [key], {});\n",
              "          if (!dataTable) return;\n",
              "\n",
              "          const docLinkHtml = 'Like what you see? Visit the ' +\n",
              "            '<a target=\"_blank\" href=https://colab.research.google.com/notebooks/data_table.ipynb>data table notebook</a>'\n",
              "            + ' to learn more about interactive tables.';\n",
              "          element.innerHTML = '';\n",
              "          dataTable['output_type'] = 'display_data';\n",
              "          await google.colab.output.renderOutput(dataTable, element);\n",
              "          const docLink = document.createElement('div');\n",
              "          docLink.innerHTML = docLinkHtml;\n",
              "          element.appendChild(docLink);\n",
              "        }\n",
              "      </script>\n",
              "    </div>\n",
              "  </div>\n",
              "  "
            ],
            "text/plain": [
              "            BEVERAGE CLEAR FLAVOUR  ARIMA_Predictions\n",
              "DATE                                                 \n",
              "2022-02-22                   80353       51355.054967\n",
              "2022-03-22                  154875       52249.584702\n",
              "2022-04-22                  151222       59214.749551\n",
              "2022-05-22                  220567       92528.164190\n",
              "2022-06-22                  127335       73194.597143\n",
              "2022-07-22                  156678       40557.310185\n",
              "2022-08-22                  110304       34577.680294\n",
              "2022-09-22                  101223       43345.676801"
            ]
          },
          "execution_count": 24,
          "metadata": {},
          "output_type": "execute_result"
        }
      ],
      "source": [
        "test_data_copy.head(n=8)"
      ]
    },
    {
      "cell_type": "code",
      "execution_count": 25,
      "metadata": {
        "colab": {
          "base_uri": "https://localhost:8080/",
          "height": 343
        },
        "id": "UqNaGcAKZPP3",
        "outputId": "2a8407d9-e459-4b10-d655-24084f74c5cf"
      },
      "outputs": [
        {
          "data": {
            "text/plain": [
              "<matplotlib.axes._subplots.AxesSubplot at 0x7f8f8ba92490>"
            ]
          },
          "execution_count": 25,
          "metadata": {},
          "output_type": "execute_result"
        },
        {
          "data": {
            "image/png": "[encoded data removed]",
            "text/plain": [
              "<Figure size 1152x360 with 1 Axes>"
            ]
          },
          "metadata": {
            "needs_background": "light"
          },
          "output_type": "display_data"
        }
      ],
      "source": [
        "test_data_copy['BEVERAGE CLEAR FLAVOUR'].plot(figsize = (16,5), legend=True)\n",
        "test_data_copy['ARIMA_Predictions'].plot(legend = True)"
      ]
    },
    {
      "cell_type": "markdown",
      "metadata": {
        "id": "nJUfNvZZYY9n"
      },
      "source": [
        "#### LSTM Forecast"
      ]
    },
    {
      "cell_type": "code",
      "execution_count": 26,
      "metadata": {
        "id": "LM3aGIY0YUgF"
      },
      "outputs": [],
      "source": [
        "from sklearn.preprocessing import MinMaxScaler\n",
        "scaler = MinMaxScaler()"
      ]
    },
    {
      "cell_type": "code",
      "execution_count": 27,
      "metadata": {
        "id": "g7tJzcYVYciM"
      },
      "outputs": [],
      "source": [
        "scaler.fit(train_data)\n",
        "scaled_train_data = scaler.transform(train_data)\n",
        "scaled_test_data = scaler.transform(test_data)"
      ]
    },
    {
      "cell_type": "code",
      "execution_count": 28,
      "metadata": {
        "id": "otUITHYcYezN"
      },
      "outputs": [],
      "source": [
        "from keras.preprocessing.sequence import TimeseriesGenerator\n",
        "#TimeseriesGenerator to automatically transform both univariate and multivariate time series data into samples, ready to train deep learning models.\n",
        "n_input = 3\n",
        "n_features= 1\n",
        "'''\n",
        "length: The number of lag observations to use in the input portion of each sample (e.g. 3).\n",
        "batch_size: The number of samples to return on each iteration (e.g. 32).\n",
        "'''\n",
        "generator = TimeseriesGenerator(scaled_train_data, scaled_train_data, length=n_input, batch_size=1)"
      ]
    },
    {
      "cell_type": "code",
      "execution_count": 29,
      "metadata": {
        "colab": {
          "base_uri": "https://localhost:8080/"
        },
        "id": "VbLADYEbZxDF",
        "outputId": "bdf108cd-daed-42e0-dff0-ebf69f5c873b"
      },
      "outputs": [
        {
          "name": "stderr",
          "output_type": "stream",
          "text": [
            "WARNING:tensorflow:Layer lstm will not use cuDNN kernels since it doesn't meet the criteria. It will use a generic GPU kernel as fallback when running on GPU.\n"
          ]
        },
        {
          "name": "stdout",
          "output_type": "stream",
          "text": [
            "Model: \"sequential\"\n",
            "_________________________________________________________________\n",
            " Layer (type)                Output Shape              Param #   \n",
            "=================================================================\n",
            " lstm (LSTM)                 (None, 200)               161600    \n",
            "                                                                 \n",
            " dense (Dense)               (None, 1)                 201       \n",
            "                                                                 \n",
            "=================================================================\n",
            "Total params: 161,801\n",
            "Trainable params: 161,801\n",
            "Non-trainable params: 0\n",
            "_________________________________________________________________\n"
          ]
        }
      ],
      "source": [
        "from keras.models import Sequential\n",
        "from keras.layers import Dense\n",
        "from keras.layers import LSTM\n",
        "\n",
        "lstm_model = Sequential()\n",
        "lstm_model.add(LSTM(200, activation='relu', input_shape=(n_input, n_features)))\n",
        "lstm_model.add(Dense(1))\n",
        "lstm_model.compile(optimizer='adam', loss='mse')\n",
        "\n",
        "lstm_model.summary()"
      ]
    },
    {
      "cell_type": "code",
      "execution_count": 30,
      "metadata": {
        "colab": {
          "base_uri": "https://localhost:8080/"
        },
        "id": "ZfOeV-4eZ0Gd",
        "outputId": "45430ae7-6e21-4006-8167-041abbf6e8bd"
      },
      "outputs": [
        {
          "name": "stdout",
          "output_type": "stream",
          "text": [
            "Epoch 1/20\n",
            "34/34 [==============================] - 6s 15ms/step - loss: 0.0834\n",
            "Epoch 2/20\n",
            "34/34 [==============================] - 1s 16ms/step - loss: 0.0566\n",
            "Epoch 3/20\n",
            "34/34 [==============================] - 1s 16ms/step - loss: 0.0617\n",
            "Epoch 4/20\n",
            "34/34 [==============================] - 0s 13ms/step - loss: 0.0571\n",
            "Epoch 5/20\n",
            "34/34 [==============================] - 1s 21ms/step - loss: 0.0516\n",
            "Epoch 6/20\n",
            "34/34 [==============================] - 1s 20ms/step - loss: 0.0563\n",
            "Epoch 7/20\n",
            "34/34 [==============================] - 1s 21ms/step - loss: 0.0532\n",
            "Epoch 8/20\n",
            "34/34 [==============================] - 1s 29ms/step - loss: 0.0587\n",
            "Epoch 9/20\n",
            "34/34 [==============================] - 1s 20ms/step - loss: 0.0550\n",
            "Epoch 10/20\n",
            "34/34 [==============================] - 0s 14ms/step - loss: 0.0531\n",
            "Epoch 11/20\n",
            "34/34 [==============================] - 1s 16ms/step - loss: 0.0536\n",
            "Epoch 12/20\n",
            "34/34 [==============================] - 1s 18ms/step - loss: 0.0513\n",
            "Epoch 13/20\n",
            "34/34 [==============================] - 1s 19ms/step - loss: 0.0506\n",
            "Epoch 14/20\n",
            "34/34 [==============================] - 1s 15ms/step - loss: 0.0518\n",
            "Epoch 15/20\n",
            "34/34 [==============================] - 1s 24ms/step - loss: 0.0506\n",
            "Epoch 16/20\n",
            "34/34 [==============================] - 1s 28ms/step - loss: 0.0507\n",
            "Epoch 17/20\n",
            "34/34 [==============================] - 1s 18ms/step - loss: 0.0515\n",
            "Epoch 18/20\n",
            "34/34 [==============================] - 1s 24ms/step - loss: 0.0507\n",
            "Epoch 19/20\n",
            "34/34 [==============================] - 1s 24ms/step - loss: 0.0537\n",
            "Epoch 20/20\n",
            "34/34 [==============================] - 1s 21ms/step - loss: 0.0528\n"
          ]
        },
        {
          "data": {
            "text/plain": [
              "<keras.callbacks.History at 0x7f8f201a8410>"
            ]
          },
          "execution_count": 30,
          "metadata": {},
          "output_type": "execute_result"
        }
      ],
      "source": [
        "lstm_model.fit_generator(generator,epochs=20)"
      ]
    },
    {
      "cell_type": "code",
      "execution_count": 31,
      "metadata": {
        "colab": {
          "base_uri": "https://localhost:8080/",
          "height": 0
        },
        "id": "okSeSzDvZ220",
        "outputId": "90ae30c1-711a-4101-af43-ae54872ad64f"
      },
      "outputs": [
        {
          "data": {
            "image/png": "[encoded data removed]",
            "text/plain": [
              "<Figure size 864x288 with 1 Axes>"
            ]
          },
          "metadata": {
            "needs_background": "light"
          },
          "output_type": "display_data"
        }
      ],
      "source": [
        "losses_lstm = lstm_model.history.history['loss']\n",
        "plt.figure(figsize=(12,4))\n",
        "plt.xticks(np.arange(0,21,1))\n",
        "plt.plot(range(len(losses_lstm)),losses_lstm);"
      ]
    },
    {
      "cell_type": "code",
      "execution_count": 32,
      "metadata": {
        "colab": {
          "base_uri": "https://localhost:8080/"
        },
        "id": "1DZl1Q_lZ7Ad",
        "outputId": "f1ed2e63-128d-43ee-ad9f-4b67621e4497"
      },
      "outputs": [
        {
          "name": "stdout",
          "output_type": "stream",
          "text": [
            "1/1 [==============================] - 1s 739ms/step\n",
            "1/1 [==============================] - 0s 97ms/step\n",
            "1/1 [==============================] - 0s 72ms/step\n",
            "1/1 [==============================] - 0s 75ms/step\n",
            "1/1 [==============================] - 0s 87ms/step\n",
            "1/1 [==============================] - 0s 54ms/step\n",
            "1/1 [==============================] - 0s 76ms/step\n",
            "1/1 [==============================] - 0s 75ms/step\n"
          ]
        }
      ],
      "source": [
        "lstm_predictions_scaled = list()\n",
        "\n",
        "batch = scaled_train_data[-n_input:]\n",
        "current_batch = batch.reshape((1, n_input, n_features))\n",
        "\n",
        "for i in range(len(test_data)):   \n",
        "    lstm_pred = lstm_model.predict(current_batch)[0]\n",
        "    lstm_predictions_scaled.append(lstm_pred) \n",
        "    current_batch = np.append(current_batch[:,1:,:],[[lstm_pred]],axis=1)"
      ]
    },
    {
      "cell_type": "code",
      "execution_count": 33,
      "metadata": {
        "colab": {
          "base_uri": "https://localhost:8080/"
        },
        "id": "NzamiF76Z82u",
        "outputId": "0a9f0469-2fb2-46ca-f8b0-3cb6ce78b514"
      },
      "outputs": [
        {
          "data": {
            "text/plain": [
              "[array([0.2732655], dtype=float32),\n",
              " array([0.30408293], dtype=float32),\n",
              " array([0.31198803], dtype=float32),\n",
              " array([0.31071264], dtype=float32),\n",
              " array([0.3105838], dtype=float32),\n",
              " array([0.31020245], dtype=float32),\n",
              " array([0.3101582], dtype=float32),\n",
              " array([0.31011012], dtype=float32)]"
            ]
          },
          "execution_count": 33,
          "metadata": {},
          "output_type": "execute_result"
        }
      ],
      "source": [
        "lstm_predictions_scaled"
      ]
    },
    {
      "cell_type": "code",
      "execution_count": 34,
      "metadata": {
        "id": "ynq-1BsoZ-vl"
      },
      "outputs": [],
      "source": [
        "lstm_predictions = scaler.inverse_transform(lstm_predictions_scaled)"
      ]
    },
    {
      "cell_type": "code",
      "execution_count": 35,
      "metadata": {
        "id": "k1wZQiaYaAfF"
      },
      "outputs": [],
      "source": [
        "test_data_copy['LSTM_Predictions'] = lstm_predictions"
      ]
    },
    {
      "cell_type": "code",
      "execution_count": 36,
      "metadata": {
        "id": "__IKfUVtLRuV"
      },
      "outputs": [],
      "source": [
        "test_data_copy['ARIMA_Predictions'] = list(arima_pred)"
      ]
    },
    {
      "cell_type": "code",
      "execution_count": 37,
      "metadata": {
        "colab": {
          "base_uri": "https://localhost:8080/",
          "height": 0
        },
        "id": "PK0ISKOvaCM1",
        "outputId": "ca658930-247f-43af-ebb4-b1ff598be699"
      },
      "outputs": [
        {
          "data": {
            "text/html": [
              "\n",
              "  <div id=\"df-c8a2d962-40c1-4e43-ba1f-505e5c68c73b\">\n",
              "    <div class=\"colab-df-container\">\n",
              "      <div>\n",
              "<style scoped>\n",
              "    .dataframe tbody tr th:only-of-type {\n",
              "        vertical-align: middle;\n",
              "    }\n",
              "\n",
              "    .dataframe tbody tr th {\n",
              "        vertical-align: top;\n",
              "    }\n",
              "\n",
              "    .dataframe thead th {\n",
              "        text-align: right;\n",
              "    }\n",
              "</style>\n",
              "<table border=\"1\" class=\"dataframe\">\n",
              "  <thead>\n",
              "    <tr style=\"text-align: right;\">\n",
              "      <th></th>\n",
              "      <th>BEVERAGE CLEAR FLAVOUR</th>\n",
              "      <th>ARIMA_Predictions</th>\n",
              "      <th>LSTM_Predictions</th>\n",
              "    </tr>\n",
              "    <tr>\n",
              "      <th>DATE</th>\n",
              "      <th></th>\n",
              "      <th></th>\n",
              "      <th></th>\n",
              "    </tr>\n",
              "  </thead>\n",
              "  <tbody>\n",
              "    <tr>\n",
              "      <th>2022-02-22</th>\n",
              "      <td>80353</td>\n",
              "      <td>51355.054967</td>\n",
              "      <td>74240.107823</td>\n",
              "    </tr>\n",
              "    <tr>\n",
              "      <th>2022-03-22</th>\n",
              "      <td>154875</td>\n",
              "      <td>52249.584702</td>\n",
              "      <td>79904.226218</td>\n",
              "    </tr>\n",
              "    <tr>\n",
              "      <th>2022-04-22</th>\n",
              "      <td>151222</td>\n",
              "      <td>59214.749551</td>\n",
              "      <td>81357.151209</td>\n",
              "    </tr>\n",
              "    <tr>\n",
              "      <th>2022-05-22</th>\n",
              "      <td>220567</td>\n",
              "      <td>92528.164190</td>\n",
              "      <td>81122.739558</td>\n",
              "    </tr>\n",
              "    <tr>\n",
              "      <th>2022-06-22</th>\n",
              "      <td>127335</td>\n",
              "      <td>73194.597143</td>\n",
              "      <td>81099.060119</td>\n",
              "    </tr>\n",
              "    <tr>\n",
              "      <th>2022-07-22</th>\n",
              "      <td>156678</td>\n",
              "      <td>40557.310185</td>\n",
              "      <td>81028.969419</td>\n",
              "    </tr>\n",
              "    <tr>\n",
              "      <th>2022-08-22</th>\n",
              "      <td>110304</td>\n",
              "      <td>34577.680294</td>\n",
              "      <td>81020.835261</td>\n",
              "    </tr>\n",
              "    <tr>\n",
              "      <th>2022-09-22</th>\n",
              "      <td>101223</td>\n",
              "      <td>43345.676801</td>\n",
              "      <td>81011.999977</td>\n",
              "    </tr>\n",
              "  </tbody>\n",
              "</table>\n",
              "</div>\n",
              "      <button class=\"colab-df-convert\" onclick=\"convertToInteractive('df-c8a2d962-40c1-4e43-ba1f-505e5c68c73b')\"\n",
              "              title=\"Convert this dataframe to an interactive table.\"\n",
              "              style=\"display:none;\">\n",
              "        \n",
              "  <svg xmlns=\"http://www.w3.org/2000/svg\" height=\"24px\"viewBox=\"0 0 24 24\"\n",
              "       width=\"24px\">\n",
              "    <path d=\"M0 0h24v24H0V0z\" fill=\"none\"/>\n",
              "    <path d=\"M18.56 5.44l.94 2.06.94-2.06 2.06-.94-2.06-.94-.94-2.06-.94 2.06-2.06.94zm-11 1L8.5 8.5l.94-2.06 2.06-.94-2.06-.94L8.5 2.5l-.94 2.06-2.06.94zm10 10l.94 2.06.94-2.06 2.06-.94-2.06-.94-.94-2.06-.94 2.06-2.06.94z\"/><path d=\"M17.41 7.96l-1.37-1.37c-.4-.4-.92-.59-1.43-.59-.52 0-1.04.2-1.43.59L10.3 9.45l-7.72 7.72c-.78.78-.78 2.05 0 2.83L4 21.41c.39.39.9.59 1.41.59.51 0 1.02-.2 1.41-.59l7.78-7.78 2.81-2.81c.8-.78.8-2.07 0-2.86zM5.41 20L4 18.59l7.72-7.72 1.47 1.35L5.41 20z\"/>\n",
              "  </svg>\n",
              "      </button>\n",
              "      \n",
              "  <style>\n",
              "    .colab-df-container {\n",
              "      display:flex;\n",
              "      flex-wrap:wrap;\n",
              "      gap: 12px;\n",
              "    }\n",
              "\n",
              "    .colab-df-convert {\n",
              "      background-color: #E8F0FE;\n",
              "      border: none;\n",
              "      border-radius: 50%;\n",
              "      cursor: pointer;\n",
              "      display: none;\n",
              "      fill: #1967D2;\n",
              "      height: 32px;\n",
              "      padding: 0 0 0 0;\n",
              "      width: 32px;\n",
              "    }\n",
              "\n",
              "    .colab-df-convert:hover {\n",
              "      background-color: #E2EBFA;\n",
              "      box-shadow: 0px 1px 2px rgba(60, 64, 67, 0.3), 0px 1px 3px 1px rgba(60, 64, 67, 0.15);\n",
              "      fill: #174EA6;\n",
              "    }\n",
              "\n",
              "    [theme=dark] .colab-df-convert {\n",
              "      background-color: #3B4455;\n",
              "      fill: #D2E3FC;\n",
              "    }\n",
              "\n",
              "    [theme=dark] .colab-df-convert:hover {\n",
              "      background-color: #434B5C;\n",
              "      box-shadow: 0px 1px 3px 1px rgba(0, 0, 0, 0.15);\n",
              "      filter: drop-shadow(0px 1px 2px rgba(0, 0, 0, 0.3));\n",
              "      fill: #FFFFFF;\n",
              "    }\n",
              "  </style>\n",
              "\n",
              "      <script>\n",
              "        const buttonEl =\n",
              "          document.querySelector('#df-c8a2d962-40c1-4e43-ba1f-505e5c68c73b button.colab-df-convert');\n",
              "        buttonEl.style.display =\n",
              "          google.colab.kernel.accessAllowed ? 'block' : 'none';\n",
              "\n",
              "        async function convertToInteractive(key) {\n",
              "          const element = document.querySelector('#df-c8a2d962-40c1-4e43-ba1f-505e5c68c73b');\n",
              "          const dataTable =\n",
              "            await google.colab.kernel.invokeFunction('convertToInteractive',\n",
              "                                                     [key], {});\n",
              "          if (!dataTable) return;\n",
              "\n",
              "          const docLinkHtml = 'Like what you see? Visit the ' +\n",
              "            '<a target=\"_blank\" href=https://colab.research.google.com/notebooks/data_table.ipynb>data table notebook</a>'\n",
              "            + ' to learn more about interactive tables.';\n",
              "          element.innerHTML = '';\n",
              "          dataTable['output_type'] = 'display_data';\n",
              "          await google.colab.output.renderOutput(dataTable, element);\n",
              "          const docLink = document.createElement('div');\n",
              "          docLink.innerHTML = docLinkHtml;\n",
              "          element.appendChild(docLink);\n",
              "        }\n",
              "      </script>\n",
              "    </div>\n",
              "  </div>\n",
              "  "
            ],
            "text/plain": [
              "            BEVERAGE CLEAR FLAVOUR  ARIMA_Predictions  LSTM_Predictions\n",
              "DATE                                                                   \n",
              "2022-02-22                   80353       51355.054967      74240.107823\n",
              "2022-03-22                  154875       52249.584702      79904.226218\n",
              "2022-04-22                  151222       59214.749551      81357.151209\n",
              "2022-05-22                  220567       92528.164190      81122.739558\n",
              "2022-06-22                  127335       73194.597143      81099.060119\n",
              "2022-07-22                  156678       40557.310185      81028.969419\n",
              "2022-08-22                  110304       34577.680294      81020.835261\n",
              "2022-09-22                  101223       43345.676801      81011.999977"
            ]
          },
          "execution_count": 37,
          "metadata": {},
          "output_type": "execute_result"
        }
      ],
      "source": [
        "test_data_copy"
      ]
    },
    {
      "cell_type": "code",
      "execution_count": 38,
      "metadata": {
        "colab": {
          "base_uri": "https://localhost:8080/",
          "height": 0
        },
        "id": "d1VZCtl8aHCt",
        "outputId": "1805350f-f73d-4ff2-81c4-d8595808ce90"
      },
      "outputs": [
        {
          "data": {
            "image/png": "[encoded data removed]",
            "text/plain": [
              "<Figure size 1152x360 with 1 Axes>"
            ]
          },
          "metadata": {
            "needs_background": "light"
          },
          "output_type": "display_data"
        }
      ],
      "source": [
        "test_data_copy['BEVERAGE CLEAR FLAVOUR'].plot(figsize = (16,5), legend=True)\n",
        "test_data_copy['LSTM_Predictions'].plot(legend = True);"
      ]
    },
    {
      "cell_type": "code",
      "execution_count": 39,
      "metadata": {
        "colab": {
          "base_uri": "https://localhost:8080/"
        },
        "id": "UxiqeUYXaJel",
        "outputId": "2708b985-c093-49af-cd78-bdecb5d39d83"
      },
      "outputs": [
        {
          "name": "stdout",
          "output_type": "stream",
          "text": [
            "MSE Error: 4888788682.831482\n",
            "RMSE Error: 69919.87330388608\n",
            "Mean: 97061.93333333333\n",
            "r2_score : -1.9669393419143564\n",
            "MAPE : 0.3706799042307848\n",
            "MAD : 1512.9845887348056\n",
            "MAE: 57721.48880203068\n"
          ]
        }
      ],
      "source": [
        "lstm_rmse_error = rmse(test_data_copy['BEVERAGE CLEAR FLAVOUR'], test_data_copy[\"LSTM_Predictions\"])\n",
        "lstm_mse_error = lstm_rmse_error**2\n",
        "mean_value = df['BEVERAGE CLEAR FLAVOUR'].mean()\n",
        "r2_score_lstm = r2_score(test_data_copy['BEVERAGE CLEAR FLAVOUR'],test_data_copy[\"LSTM_Predictions\"]) \n",
        "MAPE_lstm = mean_absolute_percentage_error(test_data_copy['BEVERAGE CLEAR FLAVOUR'], test_data_copy[\"LSTM_Predictions\"])\n",
        "MAD_lstm = test_data_copy[\"LSTM_Predictions\"].mad()\n",
        "MAE_lstm = mean_absolute_error(test_data['BEVERAGE CLEAR FLAVOUR'], lstm_predictions)\n",
        "\n",
        "print(f'MSE Error: {lstm_mse_error}\\nRMSE Error: {lstm_rmse_error}\\nMean: {mean_value}\\nr2_score : {r2_score_lstm}\\nMAPE : {MAPE_lstm}\\nMAD : {MAD_lstm}\\nMAE: {MAE_lstm}')\n",
        "\n"
      ]
    },
    {
      "cell_type": "markdown",
      "metadata": {
        "id": "78bGW_pgaNoV"
      },
      "source": [
        "#### Prophet Forecast"
      ]
    },
    {
      "cell_type": "code",
      "execution_count": 40,
      "metadata": {
        "colab": {
          "base_uri": "https://localhost:8080/"
        },
        "id": "LMLe8XhnbqgV",
        "outputId": "3400ff13-7540-45b0-a0df-337645e42676"
      },
      "outputs": [
        {
          "name": "stdout",
          "output_type": "stream",
          "text": [
            "/bin/bash: conda: command not found\n"
          ]
        }
      ],
      "source": [
        "!conda install -c conda-forge fbprophet -y"
      ]
    },
    {
      "cell_type": "code",
      "execution_count": 41,
      "metadata": {
        "colab": {
          "base_uri": "https://localhost:8080/"
        },
        "id": "3vEN-xutcIi1",
        "outputId": "6e408a9d-20a8-41a6-c94a-c16b13387df5"
      },
      "outputs": [
        {
          "name": "stdout",
          "output_type": "stream",
          "text": [
            "Looking in indexes: https://pypi.org/simple, https://us-python.pkg.dev/colab-wheels/public/simple/\n",
            "Requirement already satisfied: plotly in /usr/local/lib/python3.7/dist-packages (5.5.0)\n",
            "Collecting plotly\n",
            "  Downloading plotly-5.11.0-py2.py3-none-any.whl (15.3 MB)\n",
            "\u001b[K     |████████████████████████████████| 15.3 MB 481 kB/s \n",
            "\u001b[?25hRequirement already satisfied: tenacity>=6.2.0 in /usr/local/lib/python3.7/dist-packages (from plotly) (8.1.0)\n",
            "Installing collected packages: plotly\n",
            "  Attempting uninstall: plotly\n",
            "    Found existing installation: plotly 5.5.0\n",
            "    Uninstalling plotly-5.5.0:\n",
            "      Successfully uninstalled plotly-5.5.0\n",
            "Successfully installed plotly-5.11.0\n"
          ]
        }
      ],
      "source": [
        "!pip install --upgrade plotly"
      ]
    },
    {
      "cell_type": "code",
      "execution_count": 42,
      "metadata": {
        "colab": {
          "base_uri": "https://localhost:8080/"
        },
        "id": "LzmDGrODckXl",
        "outputId": "be1cde72-7414-4037-9464-fcf3b0f3c462"
      },
      "outputs": [
        {
          "name": "stdout",
          "output_type": "stream",
          "text": [
            "Looking in indexes: https://pypi.org/simple, https://us-python.pkg.dev/colab-wheels/public/simple/\n",
            "Collecting pystan~=2.14\n",
            "  Downloading pystan-2.19.1.1-cp37-cp37m-manylinux1_x86_64.whl (67.3 MB)\n",
            "\u001b[K     |████████████████████████████████| 67.3 MB 1.5 MB/s \n",
            "\u001b[?25hRequirement already satisfied: Cython!=0.25.1,>=0.22 in /usr/local/lib/python3.7/dist-packages (from pystan~=2.14) (0.29.32)\n",
            "Requirement already satisfied: numpy>=1.7 in /usr/local/lib/python3.7/dist-packages (from pystan~=2.14) (1.21.6)\n",
            "Installing collected packages: pystan\n",
            "  Attempting uninstall: pystan\n",
            "    Found existing installation: pystan 3.3.0\n",
            "    Uninstalling pystan-3.3.0:\n",
            "      Successfully uninstalled pystan-3.3.0\n",
            "Successfully installed pystan-2.19.1.1\n",
            "Looking in indexes: https://pypi.org/simple, https://us-python.pkg.dev/colab-wheels/public/simple/\n",
            "Collecting fbprophet\n",
            "  Downloading fbprophet-0.7.1.tar.gz (64 kB)\n",
            "\u001b[K     |████████████████████████████████| 64 kB 1.3 MB/s \n",
            "\u001b[?25hRequirement already satisfied: Cython>=0.22 in /usr/local/lib/python3.7/dist-packages (from fbprophet) (0.29.32)\n",
            "Collecting cmdstanpy==0.9.5\n",
            "  Downloading cmdstanpy-0.9.5-py3-none-any.whl (37 kB)\n",
            "Requirement already satisfied: pystan>=2.14 in /usr/local/lib/python3.7/dist-packages (from fbprophet) (2.19.1.1)\n",
            "Requirement already satisfied: numpy>=1.15.4 in /usr/local/lib/python3.7/dist-packages (from fbprophet) (1.21.6)\n",
            "Requirement already satisfied: pandas>=1.0.4 in /usr/local/lib/python3.7/dist-packages (from fbprophet) (1.3.5)\n",
            "Requirement already satisfied: matplotlib>=2.0.0 in /usr/local/lib/python3.7/dist-packages (from fbprophet) (3.2.2)\n",
            "Requirement already satisfied: LunarCalendar>=0.0.9 in /usr/local/lib/python3.7/dist-packages (from fbprophet) (0.0.9)\n",
            "Requirement already satisfied: convertdate>=2.1.2 in /usr/local/lib/python3.7/dist-packages (from fbprophet) (2.4.0)\n",
            "Requirement already satisfied: holidays>=0.10.2 in /usr/local/lib/python3.7/dist-packages (from fbprophet) (0.16)\n",
            "Requirement already satisfied: setuptools-git>=1.2 in /usr/local/lib/python3.7/dist-packages (from fbprophet) (1.2)\n",
            "Requirement already satisfied: python-dateutil>=2.8.0 in /usr/local/lib/python3.7/dist-packages (from fbprophet) (2.8.2)\n",
            "Requirement already satisfied: tqdm>=4.36.1 in /usr/local/lib/python3.7/dist-packages (from fbprophet) (4.64.1)\n",
            "Requirement already satisfied: pymeeus<=1,>=0.3.13 in /usr/local/lib/python3.7/dist-packages (from convertdate>=2.1.2->fbprophet) (0.5.11)\n",
            "Requirement already satisfied: hijri-converter in /usr/local/lib/python3.7/dist-packages (from holidays>=0.10.2->fbprophet) (2.2.4)\n",
            "Requirement already satisfied: korean-lunar-calendar in /usr/local/lib/python3.7/dist-packages (from holidays>=0.10.2->fbprophet) (0.3.1)\n",
            "Requirement already satisfied: pytz in /usr/local/lib/python3.7/dist-packages (from LunarCalendar>=0.0.9->fbprophet) (2022.6)\n",
            "Requirement already satisfied: ephem>=3.7.5.3 in /usr/local/lib/python3.7/dist-packages (from LunarCalendar>=0.0.9->fbprophet) (4.1.3)\n",
            "Requirement already satisfied: cycler>=0.10 in /usr/local/lib/python3.7/dist-packages (from matplotlib>=2.0.0->fbprophet) (0.11.0)\n",
            "Requirement already satisfied: kiwisolver>=1.0.1 in /usr/local/lib/python3.7/dist-packages (from matplotlib>=2.0.0->fbprophet) (1.4.4)\n",
            "Requirement already satisfied: pyparsing!=2.0.4,!=2.1.2,!=2.1.6,>=2.0.1 in /usr/local/lib/python3.7/dist-packages (from matplotlib>=2.0.0->fbprophet) (3.0.9)\n",
            "Requirement already satisfied: typing-extensions in /usr/local/lib/python3.7/dist-packages (from kiwisolver>=1.0.1->matplotlib>=2.0.0->fbprophet) (4.1.1)\n",
            "Requirement already satisfied: six>=1.5 in /usr/local/lib/python3.7/dist-packages (from python-dateutil>=2.8.0->fbprophet) (1.15.0)\n",
            "Building wheels for collected packages: fbprophet\n",
            "  Building wheel for fbprophet (setup.py) ... \u001b[?25l\u001b[?25hdone\n",
            "  Created wheel for fbprophet: filename=fbprophet-0.7.1-py3-none-any.whl size=6639031 sha256=be3101aafaec6a703c547b2b08ef1b5f5b60efd0faa2335d5ff64cf54b22bb4c\n",
            "  Stored in directory: /root/.cache/pip/wheels/cd/a1/12/db63ff624de492fe6cccf676091a0860fdde2ffde4bc3280e2\n",
            "Successfully built fbprophet\n",
            "Installing collected packages: cmdstanpy, fbprophet\n",
            "  Attempting uninstall: cmdstanpy\n",
            "    Found existing installation: cmdstanpy 1.0.8\n",
            "    Uninstalling cmdstanpy-1.0.8:\n",
            "      Successfully uninstalled cmdstanpy-1.0.8\n",
            "\u001b[31mERROR: pip's dependency resolver does not currently take into account all the packages that are installed. This behaviour is the source of the following dependency conflicts.\n",
            "prophet 1.1.1 requires cmdstanpy>=1.0.4, but you have cmdstanpy 0.9.5 which is incompatible.\u001b[0m\n",
            "Successfully installed cmdstanpy-0.9.5 fbprophet-0.7.1\n"
          ]
        }
      ],
      "source": [
        "!pip install pystan~=2.14\n",
        "!pip install fbprophet"
      ]
    },
    {
      "cell_type": "code",
      "execution_count": 43,
      "metadata": {
        "id": "jRRv-VpSaOst"
      },
      "outputs": [],
      "source": [
        "from fbprophet import Prophet"
      ]
    },
    {
      "cell_type": "code",
      "execution_count": 44,
      "metadata": {
        "id": "-qslHNlldM3N"
      },
      "outputs": [],
      "source": [
        "df_pr = df.copy()\n",
        "df_pr = df.reset_index()"
      ]
    },
    {
      "cell_type": "code",
      "execution_count": 45,
      "metadata": {
        "colab": {
          "base_uri": "https://localhost:8080/",
          "height": 0
        },
        "id": "_El1Zr7wdiKO",
        "outputId": "64c0350f-57cb-4d71-8d2b-abdd9d0adc9b"
      },
      "outputs": [
        {
          "data": {
            "text/html": [
              "\n",
              "  <div id=\"df-dc9191ba-2e67-4cb8-b16b-52323aa79d6e\">\n",
              "    <div class=\"colab-df-container\">\n",
              "      <div>\n",
              "<style scoped>\n",
              "    .dataframe tbody tr th:only-of-type {\n",
              "        vertical-align: middle;\n",
              "    }\n",
              "\n",
              "    .dataframe tbody tr th {\n",
              "        vertical-align: top;\n",
              "    }\n",
              "\n",
              "    .dataframe thead th {\n",
              "        text-align: right;\n",
              "    }\n",
              "</style>\n",
              "<table border=\"1\" class=\"dataframe\">\n",
              "  <thead>\n",
              "    <tr style=\"text-align: right;\">\n",
              "      <th></th>\n",
              "      <th>DATE</th>\n",
              "      <th>BEVERAGE CLEAR FLAVOUR</th>\n",
              "    </tr>\n",
              "  </thead>\n",
              "  <tbody>\n",
              "    <tr>\n",
              "      <th>0</th>\n",
              "      <td>2019-01-19</td>\n",
              "      <td>66208</td>\n",
              "    </tr>\n",
              "    <tr>\n",
              "      <th>1</th>\n",
              "      <td>2019-02-19</td>\n",
              "      <td>51019</td>\n",
              "    </tr>\n",
              "    <tr>\n",
              "      <th>2</th>\n",
              "      <td>2019-03-19</td>\n",
              "      <td>81595</td>\n",
              "    </tr>\n",
              "    <tr>\n",
              "      <th>3</th>\n",
              "      <td>2019-04-19</td>\n",
              "      <td>106862</td>\n",
              "    </tr>\n",
              "    <tr>\n",
              "      <th>4</th>\n",
              "      <td>2019-05-19</td>\n",
              "      <td>171290</td>\n",
              "    </tr>\n",
              "  </tbody>\n",
              "</table>\n",
              "</div>\n",
              "      <button class=\"colab-df-convert\" onclick=\"convertToInteractive('df-dc9191ba-2e67-4cb8-b16b-52323aa79d6e')\"\n",
              "              title=\"Convert this dataframe to an interactive table.\"\n",
              "              style=\"display:none;\">\n",
              "        \n",
              "  <svg xmlns=\"http://www.w3.org/2000/svg\" height=\"24px\"viewBox=\"0 0 24 24\"\n",
              "       width=\"24px\">\n",
              "    <path d=\"M0 0h24v24H0V0z\" fill=\"none\"/>\n",
              "    <path d=\"M18.56 5.44l.94 2.06.94-2.06 2.06-.94-2.06-.94-.94-2.06-.94 2.06-2.06.94zm-11 1L8.5 8.5l.94-2.06 2.06-.94-2.06-.94L8.5 2.5l-.94 2.06-2.06.94zm10 10l.94 2.06.94-2.06 2.06-.94-2.06-.94-.94-2.06-.94 2.06-2.06.94z\"/><path d=\"M17.41 7.96l-1.37-1.37c-.4-.4-.92-.59-1.43-.59-.52 0-1.04.2-1.43.59L10.3 9.45l-7.72 7.72c-.78.78-.78 2.05 0 2.83L4 21.41c.39.39.9.59 1.41.59.51 0 1.02-.2 1.41-.59l7.78-7.78 2.81-2.81c.8-.78.8-2.07 0-2.86zM5.41 20L4 18.59l7.72-7.72 1.47 1.35L5.41 20z\"/>\n",
              "  </svg>\n",
              "      </button>\n",
              "      \n",
              "  <style>\n",
              "    .colab-df-container {\n",
              "      display:flex;\n",
              "      flex-wrap:wrap;\n",
              "      gap: 12px;\n",
              "    }\n",
              "\n",
              "    .colab-df-convert {\n",
              "      background-color: #E8F0FE;\n",
              "      border: none;\n",
              "      border-radius: 50%;\n",
              "      cursor: pointer;\n",
              "      display: none;\n",
              "      fill: #1967D2;\n",
              "      height: 32px;\n",
              "      padding: 0 0 0 0;\n",
              "      width: 32px;\n",
              "    }\n",
              "\n",
              "    .colab-df-convert:hover {\n",
              "      background-color: #E2EBFA;\n",
              "      box-shadow: 0px 1px 2px rgba(60, 64, 67, 0.3), 0px 1px 3px 1px rgba(60, 64, 67, 0.15);\n",
              "      fill: #174EA6;\n",
              "    }\n",
              "\n",
              "    [theme=dark] .colab-df-convert {\n",
              "      background-color: #3B4455;\n",
              "      fill: #D2E3FC;\n",
              "    }\n",
              "\n",
              "    [theme=dark] .colab-df-convert:hover {\n",
              "      background-color: #434B5C;\n",
              "      box-shadow: 0px 1px 3px 1px rgba(0, 0, 0, 0.15);\n",
              "      filter: drop-shadow(0px 1px 2px rgba(0, 0, 0, 0.3));\n",
              "      fill: #FFFFFF;\n",
              "    }\n",
              "  </style>\n",
              "\n",
              "      <script>\n",
              "        const buttonEl =\n",
              "          document.querySelector('#df-dc9191ba-2e67-4cb8-b16b-52323aa79d6e button.colab-df-convert');\n",
              "        buttonEl.style.display =\n",
              "          google.colab.kernel.accessAllowed ? 'block' : 'none';\n",
              "\n",
              "        async function convertToInteractive(key) {\n",
              "          const element = document.querySelector('#df-dc9191ba-2e67-4cb8-b16b-52323aa79d6e');\n",
              "          const dataTable =\n",
              "            await google.colab.kernel.invokeFunction('convertToInteractive',\n",
              "                                                     [key], {});\n",
              "          if (!dataTable) return;\n",
              "\n",
              "          const docLinkHtml = 'Like what you see? Visit the ' +\n",
              "            '<a target=\"_blank\" href=https://colab.research.google.com/notebooks/data_table.ipynb>data table notebook</a>'\n",
              "            + ' to learn more about interactive tables.';\n",
              "          element.innerHTML = '';\n",
              "          dataTable['output_type'] = 'display_data';\n",
              "          await google.colab.output.renderOutput(dataTable, element);\n",
              "          const docLink = document.createElement('div');\n",
              "          docLink.innerHTML = docLinkHtml;\n",
              "          element.appendChild(docLink);\n",
              "        }\n",
              "      </script>\n",
              "    </div>\n",
              "  </div>\n",
              "  "
            ],
            "text/plain": [
              "        DATE  BEVERAGE CLEAR FLAVOUR\n",
              "0 2019-01-19                   66208\n",
              "1 2019-02-19                   51019\n",
              "2 2019-03-19                   81595\n",
              "3 2019-04-19                  106862\n",
              "4 2019-05-19                  171290"
            ]
          },
          "execution_count": 45,
          "metadata": {},
          "output_type": "execute_result"
        }
      ],
      "source": [
        "df_pr.head()"
      ]
    },
    {
      "cell_type": "code",
      "execution_count": 46,
      "metadata": {
        "id": "vckpbZK3doCE"
      },
      "outputs": [],
      "source": [
        "# To use prophet column names should be like that\n",
        "df_pr.columns = ['ds','y']"
      ]
    },
    {
      "cell_type": "code",
      "execution_count": 47,
      "metadata": {
        "id": "Rk0D4S9wdXbX"
      },
      "outputs": [],
      "source": [
        "train_data_pr = df_pr.iloc[:len(df)-8]\n",
        "test_data_pr = df_pr.iloc[len(df)-8:]"
      ]
    },
    {
      "cell_type": "code",
      "execution_count": 48,
      "metadata": {
        "colab": {
          "base_uri": "https://localhost:8080/"
        },
        "id": "_XXGlLsiG_yH",
        "outputId": "4662e2f8-97b4-432f-97e7-a59b69397cd4"
      },
      "outputs": [
        {
          "name": "stdout",
          "output_type": "stream",
          "text": [
            "(37, 2)\n",
            "(8, 2)\n"
          ]
        }
      ],
      "source": [
        "print(train_data_pr.shape)\n",
        "print(test_data_pr.shape)"
      ]
    },
    {
      "cell_type": "code",
      "execution_count": 49,
      "metadata": {
        "colab": {
          "base_uri": "https://localhost:8080/"
        },
        "id": "7shRWV_IakE8",
        "outputId": "06b82f97-d4b4-40d7-f34e-21c16fc77e2f"
      },
      "outputs": [
        {
          "name": "stderr",
          "output_type": "stream",
          "text": [
            "INFO:fbprophet:Disabling weekly seasonality. Run prophet with weekly_seasonality=True to override this.\n",
            "INFO:fbprophet:Disabling daily seasonality. Run prophet with daily_seasonality=True to override this.\n"
          ]
        }
      ],
      "source": [
        "m = Prophet()\n",
        "m.fit(train_data_pr)\n",
        "future = m.make_future_dataframe(periods=12,freq='MS')\n",
        "prophet_pred = m.predict(test_data_pr)"
      ]
    },
    {
      "cell_type": "code",
      "execution_count": 50,
      "metadata": {
        "id": "k6m-0-mIape9"
      },
      "outputs": [],
      "source": [
        "prophet_pred = pd.DataFrame({\"Date\" : prophet_pred[-9:]['ds'], \"Pred\" : prophet_pred[-9:][\"yhat\"]})"
      ]
    },
    {
      "cell_type": "code",
      "execution_count": 51,
      "metadata": {
        "id": "o7E5RpP6ar3u"
      },
      "outputs": [],
      "source": [
        "prophet_pred = prophet_pred.set_index(\"Date\")"
      ]
    },
    {
      "cell_type": "code",
      "execution_count": 52,
      "metadata": {
        "colab": {
          "base_uri": "https://localhost:8080/",
          "height": 0
        },
        "id": "ENmnEgVsawkv",
        "outputId": "64128019-41bc-490f-cfb9-c5106cf2b459"
      },
      "outputs": [
        {
          "data": {
            "text/html": [
              "\n",
              "  <div id=\"df-8331bc68-d14c-4cab-b4f3-54a65324e642\">\n",
              "    <div class=\"colab-df-container\">\n",
              "      <div>\n",
              "<style scoped>\n",
              "    .dataframe tbody tr th:only-of-type {\n",
              "        vertical-align: middle;\n",
              "    }\n",
              "\n",
              "    .dataframe tbody tr th {\n",
              "        vertical-align: top;\n",
              "    }\n",
              "\n",
              "    .dataframe thead th {\n",
              "        text-align: right;\n",
              "    }\n",
              "</style>\n",
              "<table border=\"1\" class=\"dataframe\">\n",
              "  <thead>\n",
              "    <tr style=\"text-align: right;\">\n",
              "      <th></th>\n",
              "      <th>Pred</th>\n",
              "    </tr>\n",
              "    <tr>\n",
              "      <th>Date</th>\n",
              "      <th></th>\n",
              "    </tr>\n",
              "  </thead>\n",
              "  <tbody>\n",
              "    <tr>\n",
              "      <th>2022-02-22</th>\n",
              "      <td>119128.579930</td>\n",
              "    </tr>\n",
              "    <tr>\n",
              "      <th>2022-03-22</th>\n",
              "      <td>130949.629237</td>\n",
              "    </tr>\n",
              "    <tr>\n",
              "      <th>2022-04-22</th>\n",
              "      <td>53375.715291</td>\n",
              "    </tr>\n",
              "    <tr>\n",
              "      <th>2022-05-22</th>\n",
              "      <td>189014.420888</td>\n",
              "    </tr>\n",
              "    <tr>\n",
              "      <th>2022-06-22</th>\n",
              "      <td>131834.377599</td>\n",
              "    </tr>\n",
              "    <tr>\n",
              "      <th>2022-07-22</th>\n",
              "      <td>111703.831255</td>\n",
              "    </tr>\n",
              "    <tr>\n",
              "      <th>2022-08-22</th>\n",
              "      <td>89763.795999</td>\n",
              "    </tr>\n",
              "    <tr>\n",
              "      <th>2022-09-22</th>\n",
              "      <td>83690.348960</td>\n",
              "    </tr>\n",
              "  </tbody>\n",
              "</table>\n",
              "</div>\n",
              "      <button class=\"colab-df-convert\" onclick=\"convertToInteractive('df-8331bc68-d14c-4cab-b4f3-54a65324e642')\"\n",
              "              title=\"Convert this dataframe to an interactive table.\"\n",
              "              style=\"display:none;\">\n",
              "        \n",
              "  <svg xmlns=\"http://www.w3.org/2000/svg\" height=\"24px\"viewBox=\"0 0 24 24\"\n",
              "       width=\"24px\">\n",
              "    <path d=\"M0 0h24v24H0V0z\" fill=\"none\"/>\n",
              "    <path d=\"M18.56 5.44l.94 2.06.94-2.06 2.06-.94-2.06-.94-.94-2.06-.94 2.06-2.06.94zm-11 1L8.5 8.5l.94-2.06 2.06-.94-2.06-.94L8.5 2.5l-.94 2.06-2.06.94zm10 10l.94 2.06.94-2.06 2.06-.94-2.06-.94-.94-2.06-.94 2.06-2.06.94z\"/><path d=\"M17.41 7.96l-1.37-1.37c-.4-.4-.92-.59-1.43-.59-.52 0-1.04.2-1.43.59L10.3 9.45l-7.72 7.72c-.78.78-.78 2.05 0 2.83L4 21.41c.39.39.9.59 1.41.59.51 0 1.02-.2 1.41-.59l7.78-7.78 2.81-2.81c.8-.78.8-2.07 0-2.86zM5.41 20L4 18.59l7.72-7.72 1.47 1.35L5.41 20z\"/>\n",
              "  </svg>\n",
              "      </button>\n",
              "      \n",
              "  <style>\n",
              "    .colab-df-container {\n",
              "      display:flex;\n",
              "      flex-wrap:wrap;\n",
              "      gap: 12px;\n",
              "    }\n",
              "\n",
              "    .colab-df-convert {\n",
              "      background-color: #E8F0FE;\n",
              "      border: none;\n",
              "      border-radius: 50%;\n",
              "      cursor: pointer;\n",
              "      display: none;\n",
              "      fill: #1967D2;\n",
              "      height: 32px;\n",
              "      padding: 0 0 0 0;\n",
              "      width: 32px;\n",
              "    }\n",
              "\n",
              "    .colab-df-convert:hover {\n",
              "      background-color: #E2EBFA;\n",
              "      box-shadow: 0px 1px 2px rgba(60, 64, 67, 0.3), 0px 1px 3px 1px rgba(60, 64, 67, 0.15);\n",
              "      fill: #174EA6;\n",
              "    }\n",
              "\n",
              "    [theme=dark] .colab-df-convert {\n",
              "      background-color: #3B4455;\n",
              "      fill: #D2E3FC;\n",
              "    }\n",
              "\n",
              "    [theme=dark] .colab-df-convert:hover {\n",
              "      background-color: #434B5C;\n",
              "      box-shadow: 0px 1px 3px 1px rgba(0, 0, 0, 0.15);\n",
              "      filter: drop-shadow(0px 1px 2px rgba(0, 0, 0, 0.3));\n",
              "      fill: #FFFFFF;\n",
              "    }\n",
              "  </style>\n",
              "\n",
              "      <script>\n",
              "        const buttonEl =\n",
              "          document.querySelector('#df-8331bc68-d14c-4cab-b4f3-54a65324e642 button.colab-df-convert');\n",
              "        buttonEl.style.display =\n",
              "          google.colab.kernel.accessAllowed ? 'block' : 'none';\n",
              "\n",
              "        async function convertToInteractive(key) {\n",
              "          const element = document.querySelector('#df-8331bc68-d14c-4cab-b4f3-54a65324e642');\n",
              "          const dataTable =\n",
              "            await google.colab.kernel.invokeFunction('convertToInteractive',\n",
              "                                                     [key], {});\n",
              "          if (!dataTable) return;\n",
              "\n",
              "          const docLinkHtml = 'Like what you see? Visit the ' +\n",
              "            '<a target=\"_blank\" href=https://colab.research.google.com/notebooks/data_table.ipynb>data table notebook</a>'\n",
              "            + ' to learn more about interactive tables.';\n",
              "          element.innerHTML = '';\n",
              "          dataTable['output_type'] = 'display_data';\n",
              "          await google.colab.output.renderOutput(dataTable, element);\n",
              "          const docLink = document.createElement('div');\n",
              "          docLink.innerHTML = docLinkHtml;\n",
              "          element.appendChild(docLink);\n",
              "        }\n",
              "      </script>\n",
              "    </div>\n",
              "  </div>\n",
              "  "
            ],
            "text/plain": [
              "                     Pred\n",
              "Date                     \n",
              "2022-02-22  119128.579930\n",
              "2022-03-22  130949.629237\n",
              "2022-04-22   53375.715291\n",
              "2022-05-22  189014.420888\n",
              "2022-06-22  131834.377599\n",
              "2022-07-22  111703.831255\n",
              "2022-08-22   89763.795999\n",
              "2022-09-22   83690.348960"
            ]
          },
          "execution_count": 52,
          "metadata": {},
          "output_type": "execute_result"
        }
      ],
      "source": [
        "prophet_pred"
      ]
    },
    {
      "cell_type": "code",
      "execution_count": 53,
      "metadata": {
        "id": "hkRZe137ay29"
      },
      "outputs": [],
      "source": [
        "test_data_copy[\"Prophet_Predictions\"] = prophet_pred['Pred'].values"
      ]
    },
    {
      "cell_type": "code",
      "execution_count": 54,
      "metadata": {
        "id": "zecYpmxCa03k"
      },
      "outputs": [],
      "source": [
        "import seaborn as sns"
      ]
    },
    {
      "cell_type": "code",
      "execution_count": 55,
      "metadata": {
        "colab": {
          "base_uri": "https://localhost:8080/",
          "height": 0
        },
        "id": "NVIB2v5YJZ5H",
        "outputId": "b600d7ff-c18d-4114-c736-5f0aa5fdde5f"
      },
      "outputs": [
        {
          "data": {
            "text/plain": [
              "<matplotlib.axes._subplots.AxesSubplot at 0x7f8ea763af90>"
            ]
          },
          "execution_count": 55,
          "metadata": {},
          "output_type": "execute_result"
        },
        {
          "data": {
            "image/png": "[encoded data removed]",
            "text/plain": [
              "<Figure size 1152x360 with 1 Axes>"
            ]
          },
          "metadata": {
            "needs_background": "light"
          },
          "output_type": "display_data"
        }
      ],
      "source": [
        "test_data_copy['BEVERAGE CLEAR FLAVOUR'].plot(figsize = (16,5), legend=True)\n",
        "test_data_copy['Prophet_Predictions'].plot(legend = True)"
      ]
    },
    {
      "cell_type": "code",
      "execution_count": 56,
      "metadata": {
        "colab": {
          "base_uri": "https://localhost:8080/"
        },
        "id": "MONDqQjJa4hc",
        "outputId": "2917e33c-49ba-4941-c625-cc111deb3fdd"
      },
      "outputs": [
        {
          "name": "stdout",
          "output_type": "stream",
          "text": [
            "MSE Error: 1927205466.3893342\n",
            "RMSE Error: 43899.94836431285\n",
            "Mean: 97061.93333333333\n",
            "r2_score : -0.16959477881773255\n",
            "MAPE : 0.26361784650008385\n",
            "MAD : 14325.988549092865\n",
            "MAE: 81941.77277104737\n"
          ]
        }
      ],
      "source": [
        "prophet_rmse_error = rmse(test_data_copy['BEVERAGE CLEAR FLAVOUR'], test_data_copy[\"Prophet_Predictions\"])\n",
        "prophet_mse_error = prophet_rmse_error**2\n",
        "mean_value = df['BEVERAGE CLEAR FLAVOUR'].mean()\n",
        "r2_score_prophet = r2_score(test_data_copy['BEVERAGE CLEAR FLAVOUR'],test_data_copy[\"Prophet_Predictions\"]) \n",
        "MAPE_prophet = mean_absolute_percentage_error(test_data_copy['BEVERAGE CLEAR FLAVOUR'], test_data_copy[\"Prophet_Predictions\"])\n",
        "MAD_prophet = test_data_copy['Prophet_Predictions'].mad()\n",
        "MAE_prophet = mean_absolute_error(test_data['BEVERAGE CLEAR FLAVOUR'], test_data_copy['Prophet_Predictions'])\n",
        "\n",
        "print(f'MSE Error: {prophet_mse_error}\\nRMSE Error: {prophet_rmse_error}\\nMean: {mean_value}\\nr2_score : {r2_score_prophet}\\nMAPE : {MAPE_prophet}\\nMAD : {MAD_arima}\\nMAE: {MAE_arima}')\n",
        "\n"
      ]
    },
    {
      "cell_type": "markdown",
      "metadata": {
        "id": "-N1OhKwO2oSl"
      },
      "source": [
        "## **GRU**"
      ]
    },
    {
      "cell_type": "code",
      "execution_count": 57,
      "metadata": {
        "id": "XdAPulYf2DEi"
      },
      "outputs": [],
      "source": [
        "df_gru = pd.read_csv(\"Cleaned.csv\",parse_dates=[\"DATE\"])"
      ]
    },
    {
      "cell_type": "code",
      "execution_count": 58,
      "metadata": {
        "colab": {
          "base_uri": "https://localhost:8080/",
          "height": 206
        },
        "id": "GG8Zm5eL2DBO",
        "outputId": "86defd9b-34b9-4208-c724-1b34c5148669"
      },
      "outputs": [
        {
          "data": {
            "text/html": [
              "\n",
              "  <div id=\"df-f28fcb72-9cfb-4686-b0c8-ecd9f60e7e86\">\n",
              "    <div class=\"colab-df-container\">\n",
              "      <div>\n",
              "<style scoped>\n",
              "    .dataframe tbody tr th:only-of-type {\n",
              "        vertical-align: middle;\n",
              "    }\n",
              "\n",
              "    .dataframe tbody tr th {\n",
              "        vertical-align: top;\n",
              "    }\n",
              "\n",
              "    .dataframe thead th {\n",
              "        text-align: right;\n",
              "    }\n",
              "</style>\n",
              "<table border=\"1\" class=\"dataframe\">\n",
              "  <thead>\n",
              "    <tr style=\"text-align: right;\">\n",
              "      <th></th>\n",
              "      <th>DATE</th>\n",
              "      <th>BEVERAGE CLEAR FLAVOUR</th>\n",
              "    </tr>\n",
              "  </thead>\n",
              "  <tbody>\n",
              "    <tr>\n",
              "      <th>0</th>\n",
              "      <td>2019-01-19</td>\n",
              "      <td>66208</td>\n",
              "    </tr>\n",
              "    <tr>\n",
              "      <th>1</th>\n",
              "      <td>2019-02-19</td>\n",
              "      <td>51019</td>\n",
              "    </tr>\n",
              "    <tr>\n",
              "      <th>2</th>\n",
              "      <td>2019-03-19</td>\n",
              "      <td>81595</td>\n",
              "    </tr>\n",
              "    <tr>\n",
              "      <th>3</th>\n",
              "      <td>2019-04-19</td>\n",
              "      <td>106862</td>\n",
              "    </tr>\n",
              "    <tr>\n",
              "      <th>4</th>\n",
              "      <td>2019-05-19</td>\n",
              "      <td>171290</td>\n",
              "    </tr>\n",
              "  </tbody>\n",
              "</table>\n",
              "</div>\n",
              "      <button class=\"colab-df-convert\" onclick=\"convertToInteractive('df-f28fcb72-9cfb-4686-b0c8-ecd9f60e7e86')\"\n",
              "              title=\"Convert this dataframe to an interactive table.\"\n",
              "              style=\"display:none;\">\n",
              "        \n",
              "  <svg xmlns=\"http://www.w3.org/2000/svg\" height=\"24px\"viewBox=\"0 0 24 24\"\n",
              "       width=\"24px\">\n",
              "    <path d=\"M0 0h24v24H0V0z\" fill=\"none\"/>\n",
              "    <path d=\"M18.56 5.44l.94 2.06.94-2.06 2.06-.94-2.06-.94-.94-2.06-.94 2.06-2.06.94zm-11 1L8.5 8.5l.94-2.06 2.06-.94-2.06-.94L8.5 2.5l-.94 2.06-2.06.94zm10 10l.94 2.06.94-2.06 2.06-.94-2.06-.94-.94-2.06-.94 2.06-2.06.94z\"/><path d=\"M17.41 7.96l-1.37-1.37c-.4-.4-.92-.59-1.43-.59-.52 0-1.04.2-1.43.59L10.3 9.45l-7.72 7.72c-.78.78-.78 2.05 0 2.83L4 21.41c.39.39.9.59 1.41.59.51 0 1.02-.2 1.41-.59l7.78-7.78 2.81-2.81c.8-.78.8-2.07 0-2.86zM5.41 20L4 18.59l7.72-7.72 1.47 1.35L5.41 20z\"/>\n",
              "  </svg>\n",
              "      </button>\n",
              "      \n",
              "  <style>\n",
              "    .colab-df-container {\n",
              "      display:flex;\n",
              "      flex-wrap:wrap;\n",
              "      gap: 12px;\n",
              "    }\n",
              "\n",
              "    .colab-df-convert {\n",
              "      background-color: #E8F0FE;\n",
              "      border: none;\n",
              "      border-radius: 50%;\n",
              "      cursor: pointer;\n",
              "      display: none;\n",
              "      fill: #1967D2;\n",
              "      height: 32px;\n",
              "      padding: 0 0 0 0;\n",
              "      width: 32px;\n",
              "    }\n",
              "\n",
              "    .colab-df-convert:hover {\n",
              "      background-color: #E2EBFA;\n",
              "      box-shadow: 0px 1px 2px rgba(60, 64, 67, 0.3), 0px 1px 3px 1px rgba(60, 64, 67, 0.15);\n",
              "      fill: #174EA6;\n",
              "    }\n",
              "\n",
              "    [theme=dark] .colab-df-convert {\n",
              "      background-color: #3B4455;\n",
              "      fill: #D2E3FC;\n",
              "    }\n",
              "\n",
              "    [theme=dark] .colab-df-convert:hover {\n",
              "      background-color: #434B5C;\n",
              "      box-shadow: 0px 1px 3px 1px rgba(0, 0, 0, 0.15);\n",
              "      filter: drop-shadow(0px 1px 2px rgba(0, 0, 0, 0.3));\n",
              "      fill: #FFFFFF;\n",
              "    }\n",
              "  </style>\n",
              "\n",
              "      <script>\n",
              "        const buttonEl =\n",
              "          document.querySelector('#df-f28fcb72-9cfb-4686-b0c8-ecd9f60e7e86 button.colab-df-convert');\n",
              "        buttonEl.style.display =\n",
              "          google.colab.kernel.accessAllowed ? 'block' : 'none';\n",
              "\n",
              "        async function convertToInteractive(key) {\n",
              "          const element = document.querySelector('#df-f28fcb72-9cfb-4686-b0c8-ecd9f60e7e86');\n",
              "          const dataTable =\n",
              "            await google.colab.kernel.invokeFunction('convertToInteractive',\n",
              "                                                     [key], {});\n",
              "          if (!dataTable) return;\n",
              "\n",
              "          const docLinkHtml = 'Like what you see? Visit the ' +\n",
              "            '<a target=\"_blank\" href=https://colab.research.google.com/notebooks/data_table.ipynb>data table notebook</a>'\n",
              "            + ' to learn more about interactive tables.';\n",
              "          element.innerHTML = '';\n",
              "          dataTable['output_type'] = 'display_data';\n",
              "          await google.colab.output.renderOutput(dataTable, element);\n",
              "          const docLink = document.createElement('div');\n",
              "          docLink.innerHTML = docLinkHtml;\n",
              "          element.appendChild(docLink);\n",
              "        }\n",
              "      </script>\n",
              "    </div>\n",
              "  </div>\n",
              "  "
            ],
            "text/plain": [
              "        DATE  BEVERAGE CLEAR FLAVOUR\n",
              "0 2019-01-19                   66208\n",
              "1 2019-02-19                   51019\n",
              "2 2019-03-19                   81595\n",
              "3 2019-04-19                  106862\n",
              "4 2019-05-19                  171290"
            ]
          },
          "execution_count": 58,
          "metadata": {},
          "output_type": "execute_result"
        }
      ],
      "source": [
        "df_gru.head()"
      ]
    },
    {
      "cell_type": "code",
      "execution_count": 59,
      "metadata": {
        "id": "qwolkSp9aT38"
      },
      "outputs": [],
      "source": [
        "date = df_gru[\"DATE\"]\n",
        "beverage = df_gru[\"BEVERAGE CLEAR FLAVOUR\"]"
      ]
    },
    {
      "cell_type": "code",
      "execution_count": 60,
      "metadata": {
        "id": "cs45wZ9Z9-W2"
      },
      "outputs": [],
      "source": [
        "df_gru = df_gru.drop(\"DATE\",axis=1)"
      ]
    },
    {
      "cell_type": "code",
      "execution_count": 61,
      "metadata": {
        "id": "_-LC0d162Cve"
      },
      "outputs": [],
      "source": [
        "\n",
        "train_data_gru = df_gru.iloc[:len(df)-9]\n",
        "test_data_gru = df_gru.iloc[len(df)-9:]"
      ]
    },
    {
      "cell_type": "code",
      "execution_count": 62,
      "metadata": {
        "colab": {
          "base_uri": "https://localhost:8080/"
        },
        "id": "l0H-D5jJKkL4",
        "outputId": "16366dae-bbb4-4999-c8c6-e5e54838a51a"
      },
      "outputs": [
        {
          "name": "stdout",
          "output_type": "stream",
          "text": [
            "(36, 1)\n",
            "(9, 1)\n"
          ]
        }
      ],
      "source": [
        "print(train_data_gru.shape)\n",
        "print(test_data_gru.shape)"
      ]
    },
    {
      "cell_type": "code",
      "execution_count": 63,
      "metadata": {
        "colab": {
          "base_uri": "https://localhost:8080/"
        },
        "id": "VCdT5bfj4EOE",
        "outputId": "72af8aa8-9fe1-41b2-b9ea-57146b2f239a"
      },
      "outputs": [
        {
          "name": "stdout",
          "output_type": "stream",
          "text": [
            "<class 'pandas.core.frame.DataFrame'>\n",
            "RangeIndex: 45 entries, 0 to 44\n",
            "Data columns (total 1 columns):\n",
            " #   Column                  Non-Null Count  Dtype\n",
            "---  ------                  --------------  -----\n",
            " 0   BEVERAGE CLEAR FLAVOUR  45 non-null     int64\n",
            "dtypes: int64(1)\n",
            "memory usage: 488.0 bytes\n"
          ]
        }
      ],
      "source": [
        "df_gru.info()"
      ]
    },
    {
      "cell_type": "code",
      "execution_count": 64,
      "metadata": {
        "id": "XvCLNs2t5A6M"
      },
      "outputs": [],
      "source": [
        "# train_data_gru['DATE'] = train_data_gru['DATE'].astype('datetime64[D]').values.dtype\n",
        "# test_data_gru['DATE'] = test_data_gru['DATE'].astype('datetime64[D]').values.dtype"
      ]
    },
    {
      "cell_type": "code",
      "execution_count": 65,
      "metadata": {
        "id": "wQjZeUTv6_uF"
      },
      "outputs": [],
      "source": [
        "# train_data_gru = train_data_gru.drop('DATE', axis = 1)\n",
        "# test_data_gru = test_data_gru.drop('DATE', axis = 1)"
      ]
    },
    {
      "cell_type": "code",
      "execution_count": 66,
      "metadata": {
        "id": "5u-agtt93S5M"
      },
      "outputs": [],
      "source": [
        "scaler = MinMaxScaler().fit(train_data_gru)\n",
        "train_scaled_gru = scaler.transform(train_data_gru)\n",
        "test_scaled_gru = scaler.transform(test_data_gru)"
      ]
    },
    {
      "cell_type": "code",
      "execution_count": 67,
      "metadata": {
        "colab": {
          "base_uri": "https://localhost:8080/"
        },
        "id": "nhjij0kD8CmL",
        "outputId": "def70cda-927a-4e3d-f79d-db643ec7c8ff"
      },
      "outputs": [
        {
          "data": {
            "text/plain": [
              "(36, 1)"
            ]
          },
          "execution_count": 67,
          "metadata": {},
          "output_type": "execute_result"
        }
      ],
      "source": [
        "train_scaled_gru.shape"
      ]
    },
    {
      "cell_type": "code",
      "execution_count": 68,
      "metadata": {
        "id": "YLsWyfD1-dUK"
      },
      "outputs": [],
      "source": [
        "def create_dataset (X, look_back = 1):\n",
        "    Xs, ys = [], []\n",
        " \n",
        "    for i in range(len(X)-look_back):\n",
        "        v = X[i:i+look_back]\n",
        "        Xs.append(v)\n",
        "        ys.append(X[i+look_back])\n",
        " \n",
        "    return np.array(Xs), np.array(ys)\n",
        "LOOK_BACK = 1\n",
        "X_train, y_train = create_dataset(train_scaled_gru,LOOK_BACK)\n",
        "X_test, y_test = create_dataset(test_scaled_gru,LOOK_BACK)"
      ]
    },
    {
      "cell_type": "code",
      "execution_count": 69,
      "metadata": {
        "colab": {
          "base_uri": "https://localhost:8080/"
        },
        "id": "kUDRkMvJ-mRZ",
        "outputId": "d95811ad-9e06-4267-fedb-c6f9e24cac7a"
      },
      "outputs": [
        {
          "name": "stdout",
          "output_type": "stream",
          "text": [
            "X_train.shape:  (35, 1, 1)\n",
            "y_train.shape:  (35, 1)\n",
            "X_test.shape:  (8, 1, 1)\n",
            "y_test.shape:  (8, 1)\n"
          ]
        }
      ],
      "source": [
        "print(\"X_train.shape: \", X_train.shape)\n",
        "print(\"y_train.shape: \", y_train.shape)\n",
        "print(\"X_test.shape: \", X_test.shape) \n",
        "print(\"y_test.shape: \", y_test.shape)"
      ]
    },
    {
      "cell_type": "code",
      "execution_count": 70,
      "metadata": {
        "colab": {
          "base_uri": "https://localhost:8080/"
        },
        "id": "50IL_nEuRAf7",
        "outputId": "83746c1b-229c-47b4-fb8f-b0c3101a7bab"
      },
      "outputs": [
        {
          "data": {
            "text/plain": [
              "array([[[0.10687937]],\n",
              "\n",
              "       [[0.30652463]],\n",
              "\n",
              "       [[0.71198503]],\n",
              "\n",
              "       [[0.69210973]],\n",
              "\n",
              "       [[1.06940303]],\n",
              "\n",
              "       [[0.56214499]],\n",
              "\n",
              "       [[0.72179482]],\n",
              "\n",
              "       [[0.46948247]]])"
            ]
          },
          "execution_count": 70,
          "metadata": {},
          "output_type": "execute_result"
        }
      ],
      "source": [
        "X_test"
      ]
    },
    {
      "cell_type": "code",
      "execution_count": 71,
      "metadata": {
        "colab": {
          "base_uri": "https://localhost:8080/"
        },
        "id": "FA6BNWsmRGs6",
        "outputId": "5a46c1da-1c9b-4b1b-ccc5-48931f1eefaf"
      },
      "outputs": [
        {
          "data": {
            "text/plain": [
              "(8, 1, 1)"
            ]
          },
          "execution_count": 71,
          "metadata": {},
          "output_type": "execute_result"
        }
      ],
      "source": [
        "X_test.shape"
      ]
    },
    {
      "cell_type": "code",
      "execution_count": 72,
      "metadata": {
        "colab": {
          "base_uri": "https://localhost:8080/"
        },
        "id": "_f5_0P333St8",
        "outputId": "72100426-da49-48ef-da9f-de282e3d7843"
      },
      "outputs": [
        {
          "name": "stdout",
          "output_type": "stream",
          "text": [
            "Model: \"sequential_1\"\n",
            "_________________________________________________________________\n",
            " Layer (type)                Output Shape              Param #   \n",
            "=================================================================\n",
            " gru (GRU)                   (None, 1, 64)             12864     \n",
            "                                                                 \n",
            " dropout (Dropout)           (None, 1, 64)             0         \n",
            "                                                                 \n",
            " gru_1 (GRU)                 (None, 64)                24960     \n",
            "                                                                 \n",
            " dropout_1 (Dropout)         (None, 64)                0         \n",
            "                                                                 \n",
            " dense_1 (Dense)             (None, 1)                 65        \n",
            "                                                                 \n",
            "=================================================================\n",
            "Total params: 37,889\n",
            "Trainable params: 37,889\n",
            "Non-trainable params: 0\n",
            "_________________________________________________________________\n"
          ]
        }
      ],
      "source": [
        "from scipy import stats\n",
        "%matplotlib inline\n",
        "import tensorflow as tf\n",
        "from tensorflow import keras\n",
        "from tensorflow.keras import Sequential, layers, callbacks\n",
        "from tensorflow.keras.layers import Dense, LSTM, Dropout, GRU, Bidirectional\n",
        "model = Sequential()\n",
        "# Input layer\n",
        "model.add(GRU (units = 64, return_sequences = True, \n",
        "input_shape = [X_train.shape[1], X_train.shape[2]]))\n",
        "model.add(Dropout(0.2)) \n",
        "# Hidden layer\n",
        "model.add(GRU(units = 64)) \n",
        "model.add(Dropout(0.2))\n",
        "model.add(Dense(units = 1)) \n",
        "#Compile model\n",
        "model.compile(optimizer='adam',loss='mse')\n",
        "model.summary()"
      ]
    },
    {
      "cell_type": "code",
      "execution_count": 73,
      "metadata": {
        "colab": {
          "base_uri": "https://localhost:8080/"
        },
        "id": "M6-sqsMM3UeY",
        "outputId": "12adaa9a-b9c5-41c9-ba19-1b026d992227"
      },
      "outputs": [
        {
          "name": "stdout",
          "output_type": "stream",
          "text": [
            "Epoch 1/100\n",
            "2/2 [==============================] - 7s 743ms/step - loss: 0.1909 - val_loss: 0.1238\n",
            "Epoch 2/100\n",
            "2/2 [==============================] - 0s 42ms/step - loss: 0.1635 - val_loss: 0.0984\n",
            "Epoch 3/100\n",
            "2/2 [==============================] - 0s 24ms/step - loss: 0.1365 - val_loss: 0.0763\n",
            "Epoch 4/100\n",
            "2/2 [==============================] - 0s 23ms/step - loss: 0.1170 - val_loss: 0.0575\n",
            "Epoch 5/100\n",
            "2/2 [==============================] - 0s 25ms/step - loss: 0.0985 - val_loss: 0.0421\n",
            "Epoch 6/100\n",
            "2/2 [==============================] - 0s 25ms/step - loss: 0.0808 - val_loss: 0.0307\n",
            "Epoch 7/100\n",
            "2/2 [==============================] - 0s 24ms/step - loss: 0.0710 - val_loss: 0.0234\n",
            "Epoch 8/100\n",
            "2/2 [==============================] - 0s 26ms/step - loss: 0.0626 - val_loss: 0.0206\n",
            "Epoch 9/100\n",
            "2/2 [==============================] - 0s 25ms/step - loss: 0.0579 - val_loss: 0.0219\n",
            "Epoch 10/100\n",
            "2/2 [==============================] - 0s 25ms/step - loss: 0.0524 - val_loss: 0.0262\n",
            "Epoch 11/100\n",
            "2/2 [==============================] - 0s 28ms/step - loss: 0.0531 - val_loss: 0.0319\n",
            "Epoch 12/100\n",
            "2/2 [==============================] - 0s 25ms/step - loss: 0.0518 - val_loss: 0.0371\n",
            "Epoch 13/100\n",
            "2/2 [==============================] - 0s 26ms/step - loss: 0.0514 - val_loss: 0.0399\n",
            "Epoch 14/100\n",
            "2/2 [==============================] - 0s 26ms/step - loss: 0.0549 - val_loss: 0.0402\n",
            "Epoch 15/100\n",
            "2/2 [==============================] - 0s 24ms/step - loss: 0.0597 - val_loss: 0.0381\n",
            "Epoch 16/100\n",
            "2/2 [==============================] - 0s 82ms/step - loss: 0.0554 - val_loss: 0.0349\n",
            "Epoch 17/100\n",
            "2/2 [==============================] - 0s 76ms/step - loss: 0.0541 - val_loss: 0.0311\n",
            "Epoch 18/100\n",
            "2/2 [==============================] - 0s 41ms/step - loss: 0.0567 - val_loss: 0.0278\n"
          ]
        }
      ],
      "source": [
        "early_stop = keras.callbacks.EarlyStopping(monitor = 'val_loss',\n",
        "                                               patience = 10)\n",
        "history = model.fit(X_train, y_train, epochs = 100,  \n",
        "                        validation_split = 0.2,\n",
        "                        batch_size = 16, shuffle = False, \n",
        "                        callbacks = [early_stop])"
      ]
    },
    {
      "cell_type": "code",
      "execution_count": 74,
      "metadata": {
        "id": "A1CXY53o3UbQ"
      },
      "outputs": [],
      "source": [
        "y_test = scaler.inverse_transform(y_test)\n",
        "y_train = scaler.inverse_transform(y_train)"
      ]
    },
    {
      "cell_type": "code",
      "execution_count": 75,
      "metadata": {
        "colab": {
          "base_uri": "https://localhost:8080/",
          "height": 390
        },
        "id": "q2VwXEza3UXV",
        "outputId": "33c0196b-466e-4fef-87af-9d734f0750f3"
      },
      "outputs": [
        {
          "data": {
            "image/png": "[encoded data removed]",
            "text/plain": [
              "<Figure size 720x432 with 1 Axes>"
            ]
          },
          "metadata": {
            "needs_background": "light"
          },
          "output_type": "display_data"
        }
      ],
      "source": [
        "def plot_loss(history, model_name):\n",
        "    plt.figure(figsize = (10, 6))\n",
        "    plt.plot(history.history['loss'])\n",
        "    plt.plot(history.history['val_loss'])\n",
        "    plt.title('Model Train vs Validation Loss for ' + model_name)\n",
        "    plt.legend(['Train loss', 'Validation loss'], loc='upper right')\n",
        " \n",
        "plot_loss(history, 'GRU')\n"
      ]
    },
    {
      "cell_type": "code",
      "execution_count": 76,
      "metadata": {
        "colab": {
          "base_uri": "https://localhost:8080/"
        },
        "id": "xkH_LxtF3USf",
        "outputId": "27d479c0-1f85-42f3-ef01-bda99ed2cc07"
      },
      "outputs": [
        {
          "name": "stdout",
          "output_type": "stream",
          "text": [
            "1/1 [==============================] - 1s 1s/step\n"
          ]
        }
      ],
      "source": [
        "prediction = model.predict(X_test)\n",
        "prediction = scaler.inverse_transform(prediction)"
      ]
    },
    {
      "cell_type": "code",
      "execution_count": 77,
      "metadata": {
        "colab": {
          "base_uri": "https://localhost:8080/"
        },
        "id": "kEHow4Ka3ULX",
        "outputId": "e0a9fdc8-d4b4-4ba2-f4d6-0cb64586debc"
      },
      "outputs": [
        {
          "data": {
            "text/plain": [
              "array([[ 79776.59 ],\n",
              "       [ 92969.2  ],\n",
              "       [119676.41 ],\n",
              "       [118372.42 ],\n",
              "       [142979.36 ],\n",
              "       [109829.76 ],\n",
              "       [120319.734],\n",
              "       [103724.89 ]], dtype=float32)"
            ]
          },
          "execution_count": 77,
          "metadata": {},
          "output_type": "execute_result"
        }
      ],
      "source": [
        "prediction"
      ]
    },
    {
      "cell_type": "code",
      "execution_count": 78,
      "metadata": {
        "id": "WQjcv5lCOT-b"
      },
      "outputs": [],
      "source": [
        "test_data_copy['GRU_Predictions'] = prediction"
      ]
    },
    {
      "cell_type": "code",
      "execution_count": 79,
      "metadata": {
        "colab": {
          "base_uri": "https://localhost:8080/",
          "height": 343
        },
        "id": "ti0_2lP2Ps49",
        "outputId": "37791b8c-1fcf-4277-92e2-f9b4a3872a8f"
      },
      "outputs": [
        {
          "data": {
            "text/plain": [
              "<matplotlib.axes._subplots.AxesSubplot at 0x7f8f8e26aad0>"
            ]
          },
          "execution_count": 79,
          "metadata": {},
          "output_type": "execute_result"
        },
        {
          "data": {
            "image/png": "[encoded data removed]",
            "text/plain": [
              "<Figure size 1152x360 with 1 Axes>"
            ]
          },
          "metadata": {
            "needs_background": "light"
          },
          "output_type": "display_data"
        }
      ],
      "source": [
        "test_data_copy['BEVERAGE CLEAR FLAVOUR'].plot(figsize = (16,5), legend=True)\n",
        "test_data_copy['GRU_Predictions'].plot(legend = True)"
      ]
    },
    {
      "cell_type": "code",
      "execution_count": 80,
      "metadata": {
        "colab": {
          "base_uri": "https://localhost:8080/"
        },
        "id": "wIiSyikjAuAc",
        "outputId": "38600d1e-91b4-4238-83de-ca06da0ab81a"
      },
      "outputs": [
        {
          "name": "stdout",
          "output_type": "stream",
          "text": [
            "MSE Error: [2.2271993e+09]\n",
            "RMSE Error: [47193.21241207]\n",
            "Mean: 2227199297.7704234\n",
            "r2_score : -0.3516569538063785\n",
            "MASE : 0.20202582471425828\n",
            "MAD : 14380.9345703125\n",
            "MAE: 33904.0751953125\n"
          ]
        }
      ],
      "source": [
        "gru_rmse_error = rmse(y_test, prediction)\n",
        "gru_mse_error = gru_rmse_error**2\n",
        "errors = prediction - y_test\n",
        "mean_value = np.square(errors).mean()\n",
        "\n",
        "r2_score_gru = r2_score(y_test, prediction) \n",
        "MAPE_gru = mean_absolute_percentage_error(y_test, prediction)\n",
        "MAD_gru = test_data_copy['GRU_Predictions'].mad()\n",
        "MAE_gru = mean_absolute_error(test_data['BEVERAGE CLEAR FLAVOUR'], test_data_copy['GRU_Predictions'])\n",
        "\n",
        "\n",
        "print(f'MSE Error: {gru_mse_error}\\nRMSE Error: {gru_rmse_error}\\nMean: {mean_value}\\nr2_score : {r2_score_gru}\\nMASE : {MAPE_gru}\\nMAD : {MAD_gru}\\nMAE: {MAE_gru}')"
      ]
    },
    {
      "cell_type": "code",
      "execution_count": 81,
      "metadata": {
        "colab": {
          "base_uri": "https://localhost:8080/",
          "height": 332
        },
        "id": "2Th5ox0dEk7t",
        "outputId": "bf457746-90dc-454b-f221-b11217700795"
      },
      "outputs": [
        {
          "data": {
            "text/html": [
              "\n",
              "  <div id=\"df-59c9380f-1035-425a-9a4f-7d7f5175f4d3\">\n",
              "    <div class=\"colab-df-container\">\n",
              "      <div>\n",
              "<style scoped>\n",
              "    .dataframe tbody tr th:only-of-type {\n",
              "        vertical-align: middle;\n",
              "    }\n",
              "\n",
              "    .dataframe tbody tr th {\n",
              "        vertical-align: top;\n",
              "    }\n",
              "\n",
              "    .dataframe thead th {\n",
              "        text-align: right;\n",
              "    }\n",
              "</style>\n",
              "<table border=\"1\" class=\"dataframe\">\n",
              "  <thead>\n",
              "    <tr style=\"text-align: right;\">\n",
              "      <th></th>\n",
              "      <th>BEVERAGE CLEAR FLAVOUR</th>\n",
              "      <th>ARIMA_Predictions</th>\n",
              "      <th>LSTM_Predictions</th>\n",
              "      <th>Prophet_Predictions</th>\n",
              "      <th>GRU_Predictions</th>\n",
              "    </tr>\n",
              "    <tr>\n",
              "      <th>DATE</th>\n",
              "      <th></th>\n",
              "      <th></th>\n",
              "      <th></th>\n",
              "      <th></th>\n",
              "      <th></th>\n",
              "    </tr>\n",
              "  </thead>\n",
              "  <tbody>\n",
              "    <tr>\n",
              "      <th>2022-02-22</th>\n",
              "      <td>80353</td>\n",
              "      <td>51355.054967</td>\n",
              "      <td>74240.107823</td>\n",
              "      <td>119128.579930</td>\n",
              "      <td>79776.593750</td>\n",
              "    </tr>\n",
              "    <tr>\n",
              "      <th>2022-03-22</th>\n",
              "      <td>154875</td>\n",
              "      <td>52249.584702</td>\n",
              "      <td>79904.226218</td>\n",
              "      <td>130949.629237</td>\n",
              "      <td>92969.203125</td>\n",
              "    </tr>\n",
              "    <tr>\n",
              "      <th>2022-04-22</th>\n",
              "      <td>151222</td>\n",
              "      <td>59214.749551</td>\n",
              "      <td>81357.151209</td>\n",
              "      <td>53375.715291</td>\n",
              "      <td>119676.406250</td>\n",
              "    </tr>\n",
              "    <tr>\n",
              "      <th>2022-05-22</th>\n",
              "      <td>220567</td>\n",
              "      <td>92528.164190</td>\n",
              "      <td>81122.739558</td>\n",
              "      <td>189014.420888</td>\n",
              "      <td>118372.421875</td>\n",
              "    </tr>\n",
              "    <tr>\n",
              "      <th>2022-06-22</th>\n",
              "      <td>127335</td>\n",
              "      <td>73194.597143</td>\n",
              "      <td>81099.060119</td>\n",
              "      <td>131834.377599</td>\n",
              "      <td>142979.359375</td>\n",
              "    </tr>\n",
              "    <tr>\n",
              "      <th>2022-07-22</th>\n",
              "      <td>156678</td>\n",
              "      <td>40557.310185</td>\n",
              "      <td>81028.969419</td>\n",
              "      <td>111703.831255</td>\n",
              "      <td>109829.757812</td>\n",
              "    </tr>\n",
              "    <tr>\n",
              "      <th>2022-08-22</th>\n",
              "      <td>110304</td>\n",
              "      <td>34577.680294</td>\n",
              "      <td>81020.835261</td>\n",
              "      <td>89763.795999</td>\n",
              "      <td>120319.734375</td>\n",
              "    </tr>\n",
              "    <tr>\n",
              "      <th>2022-09-22</th>\n",
              "      <td>101223</td>\n",
              "      <td>43345.676801</td>\n",
              "      <td>81011.999977</td>\n",
              "      <td>83690.348960</td>\n",
              "      <td>103724.890625</td>\n",
              "    </tr>\n",
              "  </tbody>\n",
              "</table>\n",
              "</div>\n",
              "      <button class=\"colab-df-convert\" onclick=\"convertToInteractive('df-59c9380f-1035-425a-9a4f-7d7f5175f4d3')\"\n",
              "              title=\"Convert this dataframe to an interactive table.\"\n",
              "              style=\"display:none;\">\n",
              "        \n",
              "  <svg xmlns=\"http://www.w3.org/2000/svg\" height=\"24px\"viewBox=\"0 0 24 24\"\n",
              "       width=\"24px\">\n",
              "    <path d=\"M0 0h24v24H0V0z\" fill=\"none\"/>\n",
              "    <path d=\"M18.56 5.44l.94 2.06.94-2.06 2.06-.94-2.06-.94-.94-2.06-.94 2.06-2.06.94zm-11 1L8.5 8.5l.94-2.06 2.06-.94-2.06-.94L8.5 2.5l-.94 2.06-2.06.94zm10 10l.94 2.06.94-2.06 2.06-.94-2.06-.94-.94-2.06-.94 2.06-2.06.94z\"/><path d=\"M17.41 7.96l-1.37-1.37c-.4-.4-.92-.59-1.43-.59-.52 0-1.04.2-1.43.59L10.3 9.45l-7.72 7.72c-.78.78-.78 2.05 0 2.83L4 21.41c.39.39.9.59 1.41.59.51 0 1.02-.2 1.41-.59l7.78-7.78 2.81-2.81c.8-.78.8-2.07 0-2.86zM5.41 20L4 18.59l7.72-7.72 1.47 1.35L5.41 20z\"/>\n",
              "  </svg>\n",
              "      </button>\n",
              "      \n",
              "  <style>\n",
              "    .colab-df-container {\n",
              "      display:flex;\n",
              "      flex-wrap:wrap;\n",
              "      gap: 12px;\n",
              "    }\n",
              "\n",
              "    .colab-df-convert {\n",
              "      background-color: #E8F0FE;\n",
              "      border: none;\n",
              "      border-radius: 50%;\n",
              "      cursor: pointer;\n",
              "      display: none;\n",
              "      fill: #1967D2;\n",
              "      height: 32px;\n",
              "      padding: 0 0 0 0;\n",
              "      width: 32px;\n",
              "    }\n",
              "\n",
              "    .colab-df-convert:hover {\n",
              "      background-color: #E2EBFA;\n",
              "      box-shadow: 0px 1px 2px rgba(60, 64, 67, 0.3), 0px 1px 3px 1px rgba(60, 64, 67, 0.15);\n",
              "      fill: #174EA6;\n",
              "    }\n",
              "\n",
              "    [theme=dark] .colab-df-convert {\n",
              "      background-color: #3B4455;\n",
              "      fill: #D2E3FC;\n",
              "    }\n",
              "\n",
              "    [theme=dark] .colab-df-convert:hover {\n",
              "      background-color: #434B5C;\n",
              "      box-shadow: 0px 1px 3px 1px rgba(0, 0, 0, 0.15);\n",
              "      filter: drop-shadow(0px 1px 2px rgba(0, 0, 0, 0.3));\n",
              "      fill: #FFFFFF;\n",
              "    }\n",
              "  </style>\n",
              "\n",
              "      <script>\n",
              "        const buttonEl =\n",
              "          document.querySelector('#df-59c9380f-1035-425a-9a4f-7d7f5175f4d3 button.colab-df-convert');\n",
              "        buttonEl.style.display =\n",
              "          google.colab.kernel.accessAllowed ? 'block' : 'none';\n",
              "\n",
              "        async function convertToInteractive(key) {\n",
              "          const element = document.querySelector('#df-59c9380f-1035-425a-9a4f-7d7f5175f4d3');\n",
              "          const dataTable =\n",
              "            await google.colab.kernel.invokeFunction('convertToInteractive',\n",
              "                                                     [key], {});\n",
              "          if (!dataTable) return;\n",
              "\n",
              "          const docLinkHtml = 'Like what you see? Visit the ' +\n",
              "            '<a target=\"_blank\" href=https://colab.research.google.com/notebooks/data_table.ipynb>data table notebook</a>'\n",
              "            + ' to learn more about interactive tables.';\n",
              "          element.innerHTML = '';\n",
              "          dataTable['output_type'] = 'display_data';\n",
              "          await google.colab.output.renderOutput(dataTable, element);\n",
              "          const docLink = document.createElement('div');\n",
              "          docLink.innerHTML = docLinkHtml;\n",
              "          element.appendChild(docLink);\n",
              "        }\n",
              "      </script>\n",
              "    </div>\n",
              "  </div>\n",
              "  "
            ],
            "text/plain": [
              "            BEVERAGE CLEAR FLAVOUR  ARIMA_Predictions  LSTM_Predictions  \\\n",
              "DATE                                                                      \n",
              "2022-02-22                   80353       51355.054967      74240.107823   \n",
              "2022-03-22                  154875       52249.584702      79904.226218   \n",
              "2022-04-22                  151222       59214.749551      81357.151209   \n",
              "2022-05-22                  220567       92528.164190      81122.739558   \n",
              "2022-06-22                  127335       73194.597143      81099.060119   \n",
              "2022-07-22                  156678       40557.310185      81028.969419   \n",
              "2022-08-22                  110304       34577.680294      81020.835261   \n",
              "2022-09-22                  101223       43345.676801      81011.999977   \n",
              "\n",
              "            Prophet_Predictions  GRU_Predictions  \n",
              "DATE                                              \n",
              "2022-02-22        119128.579930     79776.593750  \n",
              "2022-03-22        130949.629237     92969.203125  \n",
              "2022-04-22         53375.715291    119676.406250  \n",
              "2022-05-22        189014.420888    118372.421875  \n",
              "2022-06-22        131834.377599    142979.359375  \n",
              "2022-07-22        111703.831255    109829.757812  \n",
              "2022-08-22         89763.795999    120319.734375  \n",
              "2022-09-22         83690.348960    103724.890625  "
            ]
          },
          "execution_count": 81,
          "metadata": {},
          "output_type": "execute_result"
        }
      ],
      "source": [
        "test_data_copy"
      ]
    },
    {
      "cell_type": "markdown",
      "metadata": {
        "id": "fK03toaAE5Do"
      },
      "source": [
        "### XGBoost"
      ]
    },
    {
      "cell_type": "code",
      "execution_count": 82,
      "metadata": {
        "id": "MbTZPPPaFHcJ"
      },
      "outputs": [],
      "source": [
        "import xgboost as xgb"
      ]
    },
    {
      "cell_type": "code",
      "execution_count": 83,
      "metadata": {
        "id": "sNh5KtkzFNcm"
      },
      "outputs": [],
      "source": [
        "df_xgb = pd.read_csv(\"Cleaned.csv\",parse_dates=[\"DATE\"])"
      ]
    },
    {
      "cell_type": "code",
      "execution_count": 84,
      "metadata": {
        "id": "QMyRhS2HFzIA"
      },
      "outputs": [],
      "source": [
        "train_data_xgb = df_xgb.iloc[:len(df_xgb)-8]\n",
        "test_data_xgb = df_xgb.iloc[len(df_xgb)-8:]"
      ]
    },
    {
      "cell_type": "code",
      "execution_count": 85,
      "metadata": {
        "colab": {
          "base_uri": "https://localhost:8080/"
        },
        "id": "dZBYeG-PQbVz",
        "outputId": "8412c063-6b06-4045-860e-4160d3e6a1d7"
      },
      "outputs": [
        {
          "name": "stdout",
          "output_type": "stream",
          "text": [
            "(37, 2)\n",
            "(8, 2)\n"
          ]
        }
      ],
      "source": [
        "print(train_data_xgb.shape)\n",
        "print(test_data_xgb.shape)"
      ]
    },
    {
      "cell_type": "code",
      "execution_count": 86,
      "metadata": {
        "id": "73Y9f6t-Gv4m"
      },
      "outputs": [],
      "source": [
        "from sklearn.model_selection import train_test_split\n",
        "y = df_xgb['BEVERAGE CLEAR FLAVOUR']\n",
        "X = df_xgb.drop(columns=['DATE'],axis=1)\n",
        "X_train = X[:len(df_xgb)-8]\n",
        "y_train = y[:len(df_xgb)-8]\n",
        "X_test = X[len(df_xgb)-8:]\n",
        "y_test = y[len(df_xgb)-8:]"
      ]
    },
    {
      "cell_type": "code",
      "execution_count": 87,
      "metadata": {
        "colab": {
          "base_uri": "https://localhost:8080/",
          "height": 206
        },
        "id": "PIxFHIiRQ-zb",
        "outputId": "4585f580-1c1c-4126-b376-d9c2e236926f"
      },
      "outputs": [
        {
          "data": {
            "text/html": [
              "\n",
              "  <div id=\"df-3962e832-67b6-4e9d-ac00-018ed5df97ea\">\n",
              "    <div class=\"colab-df-container\">\n",
              "      <div>\n",
              "<style scoped>\n",
              "    .dataframe tbody tr th:only-of-type {\n",
              "        vertical-align: middle;\n",
              "    }\n",
              "\n",
              "    .dataframe tbody tr th {\n",
              "        vertical-align: top;\n",
              "    }\n",
              "\n",
              "    .dataframe thead th {\n",
              "        text-align: right;\n",
              "    }\n",
              "</style>\n",
              "<table border=\"1\" class=\"dataframe\">\n",
              "  <thead>\n",
              "    <tr style=\"text-align: right;\">\n",
              "      <th></th>\n",
              "      <th>BEVERAGE CLEAR FLAVOUR</th>\n",
              "    </tr>\n",
              "  </thead>\n",
              "  <tbody>\n",
              "    <tr>\n",
              "      <th>0</th>\n",
              "      <td>66208</td>\n",
              "    </tr>\n",
              "    <tr>\n",
              "      <th>1</th>\n",
              "      <td>51019</td>\n",
              "    </tr>\n",
              "    <tr>\n",
              "      <th>2</th>\n",
              "      <td>81595</td>\n",
              "    </tr>\n",
              "    <tr>\n",
              "      <th>3</th>\n",
              "      <td>106862</td>\n",
              "    </tr>\n",
              "    <tr>\n",
              "      <th>4</th>\n",
              "      <td>171290</td>\n",
              "    </tr>\n",
              "  </tbody>\n",
              "</table>\n",
              "</div>\n",
              "      <button class=\"colab-df-convert\" onclick=\"convertToInteractive('df-3962e832-67b6-4e9d-ac00-018ed5df97ea')\"\n",
              "              title=\"Convert this dataframe to an interactive table.\"\n",
              "              style=\"display:none;\">\n",
              "        \n",
              "  <svg xmlns=\"http://www.w3.org/2000/svg\" height=\"24px\"viewBox=\"0 0 24 24\"\n",
              "       width=\"24px\">\n",
              "    <path d=\"M0 0h24v24H0V0z\" fill=\"none\"/>\n",
              "    <path d=\"M18.56 5.44l.94 2.06.94-2.06 2.06-.94-2.06-.94-.94-2.06-.94 2.06-2.06.94zm-11 1L8.5 8.5l.94-2.06 2.06-.94-2.06-.94L8.5 2.5l-.94 2.06-2.06.94zm10 10l.94 2.06.94-2.06 2.06-.94-2.06-.94-.94-2.06-.94 2.06-2.06.94z\"/><path d=\"M17.41 7.96l-1.37-1.37c-.4-.4-.92-.59-1.43-.59-.52 0-1.04.2-1.43.59L10.3 9.45l-7.72 7.72c-.78.78-.78 2.05 0 2.83L4 21.41c.39.39.9.59 1.41.59.51 0 1.02-.2 1.41-.59l7.78-7.78 2.81-2.81c.8-.78.8-2.07 0-2.86zM5.41 20L4 18.59l7.72-7.72 1.47 1.35L5.41 20z\"/>\n",
              "  </svg>\n",
              "      </button>\n",
              "      \n",
              "  <style>\n",
              "    .colab-df-container {\n",
              "      display:flex;\n",
              "      flex-wrap:wrap;\n",
              "      gap: 12px;\n",
              "    }\n",
              "\n",
              "    .colab-df-convert {\n",
              "      background-color: #E8F0FE;\n",
              "      border: none;\n",
              "      border-radius: 50%;\n",
              "      cursor: pointer;\n",
              "      display: none;\n",
              "      fill: #1967D2;\n",
              "      height: 32px;\n",
              "      padding: 0 0 0 0;\n",
              "      width: 32px;\n",
              "    }\n",
              "\n",
              "    .colab-df-convert:hover {\n",
              "      background-color: #E2EBFA;\n",
              "      box-shadow: 0px 1px 2px rgba(60, 64, 67, 0.3), 0px 1px 3px 1px rgba(60, 64, 67, 0.15);\n",
              "      fill: #174EA6;\n",
              "    }\n",
              "\n",
              "    [theme=dark] .colab-df-convert {\n",
              "      background-color: #3B4455;\n",
              "      fill: #D2E3FC;\n",
              "    }\n",
              "\n",
              "    [theme=dark] .colab-df-convert:hover {\n",
              "      background-color: #434B5C;\n",
              "      box-shadow: 0px 1px 3px 1px rgba(0, 0, 0, 0.15);\n",
              "      filter: drop-shadow(0px 1px 2px rgba(0, 0, 0, 0.3));\n",
              "      fill: #FFFFFF;\n",
              "    }\n",
              "  </style>\n",
              "\n",
              "      <script>\n",
              "        const buttonEl =\n",
              "          document.querySelector('#df-3962e832-67b6-4e9d-ac00-018ed5df97ea button.colab-df-convert');\n",
              "        buttonEl.style.display =\n",
              "          google.colab.kernel.accessAllowed ? 'block' : 'none';\n",
              "\n",
              "        async function convertToInteractive(key) {\n",
              "          const element = document.querySelector('#df-3962e832-67b6-4e9d-ac00-018ed5df97ea');\n",
              "          const dataTable =\n",
              "            await google.colab.kernel.invokeFunction('convertToInteractive',\n",
              "                                                     [key], {});\n",
              "          if (!dataTable) return;\n",
              "\n",
              "          const docLinkHtml = 'Like what you see? Visit the ' +\n",
              "            '<a target=\"_blank\" href=https://colab.research.google.com/notebooks/data_table.ipynb>data table notebook</a>'\n",
              "            + ' to learn more about interactive tables.';\n",
              "          element.innerHTML = '';\n",
              "          dataTable['output_type'] = 'display_data';\n",
              "          await google.colab.output.renderOutput(dataTable, element);\n",
              "          const docLink = document.createElement('div');\n",
              "          docLink.innerHTML = docLinkHtml;\n",
              "          element.appendChild(docLink);\n",
              "        }\n",
              "      </script>\n",
              "    </div>\n",
              "  </div>\n",
              "  "
            ],
            "text/plain": [
              "   BEVERAGE CLEAR FLAVOUR\n",
              "0                   66208\n",
              "1                   51019\n",
              "2                   81595\n",
              "3                  106862\n",
              "4                  171290"
            ]
          },
          "execution_count": 87,
          "metadata": {},
          "output_type": "execute_result"
        }
      ],
      "source": [
        "X.head()"
      ]
    },
    {
      "cell_type": "code",
      "execution_count": 88,
      "metadata": {
        "colab": {
          "base_uri": "https://localhost:8080/"
        },
        "id": "jAsRzyt3RBM6",
        "outputId": "fd96c208-16cb-49b4-82ab-141b08461014"
      },
      "outputs": [
        {
          "data": {
            "text/plain": [
              "0     66208\n",
              "1     51019\n",
              "2     81595\n",
              "3    106862\n",
              "4    171290\n",
              "Name: BEVERAGE CLEAR FLAVOUR, dtype: int64"
            ]
          },
          "execution_count": 88,
          "metadata": {},
          "output_type": "execute_result"
        }
      ],
      "source": [
        "y.head()"
      ]
    },
    {
      "cell_type": "code",
      "execution_count": 89,
      "metadata": {
        "colab": {
          "base_uri": "https://localhost:8080/"
        },
        "id": "M1gGy3qoRfbR",
        "outputId": "952727d0-228e-446a-e493-4380da3bb41d"
      },
      "outputs": [
        {
          "data": {
            "text/plain": [
              "0     66208\n",
              "1     51019\n",
              "2     81595\n",
              "3    106862\n",
              "4    171290\n",
              "Name: BEVERAGE CLEAR FLAVOUR, dtype: int64"
            ]
          },
          "execution_count": 89,
          "metadata": {},
          "output_type": "execute_result"
        }
      ],
      "source": [
        "y_train.head()"
      ]
    },
    {
      "cell_type": "code",
      "execution_count": 90,
      "metadata": {
        "colab": {
          "base_uri": "https://localhost:8080/",
          "height": 206
        },
        "id": "LzRfQhIdR3cZ",
        "outputId": "1982dcb0-88da-4b1f-b7ac-551a512cd069"
      },
      "outputs": [
        {
          "data": {
            "text/html": [
              "\n",
              "  <div id=\"df-515ac5c3-e390-49a2-8cdb-d8c89bcfaa54\">\n",
              "    <div class=\"colab-df-container\">\n",
              "      <div>\n",
              "<style scoped>\n",
              "    .dataframe tbody tr th:only-of-type {\n",
              "        vertical-align: middle;\n",
              "    }\n",
              "\n",
              "    .dataframe tbody tr th {\n",
              "        vertical-align: top;\n",
              "    }\n",
              "\n",
              "    .dataframe thead th {\n",
              "        text-align: right;\n",
              "    }\n",
              "</style>\n",
              "<table border=\"1\" class=\"dataframe\">\n",
              "  <thead>\n",
              "    <tr style=\"text-align: right;\">\n",
              "      <th></th>\n",
              "      <th>BEVERAGE CLEAR FLAVOUR</th>\n",
              "    </tr>\n",
              "  </thead>\n",
              "  <tbody>\n",
              "    <tr>\n",
              "      <th>0</th>\n",
              "      <td>66208</td>\n",
              "    </tr>\n",
              "    <tr>\n",
              "      <th>1</th>\n",
              "      <td>51019</td>\n",
              "    </tr>\n",
              "    <tr>\n",
              "      <th>2</th>\n",
              "      <td>81595</td>\n",
              "    </tr>\n",
              "    <tr>\n",
              "      <th>3</th>\n",
              "      <td>106862</td>\n",
              "    </tr>\n",
              "    <tr>\n",
              "      <th>4</th>\n",
              "      <td>171290</td>\n",
              "    </tr>\n",
              "  </tbody>\n",
              "</table>\n",
              "</div>\n",
              "      <button class=\"colab-df-convert\" onclick=\"convertToInteractive('df-515ac5c3-e390-49a2-8cdb-d8c89bcfaa54')\"\n",
              "              title=\"Convert this dataframe to an interactive table.\"\n",
              "              style=\"display:none;\">\n",
              "        \n",
              "  <svg xmlns=\"http://www.w3.org/2000/svg\" height=\"24px\"viewBox=\"0 0 24 24\"\n",
              "       width=\"24px\">\n",
              "    <path d=\"M0 0h24v24H0V0z\" fill=\"none\"/>\n",
              "    <path d=\"M18.56 5.44l.94 2.06.94-2.06 2.06-.94-2.06-.94-.94-2.06-.94 2.06-2.06.94zm-11 1L8.5 8.5l.94-2.06 2.06-.94-2.06-.94L8.5 2.5l-.94 2.06-2.06.94zm10 10l.94 2.06.94-2.06 2.06-.94-2.06-.94-.94-2.06-.94 2.06-2.06.94z\"/><path d=\"M17.41 7.96l-1.37-1.37c-.4-.4-.92-.59-1.43-.59-.52 0-1.04.2-1.43.59L10.3 9.45l-7.72 7.72c-.78.78-.78 2.05 0 2.83L4 21.41c.39.39.9.59 1.41.59.51 0 1.02-.2 1.41-.59l7.78-7.78 2.81-2.81c.8-.78.8-2.07 0-2.86zM5.41 20L4 18.59l7.72-7.72 1.47 1.35L5.41 20z\"/>\n",
              "  </svg>\n",
              "      </button>\n",
              "      \n",
              "  <style>\n",
              "    .colab-df-container {\n",
              "      display:flex;\n",
              "      flex-wrap:wrap;\n",
              "      gap: 12px;\n",
              "    }\n",
              "\n",
              "    .colab-df-convert {\n",
              "      background-color: #E8F0FE;\n",
              "      border: none;\n",
              "      border-radius: 50%;\n",
              "      cursor: pointer;\n",
              "      display: none;\n",
              "      fill: #1967D2;\n",
              "      height: 32px;\n",
              "      padding: 0 0 0 0;\n",
              "      width: 32px;\n",
              "    }\n",
              "\n",
              "    .colab-df-convert:hover {\n",
              "      background-color: #E2EBFA;\n",
              "      box-shadow: 0px 1px 2px rgba(60, 64, 67, 0.3), 0px 1px 3px 1px rgba(60, 64, 67, 0.15);\n",
              "      fill: #174EA6;\n",
              "    }\n",
              "\n",
              "    [theme=dark] .colab-df-convert {\n",
              "      background-color: #3B4455;\n",
              "      fill: #D2E3FC;\n",
              "    }\n",
              "\n",
              "    [theme=dark] .colab-df-convert:hover {\n",
              "      background-color: #434B5C;\n",
              "      box-shadow: 0px 1px 3px 1px rgba(0, 0, 0, 0.15);\n",
              "      filter: drop-shadow(0px 1px 2px rgba(0, 0, 0, 0.3));\n",
              "      fill: #FFFFFF;\n",
              "    }\n",
              "  </style>\n",
              "\n",
              "      <script>\n",
              "        const buttonEl =\n",
              "          document.querySelector('#df-515ac5c3-e390-49a2-8cdb-d8c89bcfaa54 button.colab-df-convert');\n",
              "        buttonEl.style.display =\n",
              "          google.colab.kernel.accessAllowed ? 'block' : 'none';\n",
              "\n",
              "        async function convertToInteractive(key) {\n",
              "          const element = document.querySelector('#df-515ac5c3-e390-49a2-8cdb-d8c89bcfaa54');\n",
              "          const dataTable =\n",
              "            await google.colab.kernel.invokeFunction('convertToInteractive',\n",
              "                                                     [key], {});\n",
              "          if (!dataTable) return;\n",
              "\n",
              "          const docLinkHtml = 'Like what you see? Visit the ' +\n",
              "            '<a target=\"_blank\" href=https://colab.research.google.com/notebooks/data_table.ipynb>data table notebook</a>'\n",
              "            + ' to learn more about interactive tables.';\n",
              "          element.innerHTML = '';\n",
              "          dataTable['output_type'] = 'display_data';\n",
              "          await google.colab.output.renderOutput(dataTable, element);\n",
              "          const docLink = document.createElement('div');\n",
              "          docLink.innerHTML = docLinkHtml;\n",
              "          element.appendChild(docLink);\n",
              "        }\n",
              "      </script>\n",
              "    </div>\n",
              "  </div>\n",
              "  "
            ],
            "text/plain": [
              "   BEVERAGE CLEAR FLAVOUR\n",
              "0                   66208\n",
              "1                   51019\n",
              "2                   81595\n",
              "3                  106862\n",
              "4                  171290"
            ]
          },
          "execution_count": 90,
          "metadata": {},
          "output_type": "execute_result"
        }
      ],
      "source": [
        "X_train.head()"
      ]
    },
    {
      "cell_type": "code",
      "execution_count": 91,
      "metadata": {
        "colab": {
          "base_uri": "https://localhost:8080/"
        },
        "id": "CYyWtiauEk4r",
        "outputId": "4560b829-a6f3-4462-de96-e98289113c2e"
      },
      "outputs": [
        {
          "name": "stdout",
          "output_type": "stream",
          "text": [
            "[15:21:09] WARNING: /workspace/src/objective/regression_obj.cu:152: reg:linear is now deprecated in favor of reg:squarederror.\n"
          ]
        },
        {
          "data": {
            "text/plain": [
              "XGBRegressor(n_estimators=1000)"
            ]
          },
          "execution_count": 91,
          "metadata": {},
          "output_type": "execute_result"
        }
      ],
      "source": [
        "reg = xgb.XGBRegressor(n_estimators=1000)\n",
        "reg.fit(X_train, y_train,\n",
        "        eval_set=[(X_train, y_train), (X_test, y_test)],\n",
        "        early_stopping_rounds=50,\n",
        "       verbose=False) # Change verbose to True if you want to see it train"
      ]
    },
    {
      "cell_type": "code",
      "execution_count": 92,
      "metadata": {
        "id": "VGLqCU6UEk1W"
      },
      "outputs": [],
      "source": [
        "prediction_xgb = reg.predict(X_test)"
      ]
    },
    {
      "cell_type": "code",
      "execution_count": 93,
      "metadata": {
        "id": "GrA6BAu1P820"
      },
      "outputs": [],
      "source": [
        "test_data_copy['Xgboost_Predictions'] = prediction_xgb"
      ]
    },
    {
      "cell_type": "code",
      "execution_count": 94,
      "metadata": {
        "colab": {
          "base_uri": "https://localhost:8080/",
          "height": 343
        },
        "id": "NzN7utJdQE8F",
        "outputId": "62d6240f-7d22-4e27-ae56-7359f136bd19"
      },
      "outputs": [
        {
          "data": {
            "text/plain": [
              "<matplotlib.axes._subplots.AxesSubplot at 0x7f8f8e1c9110>"
            ]
          },
          "execution_count": 94,
          "metadata": {},
          "output_type": "execute_result"
        },
        {
          "data": {
            "image/png": "[encoded data removed]",
            "text/plain": [
              "<Figure size 1152x360 with 1 Axes>"
            ]
          },
          "metadata": {
            "needs_background": "light"
          },
          "output_type": "display_data"
        }
      ],
      "source": [
        "test_data_copy['BEVERAGE CLEAR FLAVOUR'].plot(figsize = (16,5), legend=True)\n",
        "test_data_copy['Xgboost_Predictions'].plot(legend = True)"
      ]
    },
    {
      "cell_type": "code",
      "execution_count": 95,
      "metadata": {
        "colab": {
          "base_uri": "https://localhost:8080/"
        },
        "id": "ISgZ4M5PEkop",
        "outputId": "51ac10ac-f0ab-465a-ad1e-5e4ae17ba35f"
      },
      "outputs": [
        {
          "name": "stdout",
          "output_type": "stream",
          "text": [
            "MSE Error: 36350991.97480774\n",
            "RMSE Error: 6029.178383064125\n",
            "Mean: 36350991.97480774\n",
            "r2_score : 0.9779390775088268\n",
            "MAPE : 0.027902935289451904\n",
            "MAD : 28541.3125\n",
            "MAE: 4474.5625\n"
          ]
        }
      ],
      "source": [
        "xgb_rmse_error = rmse(y_test, prediction_xgb)\n",
        "xgb_mse_error = xgb_rmse_error**2\n",
        "errors = prediction_xgb - y_test\n",
        "mean_value = np.square(errors).mean()\n",
        "\n",
        "r2_score_xgb = r2_score(y_test, prediction_xgb) \n",
        "MAPE_xgb = mean_absolute_percentage_error(y_test, prediction_xgb)\n",
        "MAD_xgb = test_data_copy['Xgboost_Predictions'].mad()\n",
        "MAE_xgb = mean_absolute_error(test_data['BEVERAGE CLEAR FLAVOUR'], test_data_copy['Xgboost_Predictions'])\n",
        "print(f'MSE Error: {xgb_mse_error}\\nRMSE Error: {xgb_rmse_error}\\nMean: {mean_value}\\nr2_score : {r2_score_xgb}\\nMAPE : {MAPE_xgb}\\nMAD : {MAD_xgb}\\nMAE: {MAE_xgb}')"
      ]
    },
    {
      "cell_type": "markdown",
      "metadata": {
        "id": "ILqRCDY8I8GK"
      },
      "source": [
        "#### Randomforest Regresssor"
      ]
    },
    {
      "cell_type": "code",
      "execution_count": 96,
      "metadata": {
        "id": "5CNlvNK_EkUI"
      },
      "outputs": [],
      "source": [
        "from sklearn.ensemble import RandomForestRegressor"
      ]
    },
    {
      "cell_type": "code",
      "execution_count": 97,
      "metadata": {
        "id": "4tlMSNiuJBXx"
      },
      "outputs": [],
      "source": [
        "model_rnd = RandomForestRegressor(n_estimators=1000)\n",
        "model_rnd.fit(X_train, y_train)\n",
        "# make a one-step prediction\n",
        "prediction_random = model_rnd.predict(X_test)"
      ]
    },
    {
      "cell_type": "code",
      "execution_count": 98,
      "metadata": {
        "id": "21PYzyaGT09a"
      },
      "outputs": [],
      "source": [
        "test_data_copy['Random_Forest_Predictions'] = prediction_random"
      ]
    },
    {
      "cell_type": "code",
      "execution_count": 99,
      "metadata": {
        "colab": {
          "base_uri": "https://localhost:8080/",
          "height": 343
        },
        "id": "28tJB8mET-up",
        "outputId": "bccd1d04-9f6b-4080-95d6-1ae6751af22a"
      },
      "outputs": [
        {
          "data": {
            "text/plain": [
              "<matplotlib.axes._subplots.AxesSubplot at 0x7f8ec424d610>"
            ]
          },
          "execution_count": 99,
          "metadata": {},
          "output_type": "execute_result"
        },
        {
          "data": {
            "image/png": "[encoded data removed]",
            "text/plain": [
              "<Figure size 1152x360 with 1 Axes>"
            ]
          },
          "metadata": {
            "needs_background": "light"
          },
          "output_type": "display_data"
        }
      ],
      "source": [
        "test_data_copy['BEVERAGE CLEAR FLAVOUR'].plot(figsize = (16,5), legend=True)\n",
        "test_data_copy['Random_Forest_Predictions'].plot(legend = True)"
      ]
    },
    {
      "cell_type": "code",
      "execution_count": 100,
      "metadata": {
        "colab": {
          "base_uri": "https://localhost:8080/"
        },
        "id": "NhpwGLP-JBVN",
        "outputId": "10f0021c-d9de-4512-ac38-abf723691de2"
      },
      "outputs": [
        {
          "name": "stdout",
          "output_type": "stream",
          "text": [
            "MSE Error: 126763879.18243515\n",
            "RMSE Error: 11258.94662845664\n",
            "Mean: 126763879.18243515\n",
            "r2_score : 0.9230687262877937\n",
            "MAPE : 0.03687535383068455\n",
            "MAD : 26918.087375000003\n",
            "MAE: 6588.336375000001\n"
          ]
        }
      ],
      "source": [
        "random_rmse_error = rmse(y_test, prediction_random)\n",
        "random_mse_error = random_rmse_error**2\n",
        "errors = prediction_random - y_test\n",
        "mean_value = np.square(errors).mean()\n",
        "\n",
        "r2_score_random = r2_score(y_test, prediction_random) \n",
        "MAPE_random = mean_absolute_percentage_error(y_test, prediction_random)\n",
        "\n",
        "\n",
        "MAD_random = test_data_copy['Random_Forest_Predictions'].mad()\n",
        "MAE_random = mean_absolute_error(test_data['BEVERAGE CLEAR FLAVOUR'], test_data_copy['Random_Forest_Predictions'])\n",
        "\n",
        "\n",
        "print(f'MSE Error: {random_mse_error}\\nRMSE Error: {random_rmse_error}\\nMean: {mean_value}\\nr2_score : {r2_score_random}\\nMAPE : {MAPE_random}\\nMAD : {MAD_random}\\nMAE: {MAE_random}')"
      ]
    },
    {
      "cell_type": "code",
      "execution_count": 101,
      "metadata": {
        "colab": {
          "base_uri": "https://localhost:8080/",
          "height": 332
        },
        "id": "yZSYD9suJBPE",
        "outputId": "781f7939-fd77-4005-ecf5-212e9579530c"
      },
      "outputs": [
        {
          "data": {
            "text/html": [
              "\n",
              "  <div id=\"df-1e2053e7-83df-4109-bf17-16fd20c1c966\">\n",
              "    <div class=\"colab-df-container\">\n",
              "      <div>\n",
              "<style scoped>\n",
              "    .dataframe tbody tr th:only-of-type {\n",
              "        vertical-align: middle;\n",
              "    }\n",
              "\n",
              "    .dataframe tbody tr th {\n",
              "        vertical-align: top;\n",
              "    }\n",
              "\n",
              "    .dataframe thead th {\n",
              "        text-align: right;\n",
              "    }\n",
              "</style>\n",
              "<table border=\"1\" class=\"dataframe\">\n",
              "  <thead>\n",
              "    <tr style=\"text-align: right;\">\n",
              "      <th></th>\n",
              "      <th>BEVERAGE CLEAR FLAVOUR</th>\n",
              "      <th>ARIMA_Predictions</th>\n",
              "      <th>LSTM_Predictions</th>\n",
              "      <th>Prophet_Predictions</th>\n",
              "      <th>GRU_Predictions</th>\n",
              "      <th>Xgboost_Predictions</th>\n",
              "      <th>Random_Forest_Predictions</th>\n",
              "    </tr>\n",
              "    <tr>\n",
              "      <th>DATE</th>\n",
              "      <th></th>\n",
              "      <th></th>\n",
              "      <th></th>\n",
              "      <th></th>\n",
              "      <th></th>\n",
              "      <th></th>\n",
              "      <th></th>\n",
              "    </tr>\n",
              "  </thead>\n",
              "  <tbody>\n",
              "    <tr>\n",
              "      <th>2022-02-22</th>\n",
              "      <td>80353</td>\n",
              "      <td>51355.054967</td>\n",
              "      <td>74240.107823</td>\n",
              "      <td>119128.579930</td>\n",
              "      <td>79776.593750</td>\n",
              "      <td>81595.015625</td>\n",
              "      <td>81141.014</td>\n",
              "    </tr>\n",
              "    <tr>\n",
              "      <th>2022-03-22</th>\n",
              "      <td>154875</td>\n",
              "      <td>52249.584702</td>\n",
              "      <td>79904.226218</td>\n",
              "      <td>130949.629237</td>\n",
              "      <td>92969.203125</td>\n",
              "      <td>148326.984375</td>\n",
              "      <td>148513.313</td>\n",
              "    </tr>\n",
              "    <tr>\n",
              "      <th>2022-04-22</th>\n",
              "      <td>151222</td>\n",
              "      <td>59214.749551</td>\n",
              "      <td>81357.151209</td>\n",
              "      <td>53375.715291</td>\n",
              "      <td>119676.406250</td>\n",
              "      <td>148326.984375</td>\n",
              "      <td>146413.815</td>\n",
              "    </tr>\n",
              "    <tr>\n",
              "      <th>2022-05-22</th>\n",
              "      <td>220567</td>\n",
              "      <td>92528.164190</td>\n",
              "      <td>81122.739558</td>\n",
              "      <td>189014.420888</td>\n",
              "      <td>118372.421875</td>\n",
              "      <td>207810.828125</td>\n",
              "      <td>190897.579</td>\n",
              "    </tr>\n",
              "    <tr>\n",
              "      <th>2022-06-22</th>\n",
              "      <td>127335</td>\n",
              "      <td>73194.597143</td>\n",
              "      <td>81099.060119</td>\n",
              "      <td>131834.377599</td>\n",
              "      <td>142979.359375</td>\n",
              "      <td>128886.015625</td>\n",
              "      <td>126097.639</td>\n",
              "    </tr>\n",
              "    <tr>\n",
              "      <th>2022-07-22</th>\n",
              "      <td>156678</td>\n",
              "      <td>40557.310185</td>\n",
              "      <td>81028.969419</td>\n",
              "      <td>111703.831255</td>\n",
              "      <td>109829.757812</td>\n",
              "      <td>148326.984375</td>\n",
              "      <td>148513.313</td>\n",
              "    </tr>\n",
              "    <tr>\n",
              "      <th>2022-08-22</th>\n",
              "      <td>110304</td>\n",
              "      <td>34577.680294</td>\n",
              "      <td>81020.835261</td>\n",
              "      <td>89763.795999</td>\n",
              "      <td>120319.734375</td>\n",
              "      <td>111788.945312</td>\n",
              "      <td>109579.166</td>\n",
              "    </tr>\n",
              "    <tr>\n",
              "      <th>2022-09-22</th>\n",
              "      <td>101223</td>\n",
              "      <td>43345.676801</td>\n",
              "      <td>81011.999977</td>\n",
              "      <td>83690.348960</td>\n",
              "      <td>103724.890625</td>\n",
              "      <td>102191.304688</td>\n",
              "      <td>102175.502</td>\n",
              "    </tr>\n",
              "  </tbody>\n",
              "</table>\n",
              "</div>\n",
              "      <button class=\"colab-df-convert\" onclick=\"convertToInteractive('df-1e2053e7-83df-4109-bf17-16fd20c1c966')\"\n",
              "              title=\"Convert this dataframe to an interactive table.\"\n",
              "              style=\"display:none;\">\n",
              "        \n",
              "  <svg xmlns=\"http://www.w3.org/2000/svg\" height=\"24px\"viewBox=\"0 0 24 24\"\n",
              "       width=\"24px\">\n",
              "    <path d=\"M0 0h24v24H0V0z\" fill=\"none\"/>\n",
              "    <path d=\"M18.56 5.44l.94 2.06.94-2.06 2.06-.94-2.06-.94-.94-2.06-.94 2.06-2.06.94zm-11 1L8.5 8.5l.94-2.06 2.06-.94-2.06-.94L8.5 2.5l-.94 2.06-2.06.94zm10 10l.94 2.06.94-2.06 2.06-.94-2.06-.94-.94-2.06-.94 2.06-2.06.94z\"/><path d=\"M17.41 7.96l-1.37-1.37c-.4-.4-.92-.59-1.43-.59-.52 0-1.04.2-1.43.59L10.3 9.45l-7.72 7.72c-.78.78-.78 2.05 0 2.83L4 21.41c.39.39.9.59 1.41.59.51 0 1.02-.2 1.41-.59l7.78-7.78 2.81-2.81c.8-.78.8-2.07 0-2.86zM5.41 20L4 18.59l7.72-7.72 1.47 1.35L5.41 20z\"/>\n",
              "  </svg>\n",
              "      </button>\n",
              "      \n",
              "  <style>\n",
              "    .colab-df-container {\n",
              "      display:flex;\n",
              "      flex-wrap:wrap;\n",
              "      gap: 12px;\n",
              "    }\n",
              "\n",
              "    .colab-df-convert {\n",
              "      background-color: #E8F0FE;\n",
              "      border: none;\n",
              "      border-radius: 50%;\n",
              "      cursor: pointer;\n",
              "      display: none;\n",
              "      fill: #1967D2;\n",
              "      height: 32px;\n",
              "      padding: 0 0 0 0;\n",
              "      width: 32px;\n",
              "    }\n",
              "\n",
              "    .colab-df-convert:hover {\n",
              "      background-color: #E2EBFA;\n",
              "      box-shadow: 0px 1px 2px rgba(60, 64, 67, 0.3), 0px 1px 3px 1px rgba(60, 64, 67, 0.15);\n",
              "      fill: #174EA6;\n",
              "    }\n",
              "\n",
              "    [theme=dark] .colab-df-convert {\n",
              "      background-color: #3B4455;\n",
              "      fill: #D2E3FC;\n",
              "    }\n",
              "\n",
              "    [theme=dark] .colab-df-convert:hover {\n",
              "      background-color: #434B5C;\n",
              "      box-shadow: 0px 1px 3px 1px rgba(0, 0, 0, 0.15);\n",
              "      filter: drop-shadow(0px 1px 2px rgba(0, 0, 0, 0.3));\n",
              "      fill: #FFFFFF;\n",
              "    }\n",
              "  </style>\n",
              "\n",
              "      <script>\n",
              "        const buttonEl =\n",
              "          document.querySelector('#df-1e2053e7-83df-4109-bf17-16fd20c1c966 button.colab-df-convert');\n",
              "        buttonEl.style.display =\n",
              "          google.colab.kernel.accessAllowed ? 'block' : 'none';\n",
              "\n",
              "        async function convertToInteractive(key) {\n",
              "          const element = document.querySelector('#df-1e2053e7-83df-4109-bf17-16fd20c1c966');\n",
              "          const dataTable =\n",
              "            await google.colab.kernel.invokeFunction('convertToInteractive',\n",
              "                                                     [key], {});\n",
              "          if (!dataTable) return;\n",
              "\n",
              "          const docLinkHtml = 'Like what you see? Visit the ' +\n",
              "            '<a target=\"_blank\" href=https://colab.research.google.com/notebooks/data_table.ipynb>data table notebook</a>'\n",
              "            + ' to learn more about interactive tables.';\n",
              "          element.innerHTML = '';\n",
              "          dataTable['output_type'] = 'display_data';\n",
              "          await google.colab.output.renderOutput(dataTable, element);\n",
              "          const docLink = document.createElement('div');\n",
              "          docLink.innerHTML = docLinkHtml;\n",
              "          element.appendChild(docLink);\n",
              "        }\n",
              "      </script>\n",
              "    </div>\n",
              "  </div>\n",
              "  "
            ],
            "text/plain": [
              "            BEVERAGE CLEAR FLAVOUR  ARIMA_Predictions  LSTM_Predictions  \\\n",
              "DATE                                                                      \n",
              "2022-02-22                   80353       51355.054967      74240.107823   \n",
              "2022-03-22                  154875       52249.584702      79904.226218   \n",
              "2022-04-22                  151222       59214.749551      81357.151209   \n",
              "2022-05-22                  220567       92528.164190      81122.739558   \n",
              "2022-06-22                  127335       73194.597143      81099.060119   \n",
              "2022-07-22                  156678       40557.310185      81028.969419   \n",
              "2022-08-22                  110304       34577.680294      81020.835261   \n",
              "2022-09-22                  101223       43345.676801      81011.999977   \n",
              "\n",
              "            Prophet_Predictions  GRU_Predictions  Xgboost_Predictions  \\\n",
              "DATE                                                                    \n",
              "2022-02-22        119128.579930     79776.593750         81595.015625   \n",
              "2022-03-22        130949.629237     92969.203125        148326.984375   \n",
              "2022-04-22         53375.715291    119676.406250        148326.984375   \n",
              "2022-05-22        189014.420888    118372.421875        207810.828125   \n",
              "2022-06-22        131834.377599    142979.359375        128886.015625   \n",
              "2022-07-22        111703.831255    109829.757812        148326.984375   \n",
              "2022-08-22         89763.795999    120319.734375        111788.945312   \n",
              "2022-09-22         83690.348960    103724.890625        102191.304688   \n",
              "\n",
              "            Random_Forest_Predictions  \n",
              "DATE                                   \n",
              "2022-02-22                  81141.014  \n",
              "2022-03-22                 148513.313  \n",
              "2022-04-22                 146413.815  \n",
              "2022-05-22                 190897.579  \n",
              "2022-06-22                 126097.639  \n",
              "2022-07-22                 148513.313  \n",
              "2022-08-22                 109579.166  \n",
              "2022-09-22                 102175.502  "
            ]
          },
          "execution_count": 101,
          "metadata": {},
          "output_type": "execute_result"
        }
      ],
      "source": [
        "test_data_copy.head(n=8)"
      ]
    },
    {
      "cell_type": "code",
      "execution_count": 102,
      "metadata": {
        "id": "CIYF7wDzJBGf"
      },
      "outputs": [],
      "source": [
        "# rmse_errors = [arima_rmse_error, lstm_rmse_error, prophet_rmse_error,gru_rmse_error[0],xgb_rmse_error,random_rmse_error]\n",
        "# mse_errors = [arima_mse_error, lstm_mse_error, prophet_mse_error,gru_mse_error[0],xgb_mse_error,random_mse_error]\n",
        "# r2_errors = [r2_score_arima,r2_score_lstm,r2_score_prophet,r2_score_gru,r2_score_xgb,r2_score_random]\n",
        "# MAPE_errors = [MAPE_arima,MAPE_lstm,MAPE_prophet,MAPE_gru,MAPE_xgb,MAPE_random]\n",
        "# MAD_errors = [MAD_arima,MAD_lstm,MAD_prophet,MAD_gru,MAD_xgb,MAD_random]\n",
        "\n",
        "# MAE_errors = [MAE_arima,MAE_lstm,MAE_prophet,MAE_gru,MAE_xgb,MAE_random]\n",
        "\n",
        "# total_errors = pd.DataFrame({\"Models\" : [\"ARIMA\", \"LSTM\", \"Prophet\",\"GRU\",\"Xgboost\",\"Random_Forest\"],\"RMSE Errors\" : rmse_errors, \"MSE Errors\" : mse_errors, \"R2 Errors\":r2_errors,\n",
        "#                              \"MAPE Errors\": MAPE_errors,\n",
        "#                              \"MAD Errors\": MAD_errors,\n",
        "#                              \"MAE Errors\": MAE_errors})"
      ]
    },
    {
      "cell_type": "code",
      "execution_count": 103,
      "metadata": {
        "id": "Ny8WnGg4JBCP"
      },
      "outputs": [],
      "source": [
        "# total_errors.head(n=6)"
      ]
    },
    {
      "cell_type": "code",
      "execution_count": 104,
      "metadata": {
        "id": "XBy9IL5Ka_Sw"
      },
      "outputs": [],
      "source": [
        "# plt.figure(figsize=(16,9))\n",
        "# plt.plot_date(test_data_copy.index, test_data_copy[\"BEVERAGE CLEAR FLAVOUR\"], linestyle=\"-\")\n",
        "# plt.plot_date(test_data_copy.index, test_data_copy[\"ARIMA_Predictions\"], linestyle=\"-.\")\n",
        "# plt.plot_date(test_data_copy.index, test_data_copy[\"LSTM_Predictions\"], linestyle=\"--\")\n",
        "# plt.plot_date(test_data_copy.index, test_data_copy[\"Prophet_Predictions\"], linestyle=\":\")\n",
        "# plt.plot_date(test_data_copy.index, test_data_copy[\"GRU_Predictions\"], linestyle=\"-\")\n",
        "# plt.plot_date(test_data_copy.index, test_data_copy[\"Xgboost_Predictions\"], linestyle=\"-.\")\n",
        "# plt.plot_date(test_data_copy.index, test_data_copy[\"Random_Forest_Predictions\"], linestyle=\"--\")\n",
        "# plt.legend(['BEVERAGE CLEAR FLAVOUR','ARIMA_Predictions','LSTM_Predictions','Prophet_Predictions','GRU_Predictions','Xgboost_Predictions','Random_Forest_Predictions'])\n",
        "# plt.show()"
      ]
    },
    {
      "cell_type": "markdown",
      "metadata": {
        "id": "nu7linCCjP5c"
      },
      "source": [
        "# Artificial Neural Networks for Time Series Forecasting"
      ]
    },
    {
      "cell_type": "markdown",
      "metadata": {
        "id": "5RaEby6rjS7u"
      },
      "source": [
        "## MLPs - Multi Layer Perceptrons"
      ]
    },
    {
      "cell_type": "code",
      "execution_count": 106,
      "metadata": {
        "id": "-XdqST6BjNDT"
      },
      "outputs": [],
      "source": [
        "df_mlp = pd.read_csv(\"Cleaned.csv\",parse_dates=[\"DATE\"])\n",
        "date = df_mlp[\"DATE\"]\n",
        "beverage = df_mlp[\"BEVERAGE CLEAR FLAVOUR\"]\n",
        "df_mlp = df_mlp.drop(\"DATE\",axis=1)\n",
        "train_data_mlp = df_mlp.iloc[:len(df_mlp)-9]\n",
        "test_data_mlp = df_mlp.iloc[len(df_mlp)-9:]"
      ]
    },
    {
      "cell_type": "code",
      "execution_count": 107,
      "metadata": {
        "colab": {
          "base_uri": "https://localhost:8080/"
        },
        "id": "MS6yP5OqjgYs",
        "outputId": "ccd1da4d-4cc6-479f-e9c2-749aaf641b16"
      },
      "outputs": [
        {
          "name": "stdout",
          "output_type": "stream",
          "text": [
            "(36, 1)\n",
            "(9, 1)\n"
          ]
        }
      ],
      "source": [
        "print(train_data_mlp.shape)\n",
        "print(test_data_mlp.shape)"
      ]
    },
    {
      "cell_type": "code",
      "execution_count": 108,
      "metadata": {
        "id": "xyZcbGawjiFU"
      },
      "outputs": [],
      "source": [
        "from sklearn.preprocessing import RobustScaler,StandardScaler\n",
        "cols = [\"BEVERAGE CLEAR FLAVOUR\"]\n",
        "scaler = StandardScaler().fit(train_data_mlp)\n",
        "train_scaled_mlp = scaler.transform(train_data_mlp)\n",
        "test_scaled_mlp = scaler.transform(test_data_mlp)"
      ]
    },
    {
      "cell_type": "code",
      "execution_count": 109,
      "metadata": {
        "colab": {
          "base_uri": "https://localhost:8080/"
        },
        "id": "A5u5DuhljoZk",
        "outputId": "e45df410-c5af-491a-9ed2-4d4acb2c9162"
      },
      "outputs": [
        {
          "name": "stdout",
          "output_type": "stream",
          "text": [
            "(36, 1)\n",
            "(9, 1)\n"
          ]
        }
      ],
      "source": [
        "print(train_data_mlp.shape)\n",
        "print(test_data_mlp.shape)"
      ]
    },
    {
      "cell_type": "code",
      "execution_count": 110,
      "metadata": {
        "id": "1KlOJgOQjp-0"
      },
      "outputs": [],
      "source": [
        "def create_dataset(X, time_steps=1):\n",
        "   Xs, ys = [], []\n",
        "   for i in range(len(X)-time_steps):\n",
        "    v = X[i:i+time_steps]\n",
        "    Xs.append(v)\n",
        "    ys.append(X[i+time_steps])\n",
        " \n",
        "   return np.array(Xs), np.array(ys)"
      ]
    },
    {
      "cell_type": "code",
      "execution_count": 111,
      "metadata": {
        "colab": {
          "base_uri": "https://localhost:8080/"
        },
        "id": "GTBIodAWjrfl",
        "outputId": "e4d5619f-50bb-4558-dc68-ef97d06e1bb7"
      },
      "outputs": [
        {
          "name": "stdout",
          "output_type": "stream",
          "text": [
            "(35, 1, 1) (35, 1)\n"
          ]
        }
      ],
      "source": [
        "time_steps = 1\n",
        "X_train, y_train = create_dataset(train_scaled_mlp,time_steps)\n",
        "X_test, y_test = create_dataset(test_scaled_mlp,time_steps)\n",
        "print(X_train.shape, y_train.shape)"
      ]
    },
    {
      "cell_type": "code",
      "execution_count": 112,
      "metadata": {
        "colab": {
          "base_uri": "https://localhost:8080/"
        },
        "id": "vZrn5dWnjtDV",
        "outputId": "081b8bd2-1641-4866-f68d-beee8bdc9f58"
      },
      "outputs": [
        {
          "name": "stdout",
          "output_type": "stream",
          "text": [
            "Model: \"sequential_2\"\n",
            "_________________________________________________________________\n",
            " Layer (type)                Output Shape              Param #   \n",
            "=================================================================\n",
            " dense_2 (Dense)             (None, 256)               512       \n",
            "                                                                 \n",
            " dense_3 (Dense)             (None, 128)               32896     \n",
            "                                                                 \n",
            " dense_4 (Dense)             (None, 64)                8256      \n",
            "                                                                 \n",
            " dense_5 (Dense)             (None, 32)                2080      \n",
            "                                                                 \n",
            " dense_6 (Dense)             (None, 16)                528       \n",
            "                                                                 \n",
            " dense_7 (Dense)             (None, 8)                 136       \n",
            "                                                                 \n",
            " dense_8 (Dense)             (None, 1)                 9         \n",
            "                                                                 \n",
            "=================================================================\n",
            "Total params: 44,417\n",
            "Trainable params: 44,417\n",
            "Non-trainable params: 0\n",
            "_________________________________________________________________\n"
          ]
        }
      ],
      "source": [
        "mlp_model = tf.keras.Sequential()\n",
        "mlp_model.add(tf.keras.layers.Dense(256, input_dim=X_train.shape[1], activation='relu'))\n",
        "mlp_model.add(tf.keras.layers.Dense(128,activation='relu'))\n",
        "mlp_model.add(tf.keras.layers.Dense(64,activation='relu'))\n",
        "mlp_model.add(tf.keras.layers.Dense(32,activation='relu'))\n",
        "mlp_model.add(tf.keras.layers.Dense(16,activation='relu'))\n",
        "mlp_model.add(tf.keras.layers.Dense(8,activation='relu'))\n",
        "mlp_model.add(tf.keras.layers.Dense(1))\n",
        "mlp_model.compile(loss='mse', optimizer='adam')\n",
        "mlp_model.summary()"
      ]
    },
    {
      "cell_type": "code",
      "execution_count": 113,
      "metadata": {
        "colab": {
          "base_uri": "https://localhost:8080/"
        },
        "id": "zpNek_OFjw08",
        "outputId": "aa60567a-189d-47ac-8ae0-fd02b888dbaa"
      },
      "outputs": [
        {
          "name": "stdout",
          "output_type": "stream",
          "text": [
            "Epoch 1/100\n",
            "2/2 [==============================] - 1s 162ms/step - loss: 1.0389 - val_loss: 2.2190\n",
            "Epoch 2/100\n",
            "2/2 [==============================] - 0s 23ms/step - loss: 0.9892 - val_loss: 2.2239\n",
            "Epoch 3/100\n",
            "2/2 [==============================] - 0s 22ms/step - loss: 0.9707 - val_loss: 2.2307\n",
            "Epoch 4/100\n",
            "2/2 [==============================] - 0s 20ms/step - loss: 0.9533 - val_loss: 2.2279\n",
            "Epoch 5/100\n",
            "2/2 [==============================] - 0s 22ms/step - loss: 0.9383 - val_loss: 2.2194\n",
            "Epoch 6/100\n",
            "2/2 [==============================] - 0s 21ms/step - loss: 0.9252 - val_loss: 2.2162\n",
            "Epoch 7/100\n",
            "2/2 [==============================] - 0s 21ms/step - loss: 0.9166 - val_loss: 2.2097\n",
            "Epoch 8/100\n",
            "2/2 [==============================] - 0s 24ms/step - loss: 0.9134 - val_loss: 2.1929\n",
            "Epoch 9/100\n",
            "2/2 [==============================] - 0s 21ms/step - loss: 0.9173 - val_loss: 2.1853\n",
            "Epoch 10/100\n",
            "2/2 [==============================] - 0s 21ms/step - loss: 0.9302 - val_loss: 2.1715\n",
            "Epoch 11/100\n",
            "2/2 [==============================] - 0s 21ms/step - loss: 0.9468 - val_loss: 2.1482\n",
            "Epoch 12/100\n",
            "2/2 [==============================] - 0s 21ms/step - loss: 0.9628 - val_loss: 2.1163\n",
            "Epoch 13/100\n",
            "2/2 [==============================] - 0s 22ms/step - loss: 0.9715 - val_loss: 2.0795\n",
            "Epoch 14/100\n",
            "2/2 [==============================] - 0s 23ms/step - loss: 0.9704 - val_loss: 2.0222\n",
            "Epoch 15/100\n",
            "2/2 [==============================] - 0s 26ms/step - loss: 0.9588 - val_loss: 1.9475\n",
            "Epoch 16/100\n",
            "2/2 [==============================] - 0s 20ms/step - loss: 0.9456 - val_loss: 1.8871\n",
            "Epoch 17/100\n",
            "2/2 [==============================] - 0s 22ms/step - loss: 0.9344 - val_loss: 1.8471\n",
            "Epoch 18/100\n",
            "2/2 [==============================] - 0s 25ms/step - loss: 0.9256 - val_loss: 1.8258\n",
            "Epoch 19/100\n",
            "2/2 [==============================] - 0s 22ms/step - loss: 0.9200 - val_loss: 1.7933\n",
            "Epoch 20/100\n",
            "2/2 [==============================] - 0s 22ms/step - loss: 0.9162 - val_loss: 1.7651\n",
            "Epoch 21/100\n",
            "2/2 [==============================] - 0s 21ms/step - loss: 0.9139 - val_loss: 1.7625\n",
            "Epoch 22/100\n",
            "2/2 [==============================] - 0s 20ms/step - loss: 0.9136 - val_loss: 1.7564\n",
            "Epoch 23/100\n",
            "2/2 [==============================] - 0s 21ms/step - loss: 0.9142 - val_loss: 1.7329\n",
            "Epoch 24/100\n",
            "2/2 [==============================] - 0s 22ms/step - loss: 0.9150 - val_loss: 1.6982\n",
            "Epoch 25/100\n",
            "2/2 [==============================] - 0s 24ms/step - loss: 0.9170 - val_loss: 1.6984\n",
            "Epoch 26/100\n",
            "2/2 [==============================] - 0s 21ms/step - loss: 0.9184 - val_loss: 1.7417\n",
            "Epoch 27/100\n",
            "2/2 [==============================] - 0s 22ms/step - loss: 0.9206 - val_loss: 1.7602\n",
            "Epoch 28/100\n",
            "2/2 [==============================] - 0s 22ms/step - loss: 0.9209 - val_loss: 1.7362\n",
            "Epoch 29/100\n",
            "2/2 [==============================] - 0s 22ms/step - loss: 0.9192 - val_loss: 1.7138\n",
            "Epoch 30/100\n",
            "2/2 [==============================] - 0s 22ms/step - loss: 0.9172 - val_loss: 1.7268\n",
            "Epoch 31/100\n",
            "2/2 [==============================] - 0s 21ms/step - loss: 0.9154 - val_loss: 1.7343\n",
            "Epoch 32/100\n",
            "2/2 [==============================] - 0s 22ms/step - loss: 0.9132 - val_loss: 1.7102\n",
            "Epoch 33/100\n",
            "2/2 [==============================] - 0s 21ms/step - loss: 0.9115 - val_loss: 1.7147\n",
            "Epoch 34/100\n",
            "2/2 [==============================] - 0s 21ms/step - loss: 0.9099 - val_loss: 1.7185\n",
            "Epoch 35/100\n",
            "2/2 [==============================] - 0s 22ms/step - loss: 0.9093 - val_loss: 1.7424\n",
            "Epoch 36/100\n",
            "2/2 [==============================] - 0s 21ms/step - loss: 0.9100 - val_loss: 1.7760\n",
            "Epoch 37/100\n",
            "2/2 [==============================] - 0s 21ms/step - loss: 0.9112 - val_loss: 1.7544\n",
            "Epoch 38/100\n",
            "2/2 [==============================] - 0s 25ms/step - loss: 0.9100 - val_loss: 1.7366\n",
            "Epoch 39/100\n",
            "2/2 [==============================] - 0s 24ms/step - loss: 0.9097 - val_loss: 1.7679\n",
            "Epoch 40/100\n",
            "2/2 [==============================] - 0s 25ms/step - loss: 0.9112 - val_loss: 1.7616\n",
            "Epoch 41/100\n",
            "2/2 [==============================] - 0s 24ms/step - loss: 0.9105 - val_loss: 1.7400\n",
            "Epoch 42/100\n",
            "2/2 [==============================] - 0s 42ms/step - loss: 0.9106 - val_loss: 1.7433\n",
            "Epoch 43/100\n",
            "2/2 [==============================] - 0s 24ms/step - loss: 0.9092 - val_loss: 1.6991\n",
            "Epoch 44/100\n",
            "2/2 [==============================] - 0s 25ms/step - loss: 0.9085 - val_loss: 1.7050\n",
            "Epoch 45/100\n",
            "2/2 [==============================] - 0s 22ms/step - loss: 0.9074 - val_loss: 1.8339\n",
            "Epoch 46/100\n",
            "2/2 [==============================] - 0s 22ms/step - loss: 0.9120 - val_loss: 1.9023\n",
            "Epoch 47/100\n",
            "2/2 [==============================] - 0s 27ms/step - loss: 0.9177 - val_loss: 1.7967\n",
            "Epoch 48/100\n",
            "2/2 [==============================] - 0s 23ms/step - loss: 0.9122 - val_loss: 1.6924\n",
            "Epoch 49/100\n",
            "2/2 [==============================] - 0s 24ms/step - loss: 0.9090 - val_loss: 1.7116\n",
            "Epoch 50/100\n",
            "2/2 [==============================] - 0s 22ms/step - loss: 0.9059 - val_loss: 1.7831\n",
            "Epoch 51/100\n",
            "2/2 [==============================] - 0s 40ms/step - loss: 0.9085 - val_loss: 1.7697\n",
            "Epoch 52/100\n",
            "2/2 [==============================] - 0s 40ms/step - loss: 0.9052 - val_loss: 1.6822\n",
            "Epoch 53/100\n",
            "2/2 [==============================] - 0s 22ms/step - loss: 0.9001 - val_loss: 1.6790\n",
            "Epoch 54/100\n",
            "2/2 [==============================] - 0s 23ms/step - loss: 0.8967 - val_loss: 1.8226\n",
            "Epoch 55/100\n",
            "2/2 [==============================] - 0s 24ms/step - loss: 0.9043 - val_loss: 1.8604\n",
            "Epoch 56/100\n",
            "2/2 [==============================] - 0s 21ms/step - loss: 0.9058 - val_loss: 1.7476\n",
            "Epoch 57/100\n",
            "2/2 [==============================] - 0s 22ms/step - loss: 0.9046 - val_loss: 1.7247\n",
            "Epoch 58/100\n",
            "2/2 [==============================] - 0s 21ms/step - loss: 0.9035 - val_loss: 1.8150\n",
            "Epoch 59/100\n",
            "2/2 [==============================] - 0s 22ms/step - loss: 0.9059 - val_loss: 1.8149\n",
            "Epoch 60/100\n",
            "2/2 [==============================] - 0s 22ms/step - loss: 0.9051 - val_loss: 1.6828\n",
            "Epoch 61/100\n",
            "2/2 [==============================] - 0s 22ms/step - loss: 0.9015 - val_loss: 1.6708\n",
            "Epoch 62/100\n",
            "2/2 [==============================] - 0s 22ms/step - loss: 0.8984 - val_loss: 1.8093\n",
            "Epoch 63/100\n",
            "2/2 [==============================] - 0s 22ms/step - loss: 0.9017 - val_loss: 1.8420\n",
            "Epoch 64/100\n",
            "2/2 [==============================] - 0s 21ms/step - loss: 0.9009 - val_loss: 1.7382\n",
            "Epoch 65/100\n",
            "2/2 [==============================] - 0s 22ms/step - loss: 0.8989 - val_loss: 1.7295\n",
            "Epoch 66/100\n",
            "2/2 [==============================] - 0s 21ms/step - loss: 0.8970 - val_loss: 1.8514\n",
            "Epoch 67/100\n",
            "2/2 [==============================] - 0s 21ms/step - loss: 0.9018 - val_loss: 1.8353\n",
            "Epoch 68/100\n",
            "2/2 [==============================] - 0s 21ms/step - loss: 0.9002 - val_loss: 1.6983\n",
            "Epoch 69/100\n",
            "2/2 [==============================] - 0s 21ms/step - loss: 0.8982 - val_loss: 1.7114\n",
            "Epoch 70/100\n",
            "2/2 [==============================] - 0s 21ms/step - loss: 0.8973 - val_loss: 1.8852\n",
            "Epoch 71/100\n",
            "2/2 [==============================] - 0s 22ms/step - loss: 0.9063 - val_loss: 1.9097\n",
            "Epoch 72/100\n",
            "2/2 [==============================] - 0s 22ms/step - loss: 0.9076 - val_loss: 1.7443\n",
            "Epoch 73/100\n",
            "2/2 [==============================] - 0s 22ms/step - loss: 0.8953 - val_loss: 1.7035\n",
            "Epoch 74/100\n",
            "2/2 [==============================] - 0s 22ms/step - loss: 0.8920 - val_loss: 1.7595\n",
            "Epoch 75/100\n",
            "2/2 [==============================] - 0s 23ms/step - loss: 0.8916 - val_loss: 1.8090\n",
            "Epoch 76/100\n",
            "2/2 [==============================] - 0s 23ms/step - loss: 0.8923 - val_loss: 1.8249\n",
            "Epoch 77/100\n",
            "2/2 [==============================] - 0s 23ms/step - loss: 0.8921 - val_loss: 1.8059\n",
            "Epoch 78/100\n",
            "2/2 [==============================] - 0s 23ms/step - loss: 0.8897 - val_loss: 1.7753\n",
            "Epoch 79/100\n",
            "2/2 [==============================] - 0s 24ms/step - loss: 0.8873 - val_loss: 1.7529\n",
            "Epoch 80/100\n",
            "2/2 [==============================] - 0s 24ms/step - loss: 0.8877 - val_loss: 1.7892\n",
            "Epoch 81/100\n",
            "2/2 [==============================] - 0s 22ms/step - loss: 0.8887 - val_loss: 1.7705\n",
            "Epoch 82/100\n",
            "2/2 [==============================] - 0s 21ms/step - loss: 0.8904 - val_loss: 1.7584\n",
            "Epoch 83/100\n",
            "2/2 [==============================] - 0s 21ms/step - loss: 0.8899 - val_loss: 1.8458\n",
            "Epoch 84/100\n",
            "2/2 [==============================] - 0s 22ms/step - loss: 0.8942 - val_loss: 1.7902\n",
            "Epoch 85/100\n",
            "2/2 [==============================] - 0s 22ms/step - loss: 0.8879 - val_loss: 1.7062\n",
            "Epoch 86/100\n",
            "2/2 [==============================] - 0s 23ms/step - loss: 0.8855 - val_loss: 1.7939\n",
            "Epoch 87/100\n",
            "2/2 [==============================] - 0s 22ms/step - loss: 0.8833 - val_loss: 1.8167\n",
            "Epoch 88/100\n",
            "2/2 [==============================] - 0s 21ms/step - loss: 0.8813 - val_loss: 1.7480\n",
            "Epoch 89/100\n",
            "2/2 [==============================] - 0s 26ms/step - loss: 0.8777 - val_loss: 1.7817\n",
            "Epoch 90/100\n",
            "2/2 [==============================] - 0s 23ms/step - loss: 0.8785 - val_loss: 1.7640\n",
            "Epoch 91/100\n",
            "2/2 [==============================] - 0s 22ms/step - loss: 0.8764 - val_loss: 1.7373\n",
            "Epoch 92/100\n",
            "2/2 [==============================] - 0s 22ms/step - loss: 0.8752 - val_loss: 1.8215\n",
            "Epoch 93/100\n",
            "2/2 [==============================] - 0s 23ms/step - loss: 0.8758 - val_loss: 1.7676\n",
            "Epoch 94/100\n",
            "2/2 [==============================] - 0s 23ms/step - loss: 0.8718 - val_loss: 1.7009\n",
            "Epoch 95/100\n",
            "2/2 [==============================] - 0s 22ms/step - loss: 0.8698 - val_loss: 1.7857\n",
            "Epoch 96/100\n",
            "2/2 [==============================] - 0s 41ms/step - loss: 0.8718 - val_loss: 1.7997\n",
            "Epoch 97/100\n",
            "2/2 [==============================] - 0s 22ms/step - loss: 0.8710 - val_loss: 1.7283\n",
            "Epoch 98/100\n",
            "2/2 [==============================] - 0s 22ms/step - loss: 0.8659 - val_loss: 1.7607\n",
            "Epoch 99/100\n",
            "2/2 [==============================] - 0s 26ms/step - loss: 0.8633 - val_loss: 1.7915\n",
            "Epoch 100/100\n",
            "2/2 [==============================] - 0s 23ms/step - loss: 0.8654 - val_loss: 1.6776\n"
          ]
        }
      ],
      "source": [
        "mlp_history = mlp_model.fit(X_train, y_train, validation_data=(X_test, y_test), epochs=100, shuffle=False)"
      ]
    },
    {
      "cell_type": "code",
      "execution_count": 114,
      "metadata": {
        "colab": {
          "base_uri": "https://localhost:8080/",
          "height": 265
        },
        "id": "X_x1eRW7jyeV",
        "outputId": "7be45686-d7c3-439e-ed7d-dc55b68febad"
      },
      "outputs": [
        {
          "data": {
            "image/png": "[encoded data removed]",
            "text/plain": [
              "<Figure size 432x288 with 1 Axes>"
            ]
          },
          "metadata": {
            "needs_background": "light"
          },
          "output_type": "display_data"
        }
      ],
      "source": [
        "plt.plot(mlp_history.history['loss'], label='train')\n",
        "plt.plot(mlp_history.history['val_loss'], label='validation')\n",
        "plt.legend()\n",
        "plt.show()"
      ]
    },
    {
      "cell_type": "code",
      "execution_count": 115,
      "metadata": {
        "colab": {
          "base_uri": "https://localhost:8080/"
        },
        "id": "Tq0-3xeoj0TE",
        "outputId": "3ed78e31-135e-481f-a1ee-1ac8e0b6df20"
      },
      "outputs": [
        {
          "name": "stdout",
          "output_type": "stream",
          "text": [
            "1/1 [==============================] - 0s 70ms/step\n"
          ]
        }
      ],
      "source": [
        "prediction = mlp_model.predict(X_test)\n",
        "prediction = scaler.inverse_transform(prediction)"
      ]
    },
    {
      "cell_type": "code",
      "execution_count": 116,
      "metadata": {
        "id": "W4EkUJ8Tj168"
      },
      "outputs": [],
      "source": [
        "\n",
        "test_data_copy['MLP_Predictions'] = prediction"
      ]
    },
    {
      "cell_type": "code",
      "execution_count": 117,
      "metadata": {
        "colab": {
          "base_uri": "https://localhost:8080/",
          "height": 343
        },
        "id": "PhJRK8E_j4fE",
        "outputId": "1f10527f-1577-45ab-a86f-331ea50486a6"
      },
      "outputs": [
        {
          "data": {
            "text/plain": [
              "<matplotlib.axes._subplots.AxesSubplot at 0x7f8ec5773a90>"
            ]
          },
          "execution_count": 117,
          "metadata": {},
          "output_type": "execute_result"
        },
        {
          "data": {
            "image/png": "[encoded data removed]",
            "text/plain": [
              "<Figure size 1152x360 with 1 Axes>"
            ]
          },
          "metadata": {
            "needs_background": "light"
          },
          "output_type": "display_data"
        }
      ],
      "source": [
        "test_data_copy['BEVERAGE CLEAR FLAVOUR'].plot(figsize = (16,5), legend=True)\n",
        "test_data_copy['MLP_Predictions'].plot(legend = True)"
      ]
    },
    {
      "cell_type": "code",
      "execution_count": 118,
      "metadata": {
        "colab": {
          "base_uri": "https://localhost:8080/"
        },
        "id": "36poZr4Pj-zc",
        "outputId": "dc72591d-202a-453d-a5b2-fadd3ebbb8a0"
      },
      "outputs": [
        {
          "name": "stdout",
          "output_type": "stream",
          "text": [
            "MSE Error: [2.2271993e+09]\n",
            "RMSE Error: [106793.35102084]\n",
            "Mean: 11404819822.259327\n",
            "r2_score : -12188763732.474371\n",
            "MASE : 145218.7987173616\n",
            "MAD : 22446.640625\n",
            "MAE: 45056.43994140625\n"
          ]
        }
      ],
      "source": [
        "mlp_rmse_error = rmse(y_test, prediction)\n",
        "mlp_mse_error = mlp_rmse_error**2\n",
        "errors = prediction - y_test\n",
        "mean_value = np.square(errors).mean()\n",
        "\n",
        "r2_score_mlp = r2_score(y_test, prediction) \n",
        "MAPE_mlp = mean_absolute_percentage_error(y_test, prediction)\n",
        "MAD_mlp = test_data_copy['MLP_Predictions'].mad()\n",
        "MAE_mlp = mean_absolute_error(test_data['BEVERAGE CLEAR FLAVOUR'], test_data_copy['MLP_Predictions'])\n",
        "\n",
        "\n",
        "print(f'MSE Error: {mlp_mse_error}\\nRMSE Error: {mlp_rmse_error}\\nMean: {mean_value}\\nr2_score : {r2_score_mlp}\\nMAPE : {MAPE_mlp}\\nMAD : {MAD_mlp}\\nMAE: {MAE_mlp}')"
      ]
    },
    {
      "cell_type": "code",
      "execution_count": 119,
      "metadata": {
        "id": "H_PUtGUtkCPU"
      },
      "outputs": [],
      "source": [
        "rmse_errors = [arima_rmse_error, lstm_rmse_error, prophet_rmse_error,gru_rmse_error[0],xgb_rmse_error,random_rmse_error,mlp_rmse_error]\n",
        "mse_errors = [arima_mse_error, lstm_mse_error, prophet_mse_error,gru_mse_error[0],xgb_mse_error,random_mse_error,mlp_mse_error]\n",
        "r2_errors = [r2_score_arima,r2_score_lstm,r2_score_prophet,r2_score_gru,r2_score_xgb,r2_score_random,r2_score_mlp]\n",
        "MAPE_errors = [MAPE_arima,MAPE_lstm,MAPE_prophet,MAPE_gru,MAPE_xgb,MAPE_random,MAPE_mlp]\n",
        "MAD_errors = [MAD_arima,MAD_lstm,MAD_prophet,MAD_gru,MAD_xgb,MAD_random,MAD_mlp]\n",
        "\n",
        "MAE_errors = [MAE_arima,MAE_lstm,MAE_prophet,MAE_gru,MAE_xgb,MAE_random,MAE_mlp]\n",
        "\n",
        "total_errors = pd.DataFrame({\"Models\" : [\"ARIMA\", \"LSTM\", \"Prophet\",\"GRU\",\"Xgboost\",\"Random_Forest\",\"MLP\"],\"RMSE Errors\" : rmse_errors, \"MSE Errors\" : mse_errors, \"R2 Errors\":r2_errors,\n",
        "                             \"MAPE Errors\": MAPE_errors,\n",
        "                             \"MAD Errors\": MAD_errors,\n",
        "                             \"MAE Errors\": MAE_errors})"
      ]
    },
    {
      "cell_type": "code",
      "execution_count": 120,
      "metadata": {
        "colab": {
          "base_uri": "https://localhost:8080/",
          "height": 237
        },
        "id": "7u2cCFEQkEOO",
        "outputId": "5607842a-c483-4afb-8c53-ef9c3d326b8f"
      },
      "outputs": [
        {
          "data": {
            "text/html": [
              "\n",
              "  <div id=\"df-a79b046e-1bb0-4292-97bc-998f232e9076\">\n",
              "    <div class=\"colab-df-container\">\n",
              "      <div>\n",
              "<style scoped>\n",
              "    .dataframe tbody tr th:only-of-type {\n",
              "        vertical-align: middle;\n",
              "    }\n",
              "\n",
              "    .dataframe tbody tr th {\n",
              "        vertical-align: top;\n",
              "    }\n",
              "\n",
              "    .dataframe thead th {\n",
              "        text-align: right;\n",
              "    }\n",
              "</style>\n",
              "<table border=\"1\" class=\"dataframe\">\n",
              "  <thead>\n",
              "    <tr style=\"text-align: right;\">\n",
              "      <th></th>\n",
              "      <th>Models</th>\n",
              "      <th>RMSE Errors</th>\n",
              "      <th>MSE Errors</th>\n",
              "      <th>R2 Errors</th>\n",
              "      <th>MAPE Errors</th>\n",
              "      <th>MAD Errors</th>\n",
              "      <th>MAE Errors</th>\n",
              "    </tr>\n",
              "  </thead>\n",
              "  <tbody>\n",
              "    <tr>\n",
              "      <th>0</th>\n",
              "      <td>ARIMA</td>\n",
              "      <td>87843.320857</td>\n",
              "      <td>7716449019.212764</td>\n",
              "      <td>-3.683008</td>\n",
              "      <td>0.579633</td>\n",
              "      <td>14325.988549</td>\n",
              "      <td>81941.772771</td>\n",
              "    </tr>\n",
              "    <tr>\n",
              "      <th>1</th>\n",
              "      <td>LSTM</td>\n",
              "      <td>69919.873304</td>\n",
              "      <td>4888788682.831482</td>\n",
              "      <td>-1.966939</td>\n",
              "      <td>0.370680</td>\n",
              "      <td>1512.984589</td>\n",
              "      <td>57721.488802</td>\n",
              "    </tr>\n",
              "    <tr>\n",
              "      <th>2</th>\n",
              "      <td>Prophet</td>\n",
              "      <td>43899.948364</td>\n",
              "      <td>1927205466.389334</td>\n",
              "      <td>-0.169595</td>\n",
              "      <td>0.263618</td>\n",
              "      <td>29049.164519</td>\n",
              "      <td>34955.776987</td>\n",
              "    </tr>\n",
              "    <tr>\n",
              "      <th>3</th>\n",
              "      <td>GRU</td>\n",
              "      <td>47193.212412</td>\n",
              "      <td>2227199297.770424</td>\n",
              "      <td>-0.351657</td>\n",
              "      <td>0.202026</td>\n",
              "      <td>14380.934570</td>\n",
              "      <td>33904.075195</td>\n",
              "    </tr>\n",
              "    <tr>\n",
              "      <th>4</th>\n",
              "      <td>Xgboost</td>\n",
              "      <td>6029.178383</td>\n",
              "      <td>36350991.974808</td>\n",
              "      <td>0.977939</td>\n",
              "      <td>0.027903</td>\n",
              "      <td>28541.312500</td>\n",
              "      <td>4474.562500</td>\n",
              "    </tr>\n",
              "    <tr>\n",
              "      <th>5</th>\n",
              "      <td>Random_Forest</td>\n",
              "      <td>11258.946628</td>\n",
              "      <td>126763879.182435</td>\n",
              "      <td>0.923069</td>\n",
              "      <td>0.036875</td>\n",
              "      <td>26918.087375</td>\n",
              "      <td>6588.336375</td>\n",
              "    </tr>\n",
              "  </tbody>\n",
              "</table>\n",
              "</div>\n",
              "      <button class=\"colab-df-convert\" onclick=\"convertToInteractive('df-a79b046e-1bb0-4292-97bc-998f232e9076')\"\n",
              "              title=\"Convert this dataframe to an interactive table.\"\n",
              "              style=\"display:none;\">\n",
              "        \n",
              "  <svg xmlns=\"http://www.w3.org/2000/svg\" height=\"24px\"viewBox=\"0 0 24 24\"\n",
              "       width=\"24px\">\n",
              "    <path d=\"M0 0h24v24H0V0z\" fill=\"none\"/>\n",
              "    <path d=\"M18.56 5.44l.94 2.06.94-2.06 2.06-.94-2.06-.94-.94-2.06-.94 2.06-2.06.94zm-11 1L8.5 8.5l.94-2.06 2.06-.94-2.06-.94L8.5 2.5l-.94 2.06-2.06.94zm10 10l.94 2.06.94-2.06 2.06-.94-2.06-.94-.94-2.06-.94 2.06-2.06.94z\"/><path d=\"M17.41 7.96l-1.37-1.37c-.4-.4-.92-.59-1.43-.59-.52 0-1.04.2-1.43.59L10.3 9.45l-7.72 7.72c-.78.78-.78 2.05 0 2.83L4 21.41c.39.39.9.59 1.41.59.51 0 1.02-.2 1.41-.59l7.78-7.78 2.81-2.81c.8-.78.8-2.07 0-2.86zM5.41 20L4 18.59l7.72-7.72 1.47 1.35L5.41 20z\"/>\n",
              "  </svg>\n",
              "      </button>\n",
              "      \n",
              "  <style>\n",
              "    .colab-df-container {\n",
              "      display:flex;\n",
              "      flex-wrap:wrap;\n",
              "      gap: 12px;\n",
              "    }\n",
              "\n",
              "    .colab-df-convert {\n",
              "      background-color: #E8F0FE;\n",
              "      border: none;\n",
              "      border-radius: 50%;\n",
              "      cursor: pointer;\n",
              "      display: none;\n",
              "      fill: #1967D2;\n",
              "      height: 32px;\n",
              "      padding: 0 0 0 0;\n",
              "      width: 32px;\n",
              "    }\n",
              "\n",
              "    .colab-df-convert:hover {\n",
              "      background-color: #E2EBFA;\n",
              "      box-shadow: 0px 1px 2px rgba(60, 64, 67, 0.3), 0px 1px 3px 1px rgba(60, 64, 67, 0.15);\n",
              "      fill: #174EA6;\n",
              "    }\n",
              "\n",
              "    [theme=dark] .colab-df-convert {\n",
              "      background-color: #3B4455;\n",
              "      fill: #D2E3FC;\n",
              "    }\n",
              "\n",
              "    [theme=dark] .colab-df-convert:hover {\n",
              "      background-color: #434B5C;\n",
              "      box-shadow: 0px 1px 3px 1px rgba(0, 0, 0, 0.15);\n",
              "      filter: drop-shadow(0px 1px 2px rgba(0, 0, 0, 0.3));\n",
              "      fill: #FFFFFF;\n",
              "    }\n",
              "  </style>\n",
              "\n",
              "      <script>\n",
              "        const buttonEl =\n",
              "          document.querySelector('#df-a79b046e-1bb0-4292-97bc-998f232e9076 button.colab-df-convert');\n",
              "        buttonEl.style.display =\n",
              "          google.colab.kernel.accessAllowed ? 'block' : 'none';\n",
              "\n",
              "        async function convertToInteractive(key) {\n",
              "          const element = document.querySelector('#df-a79b046e-1bb0-4292-97bc-998f232e9076');\n",
              "          const dataTable =\n",
              "            await google.colab.kernel.invokeFunction('convertToInteractive',\n",
              "                                                     [key], {});\n",
              "          if (!dataTable) return;\n",
              "\n",
              "          const docLinkHtml = 'Like what you see? Visit the ' +\n",
              "            '<a target=\"_blank\" href=https://colab.research.google.com/notebooks/data_table.ipynb>data table notebook</a>'\n",
              "            + ' to learn more about interactive tables.';\n",
              "          element.innerHTML = '';\n",
              "          dataTable['output_type'] = 'display_data';\n",
              "          await google.colab.output.renderOutput(dataTable, element);\n",
              "          const docLink = document.createElement('div');\n",
              "          docLink.innerHTML = docLinkHtml;\n",
              "          element.appendChild(docLink);\n",
              "        }\n",
              "      </script>\n",
              "    </div>\n",
              "  </div>\n",
              "  "
            ],
            "text/plain": [
              "          Models   RMSE Errors         MSE Errors  R2 Errors  MAPE Errors  \\\n",
              "0          ARIMA  87843.320857  7716449019.212764  -3.683008     0.579633   \n",
              "1           LSTM  69919.873304  4888788682.831482  -1.966939     0.370680   \n",
              "2        Prophet  43899.948364  1927205466.389334  -0.169595     0.263618   \n",
              "3            GRU  47193.212412  2227199297.770424  -0.351657     0.202026   \n",
              "4        Xgboost   6029.178383    36350991.974808   0.977939     0.027903   \n",
              "5  Random_Forest  11258.946628   126763879.182435   0.923069     0.036875   \n",
              "\n",
              "     MAD Errors    MAE Errors  \n",
              "0  14325.988549  81941.772771  \n",
              "1   1512.984589  57721.488802  \n",
              "2  29049.164519  34955.776987  \n",
              "3  14380.934570  33904.075195  \n",
              "4  28541.312500   4474.562500  \n",
              "5  26918.087375   6588.336375  "
            ]
          },
          "execution_count": 120,
          "metadata": {},
          "output_type": "execute_result"
        }
      ],
      "source": [
        "total_errors.head(n=6)"
      ]
    },
    {
      "cell_type": "code",
      "execution_count": 122,
      "metadata": {
        "colab": {
          "base_uri": "https://localhost:8080/",
          "height": 537
        },
        "id": "VFjH7ORIkFzz",
        "outputId": "84364acb-68ba-49ae-ff5e-4f9d5a19365e"
      },
      "outputs": [
        {
          "data": {
            "image/png": "[encoded data removed]",
            "text/plain": [
              "<Figure size 1152x648 with 1 Axes>"
            ]
          },
          "metadata": {
            "needs_background": "light"
          },
          "output_type": "display_data"
        }
      ],
      "source": [
        "plt.figure(figsize=(16,9))\n",
        "plt.plot_date(test_data_copy.index, test_data_copy[\"BEVERAGE CLEAR FLAVOUR\"], linestyle=\"-\")\n",
        "plt.plot_date(test_data_copy.index, test_data_copy[\"ARIMA_Predictions\"], linestyle=\"-.\")\n",
        "plt.plot_date(test_data_copy.index, test_data_copy[\"LSTM_Predictions\"], linestyle=\"--\")\n",
        "plt.plot_date(test_data_copy.index, test_data_copy[\"Prophet_Predictions\"], linestyle=\":\")\n",
        "plt.plot_date(test_data_copy.index, test_data_copy[\"GRU_Predictions\"], linestyle=\"-\")\n",
        "plt.plot_date(test_data_copy.index, test_data_copy[\"Xgboost_Predictions\"], linestyle=\"-.\")\n",
        "plt.plot_date(test_data_copy.index, test_data_copy[\"Random_Forest_Predictions\"], linestyle=\"--\")\n",
        "plt.plot_date(test_data_copy.index, test_data_copy[\"MLP_Predictions\"], linestyle=\":\")\n",
        "plt.legend(['BEVERAGE ORANGE FLAVOUR','ARIMA_Predictions','LSTM_Predictions','Prophet_Predictions','GRU_Predictions','Xgboost_Predictions','Random_Forest_Predictions','MLP_Predictions'])\n",
        "plt.show()"
      ]
    },
    {
      "cell_type": "code",
      "execution_count": null,
      "metadata": {
        "id": "RLdoNajOlX_r"
      },
      "outputs": [],
      "source": []
    }
  ],
  "metadata": {
    "accelerator": "GPU",
    "colab": {
      "provenance": []
    },
    "kernelspec": {
      "display_name": "Python 3",
      "name": "python3"
    },
    "language_info": {
      "name": "python"
    }
  },
  "nbformat": 4,
  "nbformat_minor": 0
}
